{
 "cells": [
  {
   "cell_type": "code",
   "execution_count": 4,
   "id": "9d3108df",
   "metadata": {},
   "outputs": [
    {
     "ename": "TypeError",
     "evalue": "Student.__init__() missing 5 required positional arguments: 'ho_ten', 'ngay_sinh', 'que_quan', 'chuyen_nganh', and 'lop'",
     "output_type": "error",
     "traceback": [
      "\u001b[1;31m---------------------------------------------------------------------------\u001b[0m",
      "\u001b[1;31mTypeError\u001b[0m                                 Traceback (most recent call last)",
      "Input \u001b[1;32mIn [4]\u001b[0m, in \u001b[0;36m<cell line: 24>\u001b[1;34m()\u001b[0m\n\u001b[0;32m     21\u001b[0m         \u001b[38;5;28;01mfor\u001b[39;00m i \u001b[38;5;129;01min\u001b[39;00m \u001b[38;5;28mrange\u001b[39m(\u001b[38;5;28mlen\u001b[39m(\u001b[38;5;28mself\u001b[39m\u001b[38;5;241m.\u001b[39mL)):\n\u001b[0;32m     22\u001b[0m             \u001b[38;5;28mprint\u001b[39m(\u001b[38;5;28mself\u001b[39m\u001b[38;5;241m.\u001b[39mL[i]\u001b[38;5;241m.\u001b[39mMSV,\u001b[38;5;28mself\u001b[39m\u001b[38;5;241m.\u001b[39mL[i]\u001b[38;5;241m.\u001b[39mho_ten,\u001b[38;5;28mself\u001b[39m\u001b[38;5;241m.\u001b[39mL[i]\u001b[38;5;241m.\u001b[39mngay_sinh,\u001b[38;5;28mself\u001b[39m\u001b[38;5;241m.\u001b[39mL[i]\u001b[38;5;241m.\u001b[39mque_quan,\u001b[38;5;28mself\u001b[39m\u001b[38;5;241m.\u001b[39mL[i]\u001b[38;5;241m.\u001b[39mchuyen_nganh,\u001b[38;5;28mself\u001b[39m\u001b[38;5;241m.\u001b[39mL[i]\u001b[38;5;241m.\u001b[39mlop)\n\u001b[1;32m---> 24\u001b[0m Lst \u001b[38;5;241m=\u001b[39m \u001b[43mStudent\u001b[49m\u001b[43m(\u001b[49m\u001b[43mL\u001b[49m\u001b[43m)\u001b[49m\n\u001b[0;32m     25\u001b[0m Lst\u001b[38;5;241m.\u001b[39mshow()\n",
      "\u001b[1;31mTypeError\u001b[0m: Student.__init__() missing 5 required positional arguments: 'ho_ten', 'ngay_sinh', 'que_quan', 'chuyen_nganh', and 'lop'"
     ]
    }
   ],
   "source": [
    "class Student:\n",
    "    def __init__(self,MSV,ho_ten,ngay_sinh,que_quan,chuyen_nganh,lop):\n",
    "        self.MSV = MSV\n",
    "        self.ho_ten = ho_ten\n",
    "        self.ngay_sinh = ngay_sinh\n",
    "        self.que_quan = que_quan\n",
    "        self.chuyen_nganh = chuyen_nganh\n",
    "        self.lop = lop\n",
    "        \n",
    "A = Student(11150601,\"Lê Minh Hải\",\"17/09/1993\",\"Nghệ An\",\"Kinh tế đối ngoại\",\"Kinh tế đối ngoại 57C\")\n",
    "B = Student(11150502,\"Nguyên Thị Hà\",\"17/09/1996\",\"Thanh Hoá\",\"Kinh tế quốc tế\",\"Kinh tế quốc tế 60A\")\n",
    "C = Student(11154321,\"Lê Trung Kiên\",\"17/09/1995\",\"Hà Nội\",\"Quản trị kinh doanh\",\"Quản trị kinh doanh 59C\")\n",
    "D = Student(11152241,\"Đặng Mai Trâm\",\"17/09/1994\",\"Hải Phòng\",\"Thương mại quốc tế\",\"Thương mại quốc tế 58A\")\n",
    "E = Student(11153451,\"Nguyễn Quốc Bảo\",\"17/09/1993\",\"Hà Giang\",\"Kinh doanh quốc tế\",\"Kinh doanh quốc tế 57C\")\n",
    "\n",
    "L = [A,B,C,D,E]\n",
    "class Student_List:\n",
    "    def __init__(self,L):\n",
    "        self.L = L\n",
    "        \n",
    "    def show(self):\n",
    "        for i in range(len(self.L)):\n",
    "            print(self.L[i].MSV,self.L[i].ho_ten,self.L[i].ngay_sinh,self.L[i].que_quan,self.L[i].chuyen_nganh,self.L[i].lop)\n",
    "            \n",
    "Lst = Student(L)\n",
    "Lst.show()"
   ]
  },
  {
   "cell_type": "code",
   "execution_count": null,
   "id": "e0bbb6a3",
   "metadata": {},
   "outputs": [],
   "source": []
  }
 ],
 "metadata": {
  "kernelspec": {
   "display_name": "Python 3 (ipykernel)",
   "language": "python",
   "name": "python3"
  },
  "language_info": {
   "codemirror_mode": {
    "name": "ipython",
    "version": 3
   },
   "file_extension": ".py",
   "mimetype": "text/x-python",
   "name": "python",
   "nbconvert_exporter": "python",
   "pygments_lexer": "ipython3",
   "version": "3.10.4"
  }
 },
 "nbformat": 4,
 "nbformat_minor": 5
}

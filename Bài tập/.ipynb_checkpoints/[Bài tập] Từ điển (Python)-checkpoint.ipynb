{
 "cells": [
  {
   "cell_type": "code",
   "execution_count": null,
   "id": "f1109f85",
   "metadata": {},
   "outputs": [],
   "source": [
    "Python_dich = {\"hello\": \"xin chào\",\n",
    "              \"goodbye\": \"tạm biệt\",\n",
    "              \"name\": \"tên\",\n",
    "              \"time\": \"thời gian\",\n",
    "              \"good\": \"tốt\",\n",
    "              \"you\": \"bạn\",\n",
    "              \"I\": \"tôi\",\n",
    "              \"love\": \"yêu\",\n",
    "              \"yes\": \"vâng\",\n",
    "              \"no\": \"không\"}\n",
    "    \n",
    "def Anh_Viet(tu_dien,Anh):\n",
    "    for i in tu_dien:\n",
    "        if i == Anh:\n",
    "            print(i,\":\",tu_dien[i])\n",
    "\n",
    "input_word = input(\"Nhập từ bạn cần dịch: \")\n",
    "if input_word in Python_dich:\n",
    "    Anh_Viet(Python_dich,input_word)\n",
    "else:\n",
    "    print(\"Từ bạn vừa nhập không có trong từ điển\")"
   ]
  }
 ],
 "metadata": {
  "kernelspec": {
   "display_name": "Python 3 (ipykernel)",
   "language": "python",
   "name": "python3"
  },
  "language_info": {
   "codemirror_mode": {
    "name": "ipython",
    "version": 3
   },
   "file_extension": ".py",
   "mimetype": "text/x-python",
   "name": "python",
   "nbconvert_exporter": "python",
   "pygments_lexer": "ipython3",
   "version": "3.10.4"
  }
 },
 "nbformat": 4,
 "nbformat_minor": 5
}

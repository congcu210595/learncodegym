{
 "cells": [
  {
   "cell_type": "code",
   "execution_count": 5,
   "id": "13652001",
   "metadata": {},
   "outputs": [
    {
     "name": "stdout",
     "output_type": "stream",
     "text": [
      "Số USD cần đổi: 10\n",
      "Tỉ giá USD/VND = 23000\n",
      "Số VND cần để đổi là 230000.0\n"
     ]
    }
   ],
   "source": [
    "USD = float(input(\"Số USD cần đổi: \"))\n",
    "p = float(input(\"Tỉ giá USD/VND = \"))\n",
    "VND = p * USD\n",
    "print(\"Số VND cần để đổi là {VND}\".format(VND = VND))"
   ]
  }
 ],
 "metadata": {
  "kernelspec": {
   "display_name": "Python 3 (ipykernel)",
   "language": "python",
   "name": "python3"
  },
  "language_info": {
   "codemirror_mode": {
    "name": "ipython",
    "version": 3
   },
   "file_extension": ".py",
   "mimetype": "text/x-python",
   "name": "python",
   "nbconvert_exporter": "python",
   "pygments_lexer": "ipython3",
   "version": "3.10.4"
  }
 },
 "nbformat": 4,
 "nbformat_minor": 5
}

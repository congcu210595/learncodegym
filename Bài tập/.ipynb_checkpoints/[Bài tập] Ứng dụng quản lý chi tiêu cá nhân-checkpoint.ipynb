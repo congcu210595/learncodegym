{
 "cells": [
  {
   "cell_type": "code",
   "execution_count": 9,
   "id": "c36c88a9",
   "metadata": {},
   "outputs": [
    {
     "name": "stdout",
     "output_type": "stream",
     "text": [
      "Your expenses: [['thuc_an', 30000, 1], ['do_uong', 20000, 1], ['do_xang', 50000, 2]]\n",
      "What do you want to do? -\n",
      "1. Add\n",
      "2. Remove\n",
      "Select option 1 or 2: 1\n",
      "Item name: quan_ao\n",
      "Item cost: 100000\n",
      "Date: 9\n",
      "Your expenses:  [['thuc_an', 30000, 1], ['do_uong', 20000, 1], ['do_xang', 50000, 2], ['quan_ao', 100000, '9']]\n"
     ]
    }
   ],
   "source": [
    "def add_item(myTempList, item):    \n",
    "    myTempList.append(item)\n",
    "    \n",
    "def find_index_item(myTempList, item_name):\n",
    "    result = -1\n",
    "    length = len(myTempList)\n",
    "    for i in range(length):\n",
    "        if myTempList[i][0] == item_name:\n",
    "            result = i\n",
    "    return result\n",
    "\n",
    "def remove_item(myTempList, item_name):\n",
    "    if find_index_item(myTempList, item_name) > -1:\n",
    "        del myTempList[find_index_item(myTempList, item_name)]\n",
    "    else:\n",
    "        print(item_name + \" not in list\")\n",
    "\n",
    "expenses = [[\"thuc_an\",30000,1],[\"do_uong\",20000,1],[\"do_xang\",50000,2]]\n",
    "print(\"Your expenses:\", expenses)\n",
    "print(\"What do you want to do? -\\n\"\\\n",
    "        \"1. Add\\n\" \\\n",
    "        \"2. Remove\")\n",
    "\n",
    "option = int(input(\"Select option 1 or 2: \"))\n",
    "name_input = input(\"Item name: \")\n",
    "\n",
    "if option == 1:\n",
    "    cost_input = int(input(\"Item cost: \"))\n",
    "    date_input = input(\"Date: \")\n",
    "    item = [name_input, cost_input, date_input]\n",
    "    add_item(expenses, item)\n",
    "    print(\"Your expenses: \", expenses)\n",
    "elif option == 2:\n",
    "    remove_item(expenses, name_input)\n",
    "    print(\"Your expenses: \", expenses)\n",
    "else:\n",
    "    print(\"Invalid input\")"
   ]
  }
 ],
 "metadata": {
  "kernelspec": {
   "display_name": "Python 3 (ipykernel)",
   "language": "python",
   "name": "python3"
  },
  "language_info": {
   "codemirror_mode": {
    "name": "ipython",
    "version": 3
   },
   "file_extension": ".py",
   "mimetype": "text/x-python",
   "name": "python",
   "nbconvert_exporter": "python",
   "pygments_lexer": "ipython3",
   "version": "3.10.4"
  }
 },
 "nbformat": 4,
 "nbformat_minor": 5
}

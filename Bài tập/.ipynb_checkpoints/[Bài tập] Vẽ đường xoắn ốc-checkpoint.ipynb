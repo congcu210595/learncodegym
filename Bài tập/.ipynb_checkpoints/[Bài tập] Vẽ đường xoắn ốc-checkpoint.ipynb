{
 "cells": [
  {
   "cell_type": "code",
   "execution_count": 1,
   "id": "7d2bf90b",
   "metadata": {},
   "outputs": [
    {
     "name": "stdout",
     "output_type": "stream",
     "text": [
      "Nhập số a = 100\n"
     ]
    }
   ],
   "source": [
    "import turtle\n",
    "turtle.ht()\n",
    "t = turtle.Turtle()\n",
    "a = float(input(\"Nhập số a = \"))\n",
    "i = 0.5\n",
    "while True:\n",
    "    t.fd(i)\n",
    "    t.lt(1)\n",
    "    i += 0.001\n",
    "    if turtle.distance(t) > a:\n",
    "        break\n"
   ]
  },
  {
   "cell_type": "code",
   "execution_count": null,
   "id": "c9f2f9a2",
   "metadata": {},
   "outputs": [
    {
     "name": "stdout",
     "output_type": "stream",
     "text": [
      "Nhập số a = 200\n"
     ]
    }
   ],
   "source": [
    "import turtle\n",
    "turtle.ht()\n",
    "t = turtle.Turtle()\n",
    "a = float(input(\"Nhập số a = \"))\n",
    "i = 0.5\n",
    "while True:\n",
    "    t.fd(i)\n",
    "    t.lt(1)\n",
    "    i += 0.001\n",
    "    if turtle.distance(t) > a:\n",
    "        break"
   ]
  }
 ],
 "metadata": {
  "kernelspec": {
   "display_name": "Python 3 (ipykernel)",
   "language": "python",
   "name": "python3"
  },
  "language_info": {
   "codemirror_mode": {
    "name": "ipython",
    "version": 3
   },
   "file_extension": ".py",
   "mimetype": "text/x-python",
   "name": "python",
   "nbconvert_exporter": "python",
   "pygments_lexer": "ipython3",
   "version": "3.10.4"
  }
 },
 "nbformat": 4,
 "nbformat_minor": 5
}

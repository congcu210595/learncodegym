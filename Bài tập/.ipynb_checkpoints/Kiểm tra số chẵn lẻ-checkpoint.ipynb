{
 "cells": [
  {
   "cell_type": "code",
   "execution_count": 3,
   "id": "596fe557",
   "metadata": {},
   "outputs": [
    {
     "name": "stdout",
     "output_type": "stream",
     "text": [
      "Số cần kiểm tra: 1\n",
      "số lẻ\n"
     ]
    }
   ],
   "source": [
    "a = float(input(\"Số cần kiểm tra: \"))\n",
    "if a % 2 == 0:\n",
    "    print(\"số chẵn\")\n",
    "elif a % 2 == 1:\n",
    "    print(\"số lẻ\")\n",
    "else:\n",
    "    print(\"Không phải số tự nhiên\")"
   ]
  }
 ],
 "metadata": {
  "kernelspec": {
   "display_name": "Python 3 (ipykernel)",
   "language": "python",
   "name": "python3"
  },
  "language_info": {
   "codemirror_mode": {
    "name": "ipython",
    "version": 3
   },
   "file_extension": ".py",
   "mimetype": "text/x-python",
   "name": "python",
   "nbconvert_exporter": "python",
   "pygments_lexer": "ipython3",
   "version": "3.10.4"
  }
 },
 "nbformat": 4,
 "nbformat_minor": 5
}

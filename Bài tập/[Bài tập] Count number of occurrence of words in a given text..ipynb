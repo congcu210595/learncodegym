{
 "cells": [
  {
   "cell_type": "code",
   "execution_count": 2,
   "id": "1e91ac6c",
   "metadata": {},
   "outputs": [
    {
     "name": "stdout",
     "output_type": "stream",
     "text": [
      "Nhập văn bản bạn cần đếm số từ: - A a a... Anh Tràng! Anh Tràng đã về chúng mày ơi! - Anh Tràng ơi bế em mấy... - Anh Tràng ơi đã uống rượu chưa? - Anh Tràng ơi!... Đứa túm đằng trước, đứa túm đằng sau, đứa cù, đứa kéo, đứa lôi chân không cho đi. Tràng chỉ ngửa mặt lên cười hềnh hệch. Cái xóm ngụ cư tồi tàn ấy mỗi chiều lại xôn xao lên được một lúc. Nhưng độ này thì trẻ con không đứa nào buồn ra đón Tràng nữa, chúng nó ngồi ủ rũ dưới những xó đường không buồn nhúc nhích. Trong bóng chiều nhá nhem, Tràng đi từng bước mệt mỏi, chiếc áo nâu tàng vắt sang một bên cánh tay, cái đầu trọc nhẵn chúi về đằng trước. Hình như những lo lắng, chật vật trong một ngày đè xuống cái lưng to rộng như lưng gấu của hắn. Cái đói đã tràn đến xóm này tự lúc nào. Những gia đình từ những vùng Nam Định, Thái Bình, đội chiếu lũ lượt bồng bế, dắt díu nhau lên xanh xám như những bóng ma, và nằm ngổn ngang khắp lều chợ. Người chết như ngả rạ. Không buổi sáng nào người trong làng đi chợ, đi làm đồng không gặp ba bốn cái thây nằm còng queo bên đường. Không khí vẩn lên mùi ẩm thối của rác rưởi và mùi gây của xác người. Giữa cái cảnh tối sầm lại vì đói khát ấy, một buổi chiều người trong xóm bỗng thấy Tràng về với một người đàn bà nữa. Mặt hắn có một vẻ gì phởn phơ khác thường. Hắn tủm tỉm cười nụ một mình và hai mắt thì sáng lên lấp lánh. Người đàn bà đi sau hắn chừng ba bốn bước. Thị cắp cái thúng con, đầu hơi cúi xuống, cái nón rách tàng nghiêng nghiêng che khuất đi nửa mặt. Thị có vẻ rón rén, e thẹn. Mấy đứa trẻ con thấy lạ vội chạy ra đón xem. Sợ chúng nó đùa như trước, Tràng vội vàng nghiêm nét mặt, lắc đầu ra hiệu không bằng lòng.\n",
      "{'a': 3, 'anh': 5, 'tràng': 10, 'đã': 3, 'về': 3, 'chúng': 3, 'mày': 1, 'ơi': 4, 'bế': 2, 'em': 1, 'mấy': 2, 'uống': 1, 'rượu': 1, 'chưa': 1, 'đứa': 7, 'túm': 2, 'đằng': 3, 'trước': 3, 'sau': 2, 'cù': 1, 'kéo': 1, 'lôi': 1, 'chân': 1, 'không': 7, 'cho': 1, 'đi': 6, 'chỉ': 1, 'ngửa': 1, 'mặt': 4, 'lên': 5, 'cười': 2, 'hềnh': 1, 'hệch': 1, 'cái': 8, 'xóm': 3, 'ngụ': 1, 'cư': 1, 'tồi': 1, 'tàn': 1, 'ấy': 2, 'mỗi': 1, 'chiều': 3, 'lại': 2, 'xôn': 1, 'xao': 1, 'được': 1, 'một': 7, 'lúc': 2, 'nhưng': 1, 'độ': 1, 'này': 2, 'thì': 2, 'trẻ': 2, 'con': 3, 'nào': 3, 'buồn': 2, 'ra': 3, 'đón': 2, 'nữa': 2, 'nó': 2, 'ngồi': 1, 'ủ': 1, 'rũ': 1, 'dưới': 1, 'những': 5, 'xó': 1, 'đường': 2, 'nhúc': 1, 'nhích': 1, 'trong': 4, 'bóng': 2, 'nhá': 1, 'nhem': 1, 'từng': 1, 'bước': 2, 'mệt': 1, 'mỏi': 1, 'chiếc': 1, 'áo': 1, 'nâu': 1, 'tàng': 2, 'vắt': 1, 'sang': 1, 'bên': 2, 'cánh': 1, 'tay': 1, 'đầu': 3, 'trọc': 1, 'nhẵn': 1, 'chúi': 1, 'hình': 1, 'như': 5, 'lo': 1, 'lắng': 1, 'chật': 1, 'vật': 1, 'ngày': 1, 'đè': 1, 'xuống': 2, 'lưng': 2, 'to': 1, 'rộng': 1, 'gấu': 1, 'của': 3, 'hắn': 4, 'đói': 2, 'tràn': 1, 'đến': 1, 'tự': 1, 'gia': 1, 'đình': 1, 'từ': 1, 'vùng': 1, 'nam': 1, 'định': 1, 'thái': 1, 'bình': 1, 'đội': 1, 'chiếu': 1, 'lũ': 1, 'lượt': 1, 'bồng': 1, 'dắt': 1, 'díu': 1, 'nhau': 1, 'xanh': 1, 'xám': 1, 'ma': 1, 'và': 3, 'nằm': 2, 'ngổn': 1, 'ngang': 1, 'khắp': 1, 'lều': 1, 'chợ': 2, 'người': 6, 'chết': 1, 'ngả': 1, 'rạ': 1, 'buổi': 2, 'sáng': 2, 'làng': 1, 'làm': 1, 'đồng': 1, 'gặp': 1, 'ba': 2, 'bốn': 2, 'thây': 1, 'còng': 1, 'queo': 1, 'khí': 1, 'vẩn': 1, 'mùi': 2, 'ẩm': 1, 'thối': 1, 'rác': 1, 'rưởi': 1, 'gây': 1, 'xác': 1, 'giữa': 1, 'cảnh': 1, 'tối': 1, 'sầm': 1, 'vì': 1, 'khát': 1, 'bỗng': 1, 'thấy': 2, 'với': 1, 'đàn': 2, 'bà': 2, 'có': 2, 'vẻ': 2, 'gì': 1, 'phởn': 1, 'phơ': 1, 'khác': 1, 'thường': 1, 'tủm': 1, 'tỉm': 1, 'nụ': 1, 'mình': 1, 'hai': 1, 'mắt': 1, 'lấp': 1, 'lánh': 1, 'chừng': 1, 'thị': 2, 'cắp': 1, 'thúng': 1, 'hơi': 1, 'cúi': 1, 'nón': 1, 'rách': 1, 'nghiêng': 2, 'che': 1, 'khuất': 1, 'nửa': 1, 'rón': 1, 'rén': 1, 'e': 1, 'thẹn': 1, 'lạ': 1, 'vội': 2, 'chạy': 1, 'xem': 1, 'sợ': 1, 'đùa': 1, 'vàng': 1, 'nghiêm': 1, 'nét': 1, 'lắc': 1, 'hiệu': 1, 'bằng': 1, 'lòng': 1}\n"
     ]
    }
   ],
   "source": [
    "def dem_so_tu(van_ban):\n",
    "    van_ban = van_ban.replace(\"!\", \"\")\n",
    "    van_ban = van_ban.replace(\".\", \"\")\n",
    "    van_ban = van_ban.replace(\",\", \"\")\n",
    "    van_ban = van_ban.replace(\"-\", \"\")\n",
    "    van_ban = van_ban.replace(\"?\", \"\")\n",
    "    van_ban = van_ban.split()\n",
    "    D = {}\n",
    "    for i in van_ban:\n",
    "        i = i.lower()\n",
    "        if i not in D:\n",
    "            D[i] = 1\n",
    "        else:\n",
    "            D[i] += 1\n",
    "    print(D)\n",
    "    \n",
    "van_ban_can_dem = input(\"Nhập văn bản bạn cần đếm số từ: \")\n",
    "dem_so_tu(van_ban_can_dem)"
   ]
  }
 ],
 "metadata": {
  "kernelspec": {
   "display_name": "Python 3 (ipykernel)",
   "language": "python",
   "name": "python3"
  },
  "language_info": {
   "codemirror_mode": {
    "name": "ipython",
    "version": 3
   },
   "file_extension": ".py",
   "mimetype": "text/x-python",
   "name": "python",
   "nbconvert_exporter": "python",
   "pygments_lexer": "ipython3",
   "version": "3.10.4"
  }
 },
 "nbformat": 4,
 "nbformat_minor": 5
}

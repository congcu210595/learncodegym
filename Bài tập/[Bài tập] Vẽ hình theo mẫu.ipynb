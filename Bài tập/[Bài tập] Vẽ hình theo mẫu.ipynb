{
 "cells": [
  {
   "cell_type": "code",
   "execution_count": null,
   "id": "2ba3f0d8",
   "metadata": {
    "scrolled": true
   },
   "outputs": [],
   "source": [
    "import turtle\n",
    "t = turtle.Turtle()\n",
    "t.speed(0)\n",
    "t.pensize(2)\n",
    "turtle.bgcolor(\"black\")\n",
    "\n",
    "a = 0\n",
    "while a <= 36:\n",
    "    if a % 6 == 0:\n",
    "        t.pencolor(\"blue\")\n",
    "    if a % 6 == 1:\n",
    "        t.pencolor(\"yellow\")\n",
    "    if a % 6 == 2:\n",
    "        t.pencolor(\"red\")\n",
    "    if a % 6 == 3:\n",
    "        t.pencolor(\"green\")\n",
    "    if a % 6 == 4:\n",
    "        t.pencolor(\"orange\")\n",
    "    if a % 6 == 5:\n",
    "        t.pencolor(\"pink\")\n",
    "    b = 0\n",
    "    while b < 2:\n",
    "        c = 0\n",
    "        while c < 90:\n",
    "            t.fd(2)\n",
    "            t.rt(1)\n",
    "            c += 1\n",
    "        d = 0\n",
    "        while d < 90:\n",
    "            t.fd(1)\n",
    "            t.rt(1)\n",
    "            d += 1\n",
    "        b += 1\n",
    "    t.rt(10)\n",
    "    a += 1"
   ]
  }
 ],
 "metadata": {
  "kernelspec": {
   "display_name": "Python 3 (ipykernel)",
   "language": "python",
   "name": "python3"
  },
  "language_info": {
   "codemirror_mode": {
    "name": "ipython",
    "version": 3
   },
   "file_extension": ".py",
   "mimetype": "text/x-python",
   "name": "python",
   "nbconvert_exporter": "python",
   "pygments_lexer": "ipython3",
   "version": "3.10.4"
  }
 },
 "nbformat": 4,
 "nbformat_minor": 5
}

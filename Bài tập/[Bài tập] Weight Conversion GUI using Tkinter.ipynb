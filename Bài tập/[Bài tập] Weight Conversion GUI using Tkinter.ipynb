{
 "cells": [
  {
   "cell_type": "code",
   "execution_count": 6,
   "id": "c1789e4d",
   "metadata": {},
   "outputs": [],
   "source": [
    "from tkinter import *\n",
    "\n",
    "sc = Tk()\n",
    "sc.title(\"Weight Conversion \")\n",
    "\n",
    "e2_value = StringVar()\n",
    "e3 = StringVar() \n",
    "e4 = StringVar() \n",
    "e5 = StringVar() \n",
    "\n",
    "def nhan_convert():\n",
    "    e3.set(float(e2_value.get())*1000)\n",
    "    e4.set(float(e2_value.get())*2.20462)\n",
    "    e5.set(float(e2_value.get())*35.274)\n",
    "    \n",
    "Label(sc,text = \"Enter the weight in Kg\").grid(row=1, column=1)\n",
    "Entry(sc,textvariable = e2_value).grid(row=1, column=2)\n",
    "Button(sc,text = \"Convert\",command = nhan_convert).grid(row=1, column=3)\n",
    "Label(sc,text = \"Gram\").grid(row=2, column=1)\n",
    "Label(sc,text = \"Pounds\").grid(row=2, column=2)\n",
    "Label(sc,text = \"Ounce\").grid(row=2, column=3)\n",
    "\n",
    "Label(sc,textvariable = e3).grid(row=3, column=1)\n",
    "Label(sc,textvariable = e4).grid(row=3, column=2)\n",
    "Label(sc,textvariable = e5).grid(row=3, column=3)\n",
    "\n",
    "sc.mainloop()"
   ]
  }
 ],
 "metadata": {
  "kernelspec": {
   "display_name": "Python 3 (ipykernel)",
   "language": "python",
   "name": "python3"
  },
  "language_info": {
   "codemirror_mode": {
    "name": "ipython",
    "version": 3
   },
   "file_extension": ".py",
   "mimetype": "text/x-python",
   "name": "python",
   "nbconvert_exporter": "python",
   "pygments_lexer": "ipython3",
   "version": "3.10.4"
  }
 },
 "nbformat": 4,
 "nbformat_minor": 5
}

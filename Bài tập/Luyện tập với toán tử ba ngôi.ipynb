{
 "cells": [
  {
   "cell_type": "code",
   "execution_count": 6,
   "id": "28e4ba1a",
   "metadata": {},
   "outputs": [
    {
     "name": "stdout",
     "output_type": "stream",
     "text": [
      "Số cần kiểm tra : 5\n",
      "số lẻ\n"
     ]
    }
   ],
   "source": [
    "so_can_kiem_tra = int(input(\"Số cần kiểm tra : \"))\n",
    "\n",
    "cau_tra_loi = \"số chẵn\" if so_can_kiem_tra % 2 == 0 else \"số lẻ\"\n",
    "\n",
    "print(cau_tra_loi)"
   ]
  }
 ],
 "metadata": {
  "kernelspec": {
   "display_name": "Python 3 (ipykernel)",
   "language": "python",
   "name": "python3"
  },
  "language_info": {
   "codemirror_mode": {
    "name": "ipython",
    "version": 3
   },
   "file_extension": ".py",
   "mimetype": "text/x-python",
   "name": "python",
   "nbconvert_exporter": "python",
   "pygments_lexer": "ipython3",
   "version": "3.10.4"
  }
 },
 "nbformat": 4,
 "nbformat_minor": 5
}

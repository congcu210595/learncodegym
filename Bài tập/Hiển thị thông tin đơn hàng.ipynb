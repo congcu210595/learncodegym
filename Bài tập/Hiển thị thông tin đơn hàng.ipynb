{
 "cells": [
  {
   "cell_type": "code",
   "execution_count": 4,
   "id": "5b93cd7c",
   "metadata": {},
   "outputs": [
    {
     "name": "stdout",
     "output_type": "stream",
     "text": [
      "Tổng số tiền chưa giảm giá là: 4\n",
      "Tổng số tiền sau khi giảm giá là :  4\n"
     ]
    }
   ],
   "source": [
    "so_tien = int(input(\"Tổng số tiền chưa giảm giá là: \"))\n",
    "if so_tien >= 150:\n",
    "    print(\"Tổng số tiền sau khi giảm giá là : \",so_tien - 50)\n",
    "elif so_tien >= 100:\n",
    "    print(\"Tổng số tiền sau khi giảm giá là : \",so_tien - 25)\n",
    "elif so_tien >= 75:\n",
    "    print(\"Tổng số tiền sau khi giảm giá là : \",so_tien - 15)\n",
    "else:\n",
    "    print(\"Tổng số tiền sau khi giảm giá là : \",so_tien)"
   ]
  }
 ],
 "metadata": {
  "kernelspec": {
   "display_name": "Python 3 (ipykernel)",
   "language": "python",
   "name": "python3"
  },
  "language_info": {
   "codemirror_mode": {
    "name": "ipython",
    "version": 3
   },
   "file_extension": ".py",
   "mimetype": "text/x-python",
   "name": "python",
   "nbconvert_exporter": "python",
   "pygments_lexer": "ipython3",
   "version": "3.10.4"
  }
 },
 "nbformat": 4,
 "nbformat_minor": 5
}

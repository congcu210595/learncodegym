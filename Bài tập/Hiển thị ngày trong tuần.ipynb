{
 "cells": [
  {
   "cell_type": "code",
   "execution_count": 4,
   "id": "9f22c1f0",
   "metadata": {},
   "outputs": [
    {
     "name": "stdout",
     "output_type": "stream",
     "text": [
      "Nhập 1 số từ 1 đến 7: 1\n",
      "Thứ hai\n"
     ]
    }
   ],
   "source": [
    "num = int(input(\"Nhập 1 số từ 1 đến 7: \"))\n",
    "if num == 1:\n",
    "    print(\"Thứ hai\")\n",
    "elif num == 2:\n",
    "    print(\"Thứ ba\")\n",
    "elif num == 3:\n",
    "    print(\"Thứ tư\")\n",
    "elif num == 4:\n",
    "    print(\"Thứ năm\")\n",
    "elif num == 5:\n",
    "    print(\"Thứ sáu\")\n",
    "elif num == 6:\n",
    "    print(\"Thứ bảy\")\n",
    "elif num == 7:\n",
    "    print(\"Chủ nhật\")\n",
    "else:\n",
    "    print(\"Error, out of range\")"
   ]
  }
 ],
 "metadata": {
  "kernelspec": {
   "display_name": "Python 3 (ipykernel)",
   "language": "python",
   "name": "python3"
  },
  "language_info": {
   "codemirror_mode": {
    "name": "ipython",
    "version": 3
   },
   "file_extension": ".py",
   "mimetype": "text/x-python",
   "name": "python",
   "nbconvert_exporter": "python",
   "pygments_lexer": "ipython3",
   "version": "3.10.4"
  }
 },
 "nbformat": 4,
 "nbformat_minor": 5
}

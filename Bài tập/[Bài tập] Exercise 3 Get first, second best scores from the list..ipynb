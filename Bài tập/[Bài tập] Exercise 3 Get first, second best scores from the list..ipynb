{
 "cells": [
  {
   "cell_type": "code",
   "execution_count": 3,
   "id": "a34880e1",
   "metadata": {},
   "outputs": [
    {
     "name": "stdout",
     "output_type": "stream",
     "text": [
      "Hai số lớn nhất trong list là:  61 54\n"
     ]
    }
   ],
   "source": [
    "lst = [61,54,6,2,54,5,2,1]\n",
    "lst.sort()\n",
    "so_lon_nhat = lst[-1]\n",
    "so_lon_nhi = lst[-2]\n",
    "print(\"Hai số lớn nhất trong list là: \",so_lon_nhat,so_lon_nhi)"
   ]
  }
 ],
 "metadata": {
  "kernelspec": {
   "display_name": "Python 3 (ipykernel)",
   "language": "python",
   "name": "python3"
  },
  "language_info": {
   "codemirror_mode": {
    "name": "ipython",
    "version": 3
   },
   "file_extension": ".py",
   "mimetype": "text/x-python",
   "name": "python",
   "nbconvert_exporter": "python",
   "pygments_lexer": "ipython3",
   "version": "3.10.4"
  }
 },
 "nbformat": 4,
 "nbformat_minor": 5
}

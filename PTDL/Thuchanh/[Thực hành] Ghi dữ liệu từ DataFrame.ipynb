{
 "cells": [
  {
   "cell_type": "code",
   "execution_count": 11,
   "id": "a90a4856",
   "metadata": {},
   "outputs": [],
   "source": [
    "import pandas as pd\n",
    "df=pd.read_csv(filepath_or_buffer = 'FoodPrice_in_Turkey.csv', sep = ',')\n",
    "df.head()\n",
    "\n",
    "df.to_csv('demo_FoodPrice.csv')\n",
    "df.to_excel('demo_FoodPrice.xlsx')\n",
    "df.to_json('demo_FoodPrice.json',orient='columns')\n",
    "df.to_hdf('demo_FoodPrice.h5', 'table')\n",
    "df.to_html('demo_FoodPrice.html')"
   ]
  }
 ],
 "metadata": {
  "kernelspec": {
   "display_name": "Python 3 (ipykernel)",
   "language": "python",
   "name": "python3"
  },
  "language_info": {
   "codemirror_mode": {
    "name": "ipython",
    "version": 3
   },
   "file_extension": ".py",
   "mimetype": "text/x-python",
   "name": "python",
   "nbconvert_exporter": "python",
   "pygments_lexer": "ipython3",
   "version": "3.10.4"
  }
 },
 "nbformat": 4,
 "nbformat_minor": 5
}

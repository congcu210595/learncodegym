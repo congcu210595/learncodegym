{
 "cells": [
  {
   "cell_type": "code",
   "execution_count": 5,
   "id": "b3aea8c0",
   "metadata": {},
   "outputs": [
    {
     "name": "stdout",
     "output_type": "stream",
     "text": [
      "<class 'pandas.core.frame.DataFrame'>\n",
      "RangeIndex: 541909 entries, 0 to 541908\n",
      "Data columns (total 8 columns):\n",
      " #   Column       Non-Null Count   Dtype  \n",
      "---  ------       --------------   -----  \n",
      " 0   InvoiceNo    541909 non-null  object \n",
      " 1   StockCode    541909 non-null  object \n",
      " 2   Description  540455 non-null  object \n",
      " 3   Quantity     541909 non-null  int64  \n",
      " 4   InvoiceDate  541909 non-null  object \n",
      " 5   UnitPrice    541909 non-null  float64\n",
      " 6   CustomerID   406829 non-null  float64\n",
      " 7   Country      541909 non-null  object \n",
      "dtypes: float64(2), int64(1), object(5)\n",
      "memory usage: 33.1+ MB\n",
      "None\n",
      "Dữ liệu có 541909 dòng và 8 cột\n",
      "InvoiceNo,StockCode,Description,InvoiceDate,Country là kiểu dữ liệu object, UnitPrice và CustomerID là kiểu số thực,Quantity là kiểu số nguyên\n"
     ]
    }
   ],
   "source": [
    "import pandas as pd\n",
    "df=pd.read_csv('OnlineRetail.csv')\n",
    "print(df.info())\n",
    "print('Dữ liệu có 541909 dòng và 8 cột')\n",
    "print('InvoiceNo,StockCode,Description,InvoiceDate,Country là kiểu dữ liệu object, UnitPrice và CustomerID là kiểu số thực,Quantity là kiểu số nguyên')"
   ]
  },
  {
   "cell_type": "code",
   "execution_count": 6,
   "id": "e124861a",
   "metadata": {},
   "outputs": [],
   "source": [
    "df.loc[:,['Description','Quantity']].to_csv('OnlineRetail2.csv')"
   ]
  },
  {
   "cell_type": "code",
   "execution_count": 9,
   "id": "1e78a105",
   "metadata": {},
   "outputs": [],
   "source": [
    "df.loc[:1000,:].to_excel('OnlineRetail2.xlsx')"
   ]
  },
  {
   "cell_type": "code",
   "execution_count": 10,
   "id": "870327f0",
   "metadata": {},
   "outputs": [
    {
     "name": "stderr",
     "output_type": "stream",
     "text": [
      "C:\\Users\\congc\\AppData\\Local\\Temp\\ipykernel_11088\\69426714.py:1: PerformanceWarning: \n",
      "your performance may suffer as PyTables will pickle object types that it cannot\n",
      "map directly to c-types [inferred_type->mixed,key->block2_values] [items->Index(['InvoiceNo', 'StockCode', 'Description', 'InvoiceDate', 'Country'], dtype='object')]\n",
      "\n",
      "  df.loc[df.Quantity >= 10].to_hdf('OnlineRetail2.h5', 'table')\n"
     ]
    }
   ],
   "source": [
    "df.loc[df.Quantity >= 10].to_hdf('OnlineRetail2.h5', 'table')"
   ]
  },
  {
   "cell_type": "code",
   "execution_count": 12,
   "id": "ac2a47a1",
   "metadata": {},
   "outputs": [],
   "source": [
    "df.loc[1000:2000,['Quantity','InvoiceDate','UnitPrice']].to_json('OnlineRetail2.json',orient='columns')"
   ]
  },
  {
   "cell_type": "code",
   "execution_count": 13,
   "id": "53a922b5",
   "metadata": {},
   "outputs": [],
   "source": [
    "df.loc[df.InvoiceNo == '536365'].to_html('OnlineRetail2.html')"
   ]
  }
 ],
 "metadata": {
  "kernelspec": {
   "display_name": "Python 3 (ipykernel)",
   "language": "python",
   "name": "python3"
  },
  "language_info": {
   "codemirror_mode": {
    "name": "ipython",
    "version": 3
   },
   "file_extension": ".py",
   "mimetype": "text/x-python",
   "name": "python",
   "nbconvert_exporter": "python",
   "pygments_lexer": "ipython3",
   "version": "3.10.4"
  }
 },
 "nbformat": 4,
 "nbformat_minor": 5
}

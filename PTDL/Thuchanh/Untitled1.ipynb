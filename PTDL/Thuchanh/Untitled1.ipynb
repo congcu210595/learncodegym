{
 "cells": [
  {
   "cell_type": "code",
   "execution_count": 9,
   "id": "15b36f7a",
   "metadata": {},
   "outputs": [
    {
     "name": "stdout",
     "output_type": "stream",
     "text": [
      "0.000363\n",
      "14000000000.0\n",
      "0        (1000.0, 10000.0]\n",
      "1                      NaN\n",
      "2                      NaN\n",
      "3                      NaN\n",
      "4                      NaN\n",
      "               ...        \n",
      "62842    (1000.0, 10000.0]\n",
      "62843    (1000.0, 10000.0]\n",
      "62844                  NaN\n",
      "62845    (1000.0, 10000.0]\n",
      "62846    (1000.0, 10000.0]\n",
      "Name: gia, Length: 62847, dtype: category\n",
      "Categories (3, interval[int64, right]): [(100, 500] < (500, 1000] < (1000, 10000]]\n",
      "<class 'pandas.core.frame.DataFrame'>\n",
      "RangeIndex: 62847 entries, 0 to 62846\n",
      "Data columns (total 25 columns):\n",
      " #   Column            Non-Null Count  Dtype  \n",
      "---  ------            --------------  -----  \n",
      " 0   Unnamed: 0        62847 non-null  int64  \n",
      " 1   dien_tich         62430 non-null  float64\n",
      " 2   huong_ban_cong    799 non-null    object \n",
      " 3   phong_ngu         36779 non-null  float64\n",
      " 4   id_thanh_pho      62847 non-null  object \n",
      " 5   ten_thanh_pho     62847 non-null  object \n",
      " 6   id_quan           62846 non-null  object \n",
      " 7   ten_quan          62846 non-null  object \n",
      " 8   so_tang           46737 non-null  float64\n",
      " 9   mat_tien          17404 non-null  float64\n",
      " 10  noi_that          5091 non-null   object \n",
      " 11  huong_nha         6981 non-null   object \n",
      " 12  so_do             39574 non-null  object \n",
      " 13  lat               62803 non-null  float64\n",
      " 14  long              62803 non-null  float64\n",
      " 15  gia               60958 non-null  float64\n",
      " 16  gia_m2            60750 non-null  float64\n",
      " 17  du_an             227 non-null    object \n",
      " 18  project_name      227 non-null    object \n",
      " 19  id_duong          60554 non-null  object \n",
      " 20  ten_duong         60554 non-null  object \n",
      " 21  do_rong_duong     15188 non-null  float64\n",
      " 22  do_rong_duong_ml  60067 non-null  object \n",
      " 23  id_phuong         57015 non-null  object \n",
      " 24  ten_phuong        57010 non-null  object \n",
      "dtypes: float64(9), int64(1), object(15)\n",
      "memory usage: 12.0+ MB\n",
      "None\n"
     ]
    }
   ],
   "source": [
    "import pandas as pd\n",
    "import numpy as np\n",
    "\n",
    "df = pd.read_csv('RoadSurfaceHouseTrading.csv')\n",
    "print(df.gia.min())\n",
    "print(df.gia.max())\n",
    "bins = [100, 500, 1000, 10000]\n",
    "cats = pd.cut(df.gia, bins)\n",
    "print(cats)\n",
    "print(df.info())"
   ]
  }
 ],
 "metadata": {
  "kernelspec": {
   "display_name": "Python 3 (ipykernel)",
   "language": "python",
   "name": "python3"
  },
  "language_info": {
   "codemirror_mode": {
    "name": "ipython",
    "version": 3
   },
   "file_extension": ".py",
   "mimetype": "text/x-python",
   "name": "python",
   "nbconvert_exporter": "python",
   "pygments_lexer": "ipython3",
   "version": "3.10.4"
  }
 },
 "nbformat": 4,
 "nbformat_minor": 5
}

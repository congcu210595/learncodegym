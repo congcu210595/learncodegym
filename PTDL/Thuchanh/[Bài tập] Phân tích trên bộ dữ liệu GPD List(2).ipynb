{
 "cells": [
  {
   "cell_type": "code",
   "execution_count": 2,
   "id": "7961b8f1",
   "metadata": {},
   "outputs": [
    {
     "name": "stdout",
     "output_type": "stream",
     "text": [
      "<class 'pandas.core.frame.DataFrame'>\n",
      "RangeIndex: 125 entries, 0 to 124\n",
      "Data columns (total 3 columns):\n",
      " #   Column                 Non-Null Count  Dtype \n",
      "---  ------                 --------------  ----- \n",
      " 0   Country                125 non-null    object\n",
      " 1   Continent              125 non-null    object\n",
      " 2   GDP (millions of US$)  125 non-null    int64 \n",
      "dtypes: int64(1), object(2)\n",
      "memory usage: 3.1+ KB\n",
      "None\n",
      "Dữ liệu có 125 hàng và 3 cột, Country và Continent kiểu dữ liệu object, GDP (millions of US$) là kiểu dữ liệu số nguyên\n"
     ]
    }
   ],
   "source": [
    "import pandas as pd\n",
    "df = pd.read_csv('GDPlist.csv',encoding = 'ISO-8859-1')\n",
    "print(df.info())\n",
    "print('Dữ liệu có 125 hàng và 3 cột, Country và Continent kiểu dữ liệu object, GDP (millions of US$) là kiểu dữ liệu số nguyên')"
   ]
  },
  {
   "cell_type": "code",
   "execution_count": 3,
   "id": "6e9ceeee",
   "metadata": {},
   "outputs": [
    {
     "name": "stdout",
     "output_type": "stream",
     "text": [
      "GTLN của GDP là 15094025\n",
      "GTNN của GDP là 10600\n"
     ]
    }
   ],
   "source": [
    "print('GTLN của GDP là', df.iloc[:,2].max())\n",
    "print('GTNN của GDP là', df.iloc[:,2].min())"
   ]
  },
  {
   "cell_type": "code",
   "execution_count": 4,
   "id": "9af7c25e",
   "metadata": {},
   "outputs": [
    {
     "name": "stdout",
     "output_type": "stream",
     "text": [
      "GT trung bình của GDP là 555427.784\n",
      "GT trung vị của GDP là 96089.0\n",
      "GT trung bình của GDP lớn hơn GT trung vị của GDP nên dữ liệu GDP có phân bố lệch phải\n",
      "       GDP (millions of US$)\n",
      "count           1.250000e+02\n",
      "mean            5.554278e+05\n",
      "std             1.649266e+06\n",
      "min             1.060000e+04\n",
      "25%             2.574200e+04\n",
      "50%             9.608900e+04\n",
      "75%             3.332380e+05\n",
      "max             1.509402e+07\n"
     ]
    }
   ],
   "source": [
    "print('GT trung bình của GDP là', df.iloc[:,2].mean())\n",
    "print('GT trung vị của GDP là', df.iloc[:,2].median())\n",
    "print('GT trung bình của GDP lớn hơn GT trung vị của GDP nên dữ liệu GDP có phân bố lệch phải')\n",
    "print(df.describe())"
   ]
  },
  {
   "cell_type": "code",
   "execution_count": 36,
   "id": "1cdcd424",
   "metadata": {},
   "outputs": [
    {
     "name": "stdout",
     "output_type": "stream",
     "text": [
      "Continent\n",
      "Africa           29\n",
      "Asia             36\n",
      "Europe           37\n",
      "North America    11\n",
      "Oceania           3\n",
      "South America     9\n",
      "Name: Country, dtype: int64\n",
      "Châu lục xuất hiện nhiều nhất là châu Âu với 37 lần\n"
     ]
    }
   ],
   "source": [
    "print(df.groupby('Continent')['Country'].count())\n",
    "print('Châu lục xuất hiện nhiều nhất là châu Âu với 37 lần')"
   ]
  },
  {
   "cell_type": "code",
   "execution_count": 56,
   "id": "5bc89dfa",
   "metadata": {},
   "outputs": [
    {
     "name": "stdout",
     "output_type": "stream",
     "text": [
      "Tổng GDP theo từng châu lục là: \n",
      "               Tổng GDP\n",
      "Continent              \n",
      "Africa          1820811\n",
      "Asia           24425891\n",
      "Europe         19139380\n",
      "North America  18238447\n",
      "Oceania         1662727\n",
      "South America   4141217\n"
     ]
    }
   ],
   "source": [
    "df1 = df.groupby(by = 'Continent').agg({'GDP (millions of US$)': 'sum'})\n",
    "df1.rename(columns = {'GDP (millions of US$)':'Tổng GDP'},inplace = True)\n",
    "print('Tổng GDP theo từng châu lục là: ')\n",
    "print(df1)"
   ]
  },
  {
   "cell_type": "code",
   "execution_count": 60,
   "id": "430c45b6",
   "metadata": {},
   "outputs": [
    {
     "name": "stdout",
     "output_type": "stream",
     "text": [
      "Trung bình cộng GDP theo từng châu lục là: \n",
      "               Trung bình GDP\n",
      "Continent                    \n",
      "Africa           6.278659e+04\n",
      "Asia             6.784970e+05\n",
      "Europe           5.172805e+05\n",
      "North America    1.658041e+06\n",
      "Oceania          5.542423e+05\n",
      "South America    4.601352e+05\n"
     ]
    }
   ],
   "source": [
    "df2 = df.groupby(by = 'Continent').agg({'GDP (millions of US$)': 'mean'})\n",
    "df2.rename(columns = {'GDP (millions of US$)':'Trung bình GDP'},inplace = True)\n",
    "print('Trung bình cộng GDP theo từng châu lục là: ')\n",
    "print(df2)\n"
   ]
  },
  {
   "cell_type": "code",
   "execution_count": 58,
   "id": "c3321646",
   "metadata": {},
   "outputs": [
    {
     "name": "stdout",
     "output_type": "stream",
     "text": [
      "               Tổng GDP  Trung bình GDP\n",
      "Continent                              \n",
      "Africa          1820811    6.278659e+04\n",
      "Asia           24425891    6.784970e+05\n",
      "Europe         19139380    5.172805e+05\n",
      "North America  18238447    1.658041e+06\n",
      "Oceania         1662727    5.542423e+05\n",
      "South America   4141217    4.601352e+05\n"
     ]
    }
   ],
   "source": [
    "df3 = pd.concat([df1,df2], axis=1)\n",
    "print(df3)"
   ]
  }
 ],
 "metadata": {
  "kernelspec": {
   "display_name": "Python 3 (ipykernel)",
   "language": "python",
   "name": "python3"
  },
  "language_info": {
   "codemirror_mode": {
    "name": "ipython",
    "version": 3
   },
   "file_extension": ".py",
   "mimetype": "text/x-python",
   "name": "python",
   "nbconvert_exporter": "python",
   "pygments_lexer": "ipython3",
   "version": "3.10.4"
  }
 },
 "nbformat": 4,
 "nbformat_minor": 5
}

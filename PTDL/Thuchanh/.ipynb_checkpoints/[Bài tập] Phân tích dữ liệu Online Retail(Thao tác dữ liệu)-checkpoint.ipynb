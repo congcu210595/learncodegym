{
 "cells": [
  {
   "cell_type": "code",
   "execution_count": 12,
   "id": "5897dc98",
   "metadata": {
    "scrolled": true
   },
   "outputs": [
    {
     "name": "stdout",
     "output_type": "stream",
     "text": [
      "<class 'pandas.core.frame.DataFrame'>\n",
      "RangeIndex: 541909 entries, 0 to 541908\n",
      "Data columns (total 8 columns):\n",
      " #   Column       Non-Null Count   Dtype  \n",
      "---  ------       --------------   -----  \n",
      " 0   InvoiceNo    541909 non-null  object \n",
      " 1   StockCode    541909 non-null  object \n",
      " 2   Description  540455 non-null  object \n",
      " 3   Quantity     541909 non-null  int64  \n",
      " 4   InvoiceDate  541909 non-null  object \n",
      " 5   UnitPrice    541909 non-null  float64\n",
      " 6   CustomerID   406829 non-null  float64\n",
      " 7   Country      541909 non-null  object \n",
      "dtypes: float64(2), int64(1), object(5)\n",
      "memory usage: 33.1+ MB\n",
      "None\n",
      "Dữ liệu có 541909 dòng và 8 cột\n",
      "InvoiceNo, StockCode, Description, InvoiceDate, Country là kiểu dữ liệu object, Quantity là kiểu số nguyên, CustomerID và UnitPrice là kiểu số thực\n"
     ]
    }
   ],
   "source": [
    "import pandas as pd\n",
    "import numpy as np\n",
    "\n",
    "df = pd.read_csv('OnlineRetail.csv')\n",
    "print(df.info())\n",
    "print('Dữ liệu có 541909 dòng và 8 cột')\n",
    "print('InvoiceNo, StockCode, Description, InvoiceDate, Country là kiểu dữ liệu object, Quantity là kiểu số nguyên, CustomerID và UnitPrice là kiểu số thực')"
   ]
  },
  {
   "cell_type": "code",
   "execution_count": 13,
   "id": "60a6d6dd",
   "metadata": {},
   "outputs": [
    {
     "name": "stdout",
     "output_type": "stream",
     "text": [
      "       InvoiceNo StockCode                          Description  Quantity  \\\n",
      "0         536365    85123A   WHITE HANGING HEART T-LIGHT HOLDER         6   \n",
      "1         536365     71053                  WHITE METAL LANTERN         6   \n",
      "2         536365    84406B       CREAM CUPID HEARTS COAT HANGER         8   \n",
      "3         536365    84029G  KNITTED UNION FLAG HOT WATER BOTTLE         6   \n",
      "4         536365    84029E       RED WOOLLY HOTTIE WHITE HEART.         6   \n",
      "...          ...       ...                                  ...       ...   \n",
      "541904    581587     22613          PACK OF 20 SPACEBOY NAPKINS        12   \n",
      "541905    581587     22899         CHILDREN'S APRON DOLLY GIRL          6   \n",
      "541906    581587     23254        CHILDRENS CUTLERY DOLLY GIRL          4   \n",
      "541907    581587     23255      CHILDRENS CUTLERY CIRCUS PARADE         4   \n",
      "541908    581587     22138        BAKING SET 9 PIECE RETROSPOT          3   \n",
      "\n",
      "            InvoiceDate  UnitPrice  CustomerID         Country Month Previous  \n",
      "0        12/1/2010 8:26       2.55     17850.0  United Kingdom    12        4  \n",
      "1        12/1/2010 8:26       3.39     17850.0  United Kingdom    12        4  \n",
      "2        12/1/2010 8:26       2.75     17850.0  United Kingdom    12        4  \n",
      "3        12/1/2010 8:26       3.39     17850.0  United Kingdom    12        4  \n",
      "4        12/1/2010 8:26       3.39     17850.0  United Kingdom    12        4  \n",
      "...                 ...        ...         ...             ...   ...      ...  \n",
      "541904  12/9/2011 12:50       0.85     12680.0          France    12        4  \n",
      "541905  12/9/2011 12:50       2.10     12680.0          France    12        4  \n",
      "541906  12/9/2011 12:50       4.15     12680.0          France    12        4  \n",
      "541907  12/9/2011 12:50       4.15     12680.0          France    12        4  \n",
      "541908  12/9/2011 12:50       4.95     12680.0          France    12        4  \n",
      "\n",
      "[541909 rows x 10 columns]\n"
     ]
    }
   ],
   "source": [
    "#Tạo cột mới có tên quý –  ‘Previous’\n",
    "df['Month'] = df['InvoiceDate'].str.split('/').str[0]\n",
    "conditions = [(df['Month'] == '1') | (df['Month'] == '2') | (df['Month'] == '3'),\n",
    "             (df['Month'] == '4') | (df['Month'] == '5') | (df['Month'] == '6'),\n",
    "             (df['Month'] == '7') | (df['Month'] == '8') | (df['Month'] == '9'),\n",
    "             (df['Month'] == '10') | (df['Month'] == '11') | (df['Month'] == '12')]\n",
    "choices = ['1','2','3','4']\n",
    "df['Previous'] = np.select(conditions, choices, default = 'NaN')\n",
    "print(df)"
   ]
  },
  {
   "cell_type": "code",
   "execution_count": 14,
   "id": "f78992d2",
   "metadata": {},
   "outputs": [
    {
     "name": "stdout",
     "output_type": "stream",
     "text": [
      "       InvoiceNo StockCode                          Description  Quantity  \\\n",
      "0         536365    85123A   WHITE HANGING HEART T-LIGHT HOLDER         6   \n",
      "1         536365     71053                  WHITE METAL LANTERN         6   \n",
      "2         536365    84406B       CREAM CUPID HEARTS COAT HANGER         8   \n",
      "3         536365    84029G  KNITTED UNION FLAG HOT WATER BOTTLE         6   \n",
      "4         536365    84029E       RED WOOLLY HOTTIE WHITE HEART.         6   \n",
      "...          ...       ...                                  ...       ...   \n",
      "541904    581587     22613          PACK OF 20 SPACEBOY NAPKINS        12   \n",
      "541905    581587     22899         CHILDREN'S APRON DOLLY GIRL          6   \n",
      "541906    581587     23254        CHILDRENS CUTLERY DOLLY GIRL          4   \n",
      "541907    581587     23255      CHILDRENS CUTLERY CIRCUS PARADE         4   \n",
      "541908    581587     22138        BAKING SET 9 PIECE RETROSPOT          3   \n",
      "\n",
      "            InvoiceDate  UnitPrice  CustomerID         Country Month Previous  \\\n",
      "0        12/1/2010 8:26       2.55     17850.0  United Kingdom    12        4   \n",
      "1        12/1/2010 8:26       3.39     17850.0  United Kingdom    12        4   \n",
      "2        12/1/2010 8:26       2.75     17850.0  United Kingdom    12        4   \n",
      "3        12/1/2010 8:26       3.39     17850.0  United Kingdom    12        4   \n",
      "4        12/1/2010 8:26       3.39     17850.0  United Kingdom    12        4   \n",
      "...                 ...        ...         ...             ...   ...      ...   \n",
      "541904  12/9/2011 12:50       0.85     12680.0          France    12        4   \n",
      "541905  12/9/2011 12:50       2.10     12680.0          France    12        4   \n",
      "541906  12/9/2011 12:50       4.15     12680.0          France    12        4   \n",
      "541907  12/9/2011 12:50       4.15     12680.0          France    12        4   \n",
      "541908  12/9/2011 12:50       4.95     12680.0          France    12        4   \n",
      "\n",
      "        Amount  \n",
      "0        15.30  \n",
      "1        20.34  \n",
      "2        22.00  \n",
      "3        20.34  \n",
      "4        20.34  \n",
      "...        ...  \n",
      "541904   10.20  \n",
      "541905   12.60  \n",
      "541906   16.60  \n",
      "541907   16.60  \n",
      "541908   14.85  \n",
      "\n",
      "[541909 rows x 11 columns]\n"
     ]
    }
   ],
   "source": [
    "#Tạo một cột mới có tên ‘Amount’ có giá trị bằng Quantity * UnitPrice\n",
    "df['Amount'] = df['Quantity'] * df['UnitPrice']\n",
    "print(df)"
   ]
  },
  {
   "cell_type": "code",
   "execution_count": 15,
   "id": "d5124de2",
   "metadata": {},
   "outputs": [
    {
     "name": "stdout",
     "output_type": "stream",
     "text": [
      "       InvoiceNo StockCode                          Description  Quantity  \\\n",
      "0         536365    85123A   WHITE HANGING HEART T-LIGHT HOLDER         6   \n",
      "1         536365     71053                  WHITE METAL LANTERN         6   \n",
      "2         536365    84406B       CREAM CUPID HEARTS COAT HANGER         8   \n",
      "3         536365    84029G  KNITTED UNION FLAG HOT WATER BOTTLE         6   \n",
      "4         536365    84029E       RED WOOLLY HOTTIE WHITE HEART.         6   \n",
      "...          ...       ...                                  ...       ...   \n",
      "541904    581587     22613          PACK OF 20 SPACEBOY NAPKINS        12   \n",
      "541905    581587     22899         CHILDREN'S APRON DOLLY GIRL          6   \n",
      "541906    581587     23254        CHILDRENS CUTLERY DOLLY GIRL          4   \n",
      "541907    581587     23255      CHILDRENS CUTLERY CIRCUS PARADE         4   \n",
      "541908    581587     22138        BAKING SET 9 PIECE RETROSPOT          3   \n",
      "\n",
      "            InvoiceDate  UnitPrice  CustomerID         Country Month Previous  \\\n",
      "0        12/1/2010 8:26       2.55     17850.0  United Kingdom    12        4   \n",
      "1        12/1/2010 8:26       3.39     17850.0  United Kingdom    12        4   \n",
      "2        12/1/2010 8:26       2.75     17850.0  United Kingdom    12        4   \n",
      "3        12/1/2010 8:26       3.39     17850.0  United Kingdom    12        4   \n",
      "4        12/1/2010 8:26       3.39     17850.0  United Kingdom    12        4   \n",
      "...                 ...        ...         ...             ...   ...      ...   \n",
      "541904  12/9/2011 12:50       0.85     12680.0          France    12        4   \n",
      "541905  12/9/2011 12:50       2.10     12680.0          France    12        4   \n",
      "541906  12/9/2011 12:50       4.15     12680.0          France    12        4   \n",
      "541907  12/9/2011 12:50       4.15     12680.0          France    12        4   \n",
      "541908  12/9/2011 12:50       4.95     12680.0          France    12        4   \n",
      "\n",
      "        Amount  Discount  \n",
      "0        15.30      0.10  \n",
      "1        20.34      0.10  \n",
      "2        22.00      0.10  \n",
      "3        20.34      0.10  \n",
      "4        20.34      0.10  \n",
      "...        ...       ...  \n",
      "541904   10.20      0.05  \n",
      "541905   12.60      0.05  \n",
      "541906   16.60      0.05  \n",
      "541907   16.60      0.05  \n",
      "541908   14.85      0.05  \n",
      "\n",
      "[541909 rows x 12 columns]\n"
     ]
    }
   ],
   "source": [
    "#Tạo cột mới ‘Discount’ nhận giá trị 10% nếu Country là ‘United Kingdom’ và thuộc quý 4, 5% nếu là ‘France’ ngược lại là 0%.\n",
    "conditions_1 = [df['Country'] == 'United Kingdom',\n",
    "                df['Country'] == 'France']\n",
    "choices_1 = [0.1,0.05]\n",
    "df['Discount'] = np.select(conditions_1, choices_1, default = 0)\n",
    "print(df)"
   ]
  },
  {
   "cell_type": "code",
   "execution_count": 16,
   "id": "da493cd7",
   "metadata": {},
   "outputs": [
    {
     "name": "stdout",
     "output_type": "stream",
     "text": [
      "       InvoiceNo StockCode                          Description  Quantity  \\\n",
      "0         536365    85123A   WHITE HANGING HEART T-LIGHT HOLDER         6   \n",
      "1         536365     71053                  WHITE METAL LANTERN         6   \n",
      "2         536365    84406B       CREAM CUPID HEARTS COAT HANGER         8   \n",
      "3         536365    84029G  KNITTED UNION FLAG HOT WATER BOTTLE         6   \n",
      "4         536365    84029E       RED WOOLLY HOTTIE WHITE HEART.         6   \n",
      "...          ...       ...                                  ...       ...   \n",
      "541904    581587     22613          PACK OF 20 SPACEBOY NAPKINS        12   \n",
      "541905    581587     22899         CHILDREN'S APRON DOLLY GIRL          6   \n",
      "541906    581587     23254        CHILDRENS CUTLERY DOLLY GIRL          4   \n",
      "541907    581587     23255      CHILDRENS CUTLERY CIRCUS PARADE         4   \n",
      "541908    581587     22138        BAKING SET 9 PIECE RETROSPOT          3   \n",
      "\n",
      "            InvoiceDate  UnitPrice  CustomerID         Country Month Previous  \\\n",
      "0        12/1/2010 8:26       2.55     17850.0  United Kingdom    12        4   \n",
      "1        12/1/2010 8:26       3.39     17850.0  United Kingdom    12        4   \n",
      "2        12/1/2010 8:26       2.75     17850.0  United Kingdom    12        4   \n",
      "3        12/1/2010 8:26       3.39     17850.0  United Kingdom    12        4   \n",
      "4        12/1/2010 8:26       3.39     17850.0  United Kingdom    12        4   \n",
      "...                 ...        ...         ...             ...   ...      ...   \n",
      "541904  12/9/2011 12:50       0.85     12680.0          France    12        4   \n",
      "541905  12/9/2011 12:50       2.10     12680.0          France    12        4   \n",
      "541906  12/9/2011 12:50       4.15     12680.0          France    12        4   \n",
      "541907  12/9/2011 12:50       4.15     12680.0          France    12        4   \n",
      "541908  12/9/2011 12:50       4.95     12680.0          France    12        4   \n",
      "\n",
      "        Amount  Discount    Total  \n",
      "0        15.30      0.10  13.7700  \n",
      "1        20.34      0.10  18.3060  \n",
      "2        22.00      0.10  19.8000  \n",
      "3        20.34      0.10  18.3060  \n",
      "4        20.34      0.10  18.3060  \n",
      "...        ...       ...      ...  \n",
      "541904   10.20      0.05   9.6900  \n",
      "541905   12.60      0.05  11.9700  \n",
      "541906   16.60      0.05  15.7700  \n",
      "541907   16.60      0.05  15.7700  \n",
      "541908   14.85      0.05  14.1075  \n",
      "\n",
      "[541909 rows x 13 columns]\n"
     ]
    }
   ],
   "source": [
    "#Tạo cột mới ‘Total’ nhận giá trị bằng: Amount – Discount.\n",
    "df['Total'] = df['Amount'] - df['Amount']*df['Discount'] \n",
    "print(df)"
   ]
  }
 ],
 "metadata": {
  "kernelspec": {
   "display_name": "Python 3 (ipykernel)",
   "language": "python",
   "name": "python3"
  },
  "language_info": {
   "codemirror_mode": {
    "name": "ipython",
    "version": 3
   },
   "file_extension": ".py",
   "mimetype": "text/x-python",
   "name": "python",
   "nbconvert_exporter": "python",
   "pygments_lexer": "ipython3",
   "version": "3.10.4"
  }
 },
 "nbformat": 4,
 "nbformat_minor": 5
}

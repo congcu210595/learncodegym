{
 "cells": [
  {
   "cell_type": "code",
   "execution_count": 1,
   "id": "4aa7b66c",
   "metadata": {},
   "outputs": [
    {
     "data": {
      "text/html": [
       "<div>\n",
       "<style scoped>\n",
       "    .dataframe tbody tr th:only-of-type {\n",
       "        vertical-align: middle;\n",
       "    }\n",
       "\n",
       "    .dataframe tbody tr th {\n",
       "        vertical-align: top;\n",
       "    }\n",
       "\n",
       "    .dataframe thead th {\n",
       "        text-align: right;\n",
       "    }\n",
       "</style>\n",
       "<table border=\"1\" class=\"dataframe\">\n",
       "  <thead>\n",
       "    <tr style=\"text-align: right;\">\n",
       "      <th></th>\n",
       "      <th>beta</th>\n",
       "      <th>exponential</th>\n",
       "      <th>normal_p</th>\n",
       "      <th>normal_l</th>\n",
       "      <th>bimodal</th>\n",
       "    </tr>\n",
       "  </thead>\n",
       "  <tbody>\n",
       "    <tr>\n",
       "      <th>0</th>\n",
       "      <td>40.660375</td>\n",
       "      <td>24.049784</td>\n",
       "      <td>13.299879</td>\n",
       "      <td>1.390578</td>\n",
       "      <td>18.402797</td>\n",
       "    </tr>\n",
       "    <tr>\n",
       "      <th>1</th>\n",
       "      <td>44.507595</td>\n",
       "      <td>2.550159</td>\n",
       "      <td>3.675120</td>\n",
       "      <td>18.442766</td>\n",
       "      <td>16.335674</td>\n",
       "    </tr>\n",
       "    <tr>\n",
       "      <th>2</th>\n",
       "      <td>35.131276</td>\n",
       "      <td>0.985139</td>\n",
       "      <td>11.772823</td>\n",
       "      <td>8.148101</td>\n",
       "      <td>19.320439</td>\n",
       "    </tr>\n",
       "    <tr>\n",
       "      <th>3</th>\n",
       "      <td>41.957994</td>\n",
       "      <td>5.712244</td>\n",
       "      <td>8.877620</td>\n",
       "      <td>14.635096</td>\n",
       "      <td>17.937815</td>\n",
       "    </tr>\n",
       "    <tr>\n",
       "      <th>4</th>\n",
       "      <td>57.251329</td>\n",
       "      <td>0.851253</td>\n",
       "      <td>12.203403</td>\n",
       "      <td>7.893756</td>\n",
       "      <td>20.103397</td>\n",
       "    </tr>\n",
       "  </tbody>\n",
       "</table>\n",
       "</div>"
      ],
      "text/plain": [
       "        beta  exponential   normal_p   normal_l    bimodal\n",
       "0  40.660375    24.049784  13.299879   1.390578  18.402797\n",
       "1  44.507595     2.550159   3.675120  18.442766  16.335674\n",
       "2  35.131276     0.985139  11.772823   8.148101  19.320439\n",
       "3  41.957994     5.712244   8.877620  14.635096  17.937815\n",
       "4  57.251329     0.851253  12.203403   7.893756  20.103397"
      ]
     },
     "execution_count": 1,
     "metadata": {},
     "output_type": "execute_result"
    }
   ],
   "source": [
    "import pandas as pd\n",
    "import numpy as np\n",
    "import matplotlib.pyplot as plt\n",
    "import seaborn as sns\n",
    "from sklearn.preprocessing import RobustScaler\n",
    "\n",
    "# tạo các cột theo các phần phối khác nhau\n",
    "df = pd.DataFrame({ \n",
    "    'beta': np.random.beta(5, 1, 1000) * 60,        # beta\n",
    "    'exponential': np.random.exponential(10, 1000), # exponential\n",
    "    'normal_p': np.random.normal(10, 2, 1000),      # normal platykurtic\n",
    "    'normal_l': np.random.normal(10, 10, 1000),     # normal leptokurtic\n",
    "})\n",
    "\n",
    "# thêm dữ liệu được tạo theo phân phối nhị thức\n",
    "first_half = np.random.normal(20, 3, 500) \n",
    "second_half = np.random.normal(-20, 3, 500) \n",
    "bimodal = np.concatenate([first_half, second_half])\n",
    "\n",
    "df['bimodal'] = bimodal\n",
    "\n",
    "# hiển thị dữ liệu\n",
    "df.head()"
   ]
  },
  {
   "cell_type": "code",
   "execution_count": 2,
   "id": "5b71cc5d",
   "metadata": {},
   "outputs": [
    {
     "data": {
      "text/plain": [
       "<AxesSubplot:ylabel='Density'>"
      ]
     },
     "execution_count": 2,
     "metadata": {},
     "output_type": "execute_result"
    },
    {
     "data": {
      "image/png": "[encoded data removed]",
      "text/plain": [
       "<Figure size 432x288 with 1 Axes>"
      ]
     },
     "metadata": {
      "needs_background": "light"
     },
     "output_type": "display_data"
    }
   ],
   "source": [
    "sns.kdeplot(data=df)"
   ]
  },
  {
   "cell_type": "code",
   "execution_count": 3,
   "id": "b8015d00",
   "metadata": {},
   "outputs": [
    {
     "data": {
      "text/html": [
       "<div>\n",
       "<style scoped>\n",
       "    .dataframe tbody tr th:only-of-type {\n",
       "        vertical-align: middle;\n",
       "    }\n",
       "\n",
       "    .dataframe tbody tr th {\n",
       "        vertical-align: top;\n",
       "    }\n",
       "\n",
       "    .dataframe thead th {\n",
       "        text-align: right;\n",
       "    }\n",
       "</style>\n",
       "<table border=\"1\" class=\"dataframe\">\n",
       "  <thead>\n",
       "    <tr style=\"text-align: right;\">\n",
       "      <th></th>\n",
       "      <th>beta</th>\n",
       "      <th>exponential</th>\n",
       "      <th>normal_p</th>\n",
       "      <th>normal_l</th>\n",
       "      <th>bimodal</th>\n",
       "    </tr>\n",
       "  </thead>\n",
       "  <tbody>\n",
       "    <tr>\n",
       "      <th>count</th>\n",
       "      <td>1000.000000</td>\n",
       "      <td>1000.000000</td>\n",
       "      <td>1000.000000</td>\n",
       "      <td>1000.000000</td>\n",
       "      <td>1000.000000</td>\n",
       "    </tr>\n",
       "    <tr>\n",
       "      <th>mean</th>\n",
       "      <td>49.844506</td>\n",
       "      <td>10.328204</td>\n",
       "      <td>10.052424</td>\n",
       "      <td>9.668908</td>\n",
       "      <td>-0.067232</td>\n",
       "    </tr>\n",
       "    <tr>\n",
       "      <th>std</th>\n",
       "      <td>8.454986</td>\n",
       "      <td>10.265769</td>\n",
       "      <td>1.995092</td>\n",
       "      <td>9.929338</td>\n",
       "      <td>20.208804</td>\n",
       "    </tr>\n",
       "    <tr>\n",
       "      <th>min</th>\n",
       "      <td>16.185808</td>\n",
       "      <td>0.001711</td>\n",
       "      <td>3.675120</td>\n",
       "      <td>-21.296637</td>\n",
       "      <td>-28.607541</td>\n",
       "    </tr>\n",
       "    <tr>\n",
       "      <th>25%</th>\n",
       "      <td>44.925243</td>\n",
       "      <td>3.245490</td>\n",
       "      <td>8.745976</td>\n",
       "      <td>2.873306</td>\n",
       "      <td>-20.042819</td>\n",
       "    </tr>\n",
       "    <tr>\n",
       "      <th>50%</th>\n",
       "      <td>51.757266</td>\n",
       "      <td>7.389910</td>\n",
       "      <td>10.075644</td>\n",
       "      <td>10.000887</td>\n",
       "      <td>0.006093</td>\n",
       "    </tr>\n",
       "    <tr>\n",
       "      <th>75%</th>\n",
       "      <td>56.799076</td>\n",
       "      <td>14.573785</td>\n",
       "      <td>11.344314</td>\n",
       "      <td>16.588087</td>\n",
       "      <td>19.861781</td>\n",
       "    </tr>\n",
       "    <tr>\n",
       "      <th>max</th>\n",
       "      <td>59.986755</td>\n",
       "      <td>94.936138</td>\n",
       "      <td>16.406219</td>\n",
       "      <td>39.160360</td>\n",
       "      <td>29.404532</td>\n",
       "    </tr>\n",
       "  </tbody>\n",
       "</table>\n",
       "</div>"
      ],
      "text/plain": [
       "              beta  exponential     normal_p     normal_l      bimodal\n",
       "count  1000.000000  1000.000000  1000.000000  1000.000000  1000.000000\n",
       "mean     49.844506    10.328204    10.052424     9.668908    -0.067232\n",
       "std       8.454986    10.265769     1.995092     9.929338    20.208804\n",
       "min      16.185808     0.001711     3.675120   -21.296637   -28.607541\n",
       "25%      44.925243     3.245490     8.745976     2.873306   -20.042819\n",
       "50%      51.757266     7.389910    10.075644    10.000887     0.006093\n",
       "75%      56.799076    14.573785    11.344314    16.588087    19.861781\n",
       "max      59.986755    94.936138    16.406219    39.160360    29.404532"
      ]
     },
     "execution_count": 3,
     "metadata": {},
     "output_type": "execute_result"
    }
   ],
   "source": [
    "df.describe()"
   ]
  },
  {
   "cell_type": "code",
   "execution_count": 4,
   "id": "af94bae5",
   "metadata": {},
   "outputs": [
    {
     "data": {
      "text/plain": [
       "<AxesSubplot:ylabel='Density'>"
      ]
     },
     "execution_count": 4,
     "metadata": {},
     "output_type": "execute_result"
    },
    {
     "data": {
      "image/png": "[encoded data removed]",
      "text/plain": [
       "<Figure size 432x288 with 1 Axes>"
      ]
     },
     "metadata": {
      "needs_background": "light"
     },
     "output_type": "display_data"
    }
   ],
   "source": [
    "normal_big = np.random.normal(1000000, 10000, (1000,1))  # normal distribution of large values\n",
    "df['normal_big'] = normal_big\n",
    "sns.kdeplot(data=df)"
   ]
  },
  {
   "cell_type": "code",
   "execution_count": 5,
   "id": "936432f6",
   "metadata": {},
   "outputs": [
    {
     "data": {
      "text/plain": [
       "<AxesSubplot:>"
      ]
     },
     "execution_count": 5,
     "metadata": {},
     "output_type": "execute_result"
    },
    {
     "data": {
      "image/png": "[encoded data removed]",
      "text/plain": [
       "<Figure size 432x288 with 1 Axes>"
      ]
     },
     "metadata": {
      "needs_background": "light"
     },
     "output_type": "display_data"
    }
   ],
   "source": [
    "# trực quan hóa bằng biểu đồ box plot\n",
    "df.boxplot()"
   ]
  },
  {
   "cell_type": "code",
   "execution_count": 6,
   "id": "208b924b",
   "metadata": {},
   "outputs": [
    {
     "data": {
      "text/html": [
       "<div>\n",
       "<style scoped>\n",
       "    .dataframe tbody tr th:only-of-type {\n",
       "        vertical-align: middle;\n",
       "    }\n",
       "\n",
       "    .dataframe tbody tr th {\n",
       "        vertical-align: top;\n",
       "    }\n",
       "\n",
       "    .dataframe thead th {\n",
       "        text-align: right;\n",
       "    }\n",
       "</style>\n",
       "<table border=\"1\" class=\"dataframe\">\n",
       "  <thead>\n",
       "    <tr style=\"text-align: right;\">\n",
       "      <th></th>\n",
       "      <th>beta</th>\n",
       "      <th>exponential</th>\n",
       "      <th>normal_p</th>\n",
       "      <th>normal_l</th>\n",
       "      <th>bimodal</th>\n",
       "      <th>normal_big</th>\n",
       "    </tr>\n",
       "  </thead>\n",
       "  <tbody>\n",
       "    <tr>\n",
       "      <th>0</th>\n",
       "      <td>-0.934567</td>\n",
       "      <td>1.470643</td>\n",
       "      <td>1.240883</td>\n",
       "      <td>-0.627812</td>\n",
       "      <td>0.461017</td>\n",
       "      <td>-0.638755</td>\n",
       "    </tr>\n",
       "    <tr>\n",
       "      <th>1</th>\n",
       "      <td>-0.610559</td>\n",
       "      <td>-0.427227</td>\n",
       "      <td>-2.463314</td>\n",
       "      <td>0.615531</td>\n",
       "      <td>0.409216</td>\n",
       "      <td>0.310827</td>\n",
       "    </tr>\n",
       "    <tr>\n",
       "      <th>2</th>\n",
       "      <td>-1.400221</td>\n",
       "      <td>-0.565378</td>\n",
       "      <td>0.653178</td>\n",
       "      <td>-0.135094</td>\n",
       "      <td>0.484013</td>\n",
       "      <td>0.891963</td>\n",
       "    </tr>\n",
       "    <tr>\n",
       "      <th>3</th>\n",
       "      <td>-0.825283</td>\n",
       "      <td>-0.148095</td>\n",
       "      <td>-0.461073</td>\n",
       "      <td>0.337899</td>\n",
       "      <td>0.449365</td>\n",
       "      <td>-0.142944</td>\n",
       "    </tr>\n",
       "    <tr>\n",
       "      <th>4</th>\n",
       "      <td>0.462703</td>\n",
       "      <td>-0.577197</td>\n",
       "      <td>0.818892</td>\n",
       "      <td>-0.153639</td>\n",
       "      <td>0.503634</td>\n",
       "      <td>-0.013633</td>\n",
       "    </tr>\n",
       "  </tbody>\n",
       "</table>\n",
       "</div>"
      ],
      "text/plain": [
       "       beta  exponential  normal_p  normal_l   bimodal  normal_big\n",
       "0 -0.934567     1.470643  1.240883 -0.627812  0.461017   -0.638755\n",
       "1 -0.610559    -0.427227 -2.463314  0.615531  0.409216    0.310827\n",
       "2 -1.400221    -0.565378  0.653178 -0.135094  0.484013    0.891963\n",
       "3 -0.825283    -0.148095 -0.461073  0.337899  0.449365   -0.142944\n",
       "4  0.462703    -0.577197  0.818892 -0.153639  0.503634   -0.013633"
      ]
     },
     "execution_count": 6,
     "metadata": {},
     "output_type": "execute_result"
    }
   ],
   "source": [
    "# Khai báo đối tượng MinMaxScaler\n",
    "scaler = RobustScaler()\n",
    "\n",
    "# Chuẩn hóa dữ liệu trong df với StandardScaler\n",
    "df_s = scaler.fit_transform(df)\n",
    "\n",
    "# lấy danh sáchc cột\n",
    "col_names = list(df.columns)\n",
    "\n",
    "# chuyển về DataFrame, gán các cột của df cho dữ liệu đã được chuẩn hóa\n",
    "df_s = pd.DataFrame(df_s, columns=col_names)\n",
    "\n",
    "df_s.head()"
   ]
  },
  {
   "cell_type": "code",
   "execution_count": 7,
   "id": "6f3b5691",
   "metadata": {},
   "outputs": [
    {
     "data": {
      "text/plain": [
       "<AxesSubplot:ylabel='Density'>"
      ]
     },
     "execution_count": 7,
     "metadata": {},
     "output_type": "execute_result"
    },
    {
     "data": {
      "image/png": "[encoded data removed]",
      "text/plain": [
       "<Figure size 432x288 with 1 Axes>"
      ]
     },
     "metadata": {
      "needs_background": "light"
     },
     "output_type": "display_data"
    }
   ],
   "source": [
    "# biểu diễn dữ liệu đã được chuẩn hóa\n",
    "sns.kdeplot(data=df_s)"
   ]
  },
  {
   "cell_type": "code",
   "execution_count": 8,
   "id": "843f1a82",
   "metadata": {},
   "outputs": [
    {
     "data": {
      "text/html": [
       "<div>\n",
       "<style scoped>\n",
       "    .dataframe tbody tr th:only-of-type {\n",
       "        vertical-align: middle;\n",
       "    }\n",
       "\n",
       "    .dataframe tbody tr th {\n",
       "        vertical-align: top;\n",
       "    }\n",
       "\n",
       "    .dataframe thead th {\n",
       "        text-align: right;\n",
       "    }\n",
       "</style>\n",
       "<table border=\"1\" class=\"dataframe\">\n",
       "  <thead>\n",
       "    <tr style=\"text-align: right;\">\n",
       "      <th></th>\n",
       "      <th>beta</th>\n",
       "      <th>exponential</th>\n",
       "      <th>normal_p</th>\n",
       "      <th>normal_l</th>\n",
       "      <th>bimodal</th>\n",
       "      <th>normal_big</th>\n",
       "    </tr>\n",
       "  </thead>\n",
       "  <tbody>\n",
       "    <tr>\n",
       "      <th>count</th>\n",
       "      <td>1000.000000</td>\n",
       "      <td>1000.000000</td>\n",
       "      <td>1.000000e+03</td>\n",
       "      <td>1000.000000</td>\n",
       "      <td>1000.000000</td>\n",
       "      <td>1000.000000</td>\n",
       "    </tr>\n",
       "    <tr>\n",
       "      <th>mean</th>\n",
       "      <td>-0.161090</td>\n",
       "      <td>0.259377</td>\n",
       "      <td>-8.936348e-03</td>\n",
       "      <td>-0.024206</td>\n",
       "      <td>-0.001838</td>\n",
       "      <td>-0.003170</td>\n",
       "    </tr>\n",
       "    <tr>\n",
       "      <th>std</th>\n",
       "      <td>0.712069</td>\n",
       "      <td>0.906206</td>\n",
       "      <td>7.678340e-01</td>\n",
       "      <td>0.723988</td>\n",
       "      <td>0.506428</td>\n",
       "      <td>0.718225</td>\n",
       "    </tr>\n",
       "    <tr>\n",
       "      <th>min</th>\n",
       "      <td>-2.995786</td>\n",
       "      <td>-0.652190</td>\n",
       "      <td>-2.463314e+00</td>\n",
       "      <td>-2.282029</td>\n",
       "      <td>-0.717051</td>\n",
       "      <td>-2.170847</td>\n",
       "    </tr>\n",
       "    <tr>\n",
       "      <th>25%</th>\n",
       "      <td>-0.575385</td>\n",
       "      <td>-0.365847</td>\n",
       "      <td>-5.117379e-01</td>\n",
       "      <td>-0.519701</td>\n",
       "      <td>-0.502421</td>\n",
       "      <td>-0.512524</td>\n",
       "    </tr>\n",
       "    <tr>\n",
       "      <th>50%</th>\n",
       "      <td>0.000000</td>\n",
       "      <td>0.000000</td>\n",
       "      <td>-3.417405e-16</td>\n",
       "      <td>0.000000</td>\n",
       "      <td>0.000000</td>\n",
       "      <td>0.000000</td>\n",
       "    </tr>\n",
       "    <tr>\n",
       "      <th>75%</th>\n",
       "      <td>0.424615</td>\n",
       "      <td>0.634153</td>\n",
       "      <td>4.882621e-01</td>\n",
       "      <td>0.480299</td>\n",
       "      <td>0.497579</td>\n",
       "      <td>0.487476</td>\n",
       "    </tr>\n",
       "    <tr>\n",
       "      <th>max</th>\n",
       "      <td>0.693078</td>\n",
       "      <td>7.728103</td>\n",
       "      <td>2.436394e+00</td>\n",
       "      <td>2.126135</td>\n",
       "      <td>0.736718</td>\n",
       "      <td>2.995584</td>\n",
       "    </tr>\n",
       "  </tbody>\n",
       "</table>\n",
       "</div>"
      ],
      "text/plain": [
       "              beta  exponential      normal_p     normal_l      bimodal  \\\n",
       "count  1000.000000  1000.000000  1.000000e+03  1000.000000  1000.000000   \n",
       "mean     -0.161090     0.259377 -8.936348e-03    -0.024206    -0.001838   \n",
       "std       0.712069     0.906206  7.678340e-01     0.723988     0.506428   \n",
       "min      -2.995786    -0.652190 -2.463314e+00    -2.282029    -0.717051   \n",
       "25%      -0.575385    -0.365847 -5.117379e-01    -0.519701    -0.502421   \n",
       "50%       0.000000     0.000000 -3.417405e-16     0.000000     0.000000   \n",
       "75%       0.424615     0.634153  4.882621e-01     0.480299     0.497579   \n",
       "max       0.693078     7.728103  2.436394e+00     2.126135     0.736718   \n",
       "\n",
       "        normal_big  \n",
       "count  1000.000000  \n",
       "mean     -0.003170  \n",
       "std       0.718225  \n",
       "min      -2.170847  \n",
       "25%      -0.512524  \n",
       "50%       0.000000  \n",
       "75%       0.487476  \n",
       "max       2.995584  "
      ]
     },
     "execution_count": 8,
     "metadata": {},
     "output_type": "execute_result"
    }
   ],
   "source": [
    "# thống kê về dữ liệu được sinh ra\n",
    "df_s.describe()"
   ]
  },
  {
   "cell_type": "code",
   "execution_count": 9,
   "id": "c851440d",
   "metadata": {},
   "outputs": [
    {
     "data": {
      "text/plain": [
       "<AxesSubplot:>"
      ]
     },
     "execution_count": 9,
     "metadata": {},
     "output_type": "execute_result"
    },
    {
     "data": {
      "image/png": "[encoded data removed]",
      "text/plain": [
       "<Figure size 432x288 with 1 Axes>"
      ]
     },
     "metadata": {
      "needs_background": "light"
     },
     "output_type": "display_data"
    }
   ],
   "source": [
    "df_s.boxplot()"
   ]
  },
  {
   "cell_type": "code",
   "execution_count": 10,
   "id": "52731eea",
   "metadata": {},
   "outputs": [
    {
     "data": {
      "text/plain": [
       "[-2.9957857575035636,\n",
       " -0.6521898719533487,\n",
       " -2.463314479146776,\n",
       " -2.2820288102268185,\n",
       " -0.7170510193534707,\n",
       " -2.170847335002795]"
      ]
     },
     "execution_count": 10,
     "metadata": {},
     "output_type": "execute_result"
    }
   ],
   "source": [
    "# lấy các giá trị min ở mỗi cột\n",
    "mins = [df_s[col].min() for col in df_s.columns]\n",
    "mins"
   ]
  },
  {
   "cell_type": "code",
   "execution_count": 11,
   "id": "2b9dde93",
   "metadata": {},
   "outputs": [
    {
     "data": {
      "text/plain": [
       "[0.6930776978645906,\n",
       " 7.728103052861819,\n",
       " 2.4363938158341485,\n",
       " 2.1261348476376978,\n",
       " 0.7367180642974964,\n",
       " 2.9955836318396907]"
      ]
     },
     "execution_count": 11,
     "metadata": {},
     "output_type": "execute_result"
    }
   ],
   "source": [
    "# lấy giá trị max ở mỗi cột\n",
    "maxs = [df_s[col].max() for col in df_s.columns]\n",
    "maxs"
   ]
  },
  {
   "cell_type": "code",
   "execution_count": 12,
   "id": "6bd3ab67",
   "metadata": {},
   "outputs": [
    {
     "data": {
      "text/plain": [
       "array([5.17572665e+01, 7.38990999e+00, 1.00756441e+01, 1.00008871e+01,\n",
       "       6.09272977e-03, 1.00049914e+06])"
      ]
     },
     "execution_count": 12,
     "metadata": {},
     "output_type": "execute_result"
    }
   ],
   "source": [
    "# giá trị trung vị của các đặc trưng của tập dữ liệu gốc\n",
    "scaler.center_"
   ]
  }
 ],
 "metadata": {
  "kernelspec": {
   "display_name": "Python 3 (ipykernel)",
   "language": "python",
   "name": "python3"
  },
  "language_info": {
   "codemirror_mode": {
    "name": "ipython",
    "version": 3
   },
   "file_extension": ".py",
   "mimetype": "text/x-python",
   "name": "python",
   "nbconvert_exporter": "python",
   "pygments_lexer": "ipython3",
   "version": "3.10.4"
  }
 },
 "nbformat": 4,
 "nbformat_minor": 5
}

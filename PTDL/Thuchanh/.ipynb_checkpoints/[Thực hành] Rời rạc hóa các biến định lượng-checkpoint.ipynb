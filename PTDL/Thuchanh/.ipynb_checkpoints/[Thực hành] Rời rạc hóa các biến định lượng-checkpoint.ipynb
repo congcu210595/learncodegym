{
 "cells": [
  {
   "cell_type": "code",
   "execution_count": 1,
   "id": "0316bd49",
   "metadata": {},
   "outputs": [
    {
     "name": "stdout",
     "output_type": "stream",
     "text": [
      "[(18, 25], (18, 25], (18, 25], (25, 35], (18, 25], ..., (25, 35], (60, 100], (35, 60], (35, 60], (25, 35]]\n",
      "Length: 12\n",
      "Categories (4, interval[int64, right]): [(18, 25] < (25, 35] < (35, 60] < (60, 100]]\n"
     ]
    }
   ],
   "source": [
    "import pandas as pd\n",
    "import numpy as np\n",
    "\n",
    "ages = [20, 22, 25, 27, 21, 23, 37, 31, 61, 45, 41, 32]\n",
    "\n",
    "# định nghĩa khoảng giá trị các nhóm\n",
    "bins = [18, 25, 35, 60, 100]\n",
    "\n",
    "# thực hiện rời rạc hóa\n",
    "cats = pd.cut(ages, bins)\n",
    "print(cats)"
   ]
  },
  {
   "cell_type": "code",
   "execution_count": 2,
   "id": "b2da4293",
   "metadata": {},
   "outputs": [
    {
     "data": {
      "text/plain": [
       "array([0, 0, 0, 1, 0, 0, 2, 1, 3, 2, 2, 1], dtype=int8)"
      ]
     },
     "execution_count": 2,
     "metadata": {},
     "output_type": "execute_result"
    }
   ],
   "source": [
    "# lấy ra index của nhóm tương ứng với các phần tử\n",
    "cats.codes"
   ]
  },
  {
   "cell_type": "code",
   "execution_count": 3,
   "id": "afa33e84",
   "metadata": {},
   "outputs": [
    {
     "data": {
      "text/plain": [
       "IntervalIndex([(18, 25], (25, 35], (35, 60], (60, 100]], dtype='interval[int64, right]')"
      ]
     },
     "execution_count": 3,
     "metadata": {},
     "output_type": "execute_result"
    }
   ],
   "source": [
    "# lấy ra các nhóm\n",
    "cats.categories"
   ]
  },
  {
   "cell_type": "code",
   "execution_count": 4,
   "id": "ea1feb53",
   "metadata": {},
   "outputs": [
    {
     "data": {
      "text/plain": [
       "(18, 25]     5\n",
       "(25, 35]     3\n",
       "(35, 60]     3\n",
       "(60, 100]    1\n",
       "dtype: int64"
      ]
     },
     "execution_count": 4,
     "metadata": {},
     "output_type": "execute_result"
    }
   ],
   "source": [
    "# thống kê số lượng phần tử ở mỗi nhóm\n",
    "pd.value_counts(cats)"
   ]
  },
  {
   "cell_type": "code",
   "execution_count": 5,
   "id": "e895e4b5",
   "metadata": {},
   "outputs": [
    {
     "data": {
      "text/plain": [
       "[[18, 26), [18, 26), [18, 26), [26, 36), [18, 26), ..., [26, 36), [61, 100), [36, 61), [36, 61), [26, 36)]\n",
       "Length: 12\n",
       "Categories (4, interval[int64, left]): [[18, 26) < [26, 36) < [36, 61) < [61, 100)]"
      ]
     },
     "execution_count": 5,
     "metadata": {},
     "output_type": "execute_result"
    }
   ],
   "source": [
    "pd.cut(ages, [18, 26, 36, 61, 100], right=False)"
   ]
  },
  {
   "cell_type": "code",
   "execution_count": 6,
   "id": "fea949a7",
   "metadata": {},
   "outputs": [
    {
     "data": {
      "text/plain": [
       "['Youth', 'Youth', 'Youth', 'YoungAdult', 'Youth', ..., 'YoungAdult', 'Senior', 'MiddleAged', 'MiddleAged', 'YoungAdult']\n",
       "Length: 12\n",
       "Categories (4, object): ['Youth' < 'YoungAdult' < 'MiddleAged' < 'Senior']"
      ]
     },
     "execution_count": 6,
     "metadata": {},
     "output_type": "execute_result"
    }
   ],
   "source": [
    "# danh sách nhãn\n",
    "group_names = ['Youth', 'YoungAdult', 'MiddleAged', 'Senior']\n",
    "\n",
    "pd.cut(ages, bins, labels=group_names)"
   ]
  },
  {
   "cell_type": "code",
   "execution_count": 7,
   "id": "9d5153a1",
   "metadata": {},
   "outputs": [
    {
     "data": {
      "text/plain": [
       "[(0.68, 0.88], (0.079, 0.28], (0.079, 0.28], (0.079, 0.28], (0.68, 0.88], ..., (0.28, 0.48], (0.28, 0.48], (0.28, 0.48], (0.48, 0.68], (0.079, 0.28]]\n",
       "Length: 20\n",
       "Categories (4, interval[float64, right]): [(0.079, 0.28] < (0.28, 0.48] < (0.48, 0.68] < (0.68, 0.88]]"
      ]
     },
     "execution_count": 7,
     "metadata": {},
     "output_type": "execute_result"
    }
   ],
   "source": [
    "# sinh dữ liệu ngẫu nhiên gồm 20 phần tử\n",
    "data = np.random.rand(20)\n",
    "cut_data = pd.cut(data, 4, precision=2)\n",
    "cut_data"
   ]
  },
  {
   "cell_type": "code",
   "execution_count": 8,
   "id": "a228ea1a",
   "metadata": {},
   "outputs": [
    {
     "data": {
      "text/plain": [
       "(0.079, 0.28]    6\n",
       "(0.28, 0.48]     5\n",
       "(0.48, 0.68]     5\n",
       "(0.68, 0.88]     4\n",
       "dtype: int64"
      ]
     },
     "execution_count": 8,
     "metadata": {},
     "output_type": "execute_result"
    }
   ],
   "source": [
    "pd.value_counts(cut_data)"
   ]
  },
  {
   "cell_type": "code",
   "execution_count": 9,
   "id": "d2893e34",
   "metadata": {},
   "outputs": [
    {
     "data": {
      "text/plain": [
       "[(-0.695, -0.0225], (-3.098, -0.695], (-3.098, -0.695], (-3.098, -0.695], (-3.098, -0.695], ..., (-0.695, -0.0225], (-0.0225, 0.655], (-0.0225, 0.655], (-0.0225, 0.655], (-0.695, -0.0225]]\n",
       "Length: 1000\n",
       "Categories (4, interval[float64, right]): [(-3.098, -0.695] < (-0.695, -0.0225] < (-0.0225, 0.655] < (0.655, 3.033]]"
      ]
     },
     "execution_count": 9,
     "metadata": {},
     "output_type": "execute_result"
    }
   ],
   "source": [
    " # sinh ngẫu nhiễn 1000 điểm dữ liệu\n",
    "data = np.random.randn(1000)\n",
    "\n",
    "# thực hiện hàm qcut trên dữ liệu vừa sinh ra\n",
    "cats = pd.qcut(data, 4)\n",
    "cats"
   ]
  },
  {
   "cell_type": "code",
   "execution_count": 10,
   "id": "ee649af6",
   "metadata": {},
   "outputs": [
    {
     "data": {
      "text/plain": [
       "(-3.098, -0.695]     250\n",
       "(-0.695, -0.0225]    250\n",
       "(-0.0225, 0.655]     250\n",
       "(0.655, 3.033]       250\n",
       "dtype: int64"
      ]
     },
     "execution_count": 10,
     "metadata": {},
     "output_type": "execute_result"
    }
   ],
   "source": [
    "#thống kê số lượng phần tử\n",
    "pd.value_counts(cats)"
   ]
  },
  {
   "cell_type": "code",
   "execution_count": 11,
   "id": "9d52c913",
   "metadata": {},
   "outputs": [
    {
     "data": {
      "text/plain": [
       "[(-1.327, -0.0225], (-1.327, -0.0225], (-1.327, -0.0225], (-1.327, -0.0225], (-1.327, -0.0225], ..., (-1.327, -0.0225], (-0.0225, 1.235], (-0.0225, 1.235], (-0.0225, 1.235], (-1.327, -0.0225]]\n",
       "Length: 1000\n",
       "Categories (4, interval[float64, right]): [(-3.098, -1.327] < (-1.327, -0.0225] < (-0.0225, 1.235] < (1.235, 3.033]]"
      ]
     },
     "execution_count": 11,
     "metadata": {},
     "output_type": "execute_result"
    }
   ],
   "source": [
    "pd.qcut(data, [0, 0.1, 0.5, 0.9, 1.])"
   ]
  }
 ],
 "metadata": {
  "kernelspec": {
   "display_name": "Python 3 (ipykernel)",
   "language": "python",
   "name": "python3"
  },
  "language_info": {
   "codemirror_mode": {
    "name": "ipython",
    "version": 3
   },
   "file_extension": ".py",
   "mimetype": "text/x-python",
   "name": "python",
   "nbconvert_exporter": "python",
   "pygments_lexer": "ipython3",
   "version": "3.10.4"
  }
 },
 "nbformat": 4,
 "nbformat_minor": 5
}

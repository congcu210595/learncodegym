{
 "cells": [
  {
   "cell_type": "code",
   "execution_count": 18,
   "id": "445dc81a",
   "metadata": {},
   "outputs": [
    {
     "name": "stdout",
     "output_type": "stream",
     "text": [
      "<class 'pandas.core.frame.DataFrame'>\n",
      "RangeIndex: 125 entries, 0 to 124\n",
      "Data columns (total 3 columns):\n",
      " #   Column     Non-Null Count  Dtype \n",
      "---  ------     --------------  ----- \n",
      " 0   Country    125 non-null    object\n",
      " 1   Continent  125 non-null    object\n",
      " 2   GDP        125 non-null    int64 \n",
      "dtypes: int64(1), object(2)\n",
      "memory usage: 3.1+ KB\n",
      "None\n",
      "----------------------------------\n",
      "Bộ dữ liệu có 125 dòng và 3 cột\n",
      "Country và Continent là Nominal, GDP là Ratio\n",
      "GDP phân bổ không đồng đều\n",
      "----------------------------------\n",
      "Tổng số quốc gia ở từng châu lục:\n",
      "Continent\n",
      "Africa           29\n",
      "Asia             36\n",
      "Europe           37\n",
      "North America    11\n",
      "Oceania           3\n",
      "South America     9\n",
      "Name: Country, dtype: int64\n",
      "----------------------------------\n",
      "Tổng GPD của các châu lục:\n",
      "Continent\n",
      "Africa            1820811\n",
      "Asia             24425891\n",
      "Europe           19139380\n",
      "North America    18238447\n",
      "Oceania           1662727\n",
      "South America     4141217\n",
      "Name: GDP, dtype: int64\n",
      "----------------------------------\n",
      "Top 10 quốc gia có GDP cao nhất\n",
      "             Country      Continent       GDP\n",
      "118    United States  North America  15094025\n",
      "23             China           Asia   7298147\n",
      "60             Japan           Asia   5869471\n",
      "44           Germany         Europe   3577031\n",
      "41            France         Europe   2776324\n",
      "15            Brazil  South America   2492908\n",
      "117   United Kingdom         Europe   2417570\n",
      "58             Italy         Europe   2198730\n",
      "93            Russia           Asia   1850401\n",
      "21            Canada  North America   1736869\n"
     ]
    },
    {
     "data": {
      "image/png": "[encoded data removed]",
      "text/plain": [
       "<Figure size 432x288 with 1 Axes>"
      ]
     },
     "metadata": {
      "needs_background": "light"
     },
     "output_type": "display_data"
    }
   ],
   "source": [
    "import pandas as pd\n",
    "data=pd.read_csv('GDPlist.csv', encoding = \"ISO-8859-1\")\n",
    "data.rename(columns={'GDP (millions of US$)':'GDP'},inplace=True)\n",
    "print(data.info())\n",
    "print('-'*34)\n",
    "print('Bộ dữ liệu có 125 dòng và 3 cột')\n",
    "print('Country và Continent là Nominal, GDP là Ratio')\n",
    "\n",
    "import matplotlib.pyplot as plt\n",
    "plt.hist(data.GDP, bins = 200)\n",
    "plt.title(\"Phân bố GDP\")\n",
    "plt.xlabel(\"GDP\")\n",
    "plt.ylabel(\"Số lượng quốc gia\")\n",
    "print('GDP phân bổ không đồng đều')\n",
    "print('-'*34)\n",
    "\n",
    "print('Tổng số quốc gia ở từng châu lục:')\n",
    "print(data.groupby('Continent')['Country'].count())\n",
    "print('-'*34)\n",
    "\n",
    "print('Tổng GPD của các châu lục:')\n",
    "print(data.groupby('Continent')['GDP'].sum())\n",
    "print('-'*34)\n",
    "\n",
    "print('Top 10 quốc gia có GDP cao nhất')\n",
    "data = data.sort_values('GDP',ascending = False)\n",
    "print(data.head(10))"
   ]
  }
 ],
 "metadata": {
  "kernelspec": {
   "display_name": "Python 3 (ipykernel)",
   "language": "python",
   "name": "python3"
  },
  "language_info": {
   "codemirror_mode": {
    "name": "ipython",
    "version": 3
   },
   "file_extension": ".py",
   "mimetype": "text/x-python",
   "name": "python",
   "nbconvert_exporter": "python",
   "pygments_lexer": "ipython3",
   "version": "3.10.4"
  }
 },
 "nbformat": 4,
 "nbformat_minor": 5
}

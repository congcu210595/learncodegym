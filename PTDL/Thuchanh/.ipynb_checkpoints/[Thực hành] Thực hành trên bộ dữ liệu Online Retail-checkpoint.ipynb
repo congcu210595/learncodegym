{
 "cells": [
  {
   "cell_type": "code",
   "execution_count": 4,
   "id": "acc8ab96",
   "metadata": {},
   "outputs": [
    {
     "name": "stdout",
     "output_type": "stream",
     "text": [
      "  InvoiceNo StockCode                          Description  Quantity  \\\n",
      "0    536365    85123A   WHITE HANGING HEART T-LIGHT HOLDER         6   \n",
      "1    536365     71053                  WHITE METAL LANTERN         6   \n",
      "2    536365    84406B       CREAM CUPID HEARTS COAT HANGER         8   \n",
      "3    536365    84029G  KNITTED UNION FLAG HOT WATER BOTTLE         6   \n",
      "4    536365    84029E       RED WOOLLY HOTTIE WHITE HEART.         6   \n",
      "\n",
      "      InvoiceDate  UnitPrice  CustomerID         Country  \n",
      "0  12/1/2010 8:26       2.55     17850.0  United Kingdom  \n",
      "1  12/1/2010 8:26       3.39     17850.0  United Kingdom  \n",
      "2  12/1/2010 8:26       2.75     17850.0  United Kingdom  \n",
      "3  12/1/2010 8:26       3.39     17850.0  United Kingdom  \n",
      "4  12/1/2010 8:26       3.39     17850.0  United Kingdom  \n",
      "<class 'pandas.core.frame.DataFrame'>\n",
      "RangeIndex: 541909 entries, 0 to 541908\n",
      "Data columns (total 8 columns):\n",
      " #   Column       Non-Null Count   Dtype  \n",
      "---  ------       --------------   -----  \n",
      " 0   InvoiceNo    541909 non-null  object \n",
      " 1   StockCode    541909 non-null  object \n",
      " 2   Description  540455 non-null  object \n",
      " 3   Quantity     541909 non-null  int64  \n",
      " 4   InvoiceDate  541909 non-null  object \n",
      " 5   UnitPrice    541909 non-null  float64\n",
      " 6   CustomerID   406829 non-null  float64\n",
      " 7   Country      541909 non-null  object \n",
      "dtypes: float64(2), int64(1), object(5)\n",
      "memory usage: 33.1+ MB\n",
      "None\n",
      "số lượng các quốc gia: 38\n",
      "số lượng hóa đơn bán ra: 1\n",
      "Tổng doanh thu: 9747747.933999998\n",
      "StockCode  Description                       \n",
      "84077      WORLD WAR 2 GLIDERS ASSTD DESIGNS     53847\n",
      "85099B     JUMBO BAG RED RETROSPOT               47363\n",
      "84879      ASSORTED COLOUR BIRD ORNAMENT         36381\n",
      "22197      POPCORN HOLDER                        36334\n",
      "21212      PACK OF 72 RETROSPOT CAKE CASES       36039\n",
      "85123A     WHITE HANGING HEART T-LIGHT HOLDER    35025\n",
      "23084      RABBIT NIGHT LIGHT                    30680\n",
      "22492      MINI PAINT SET VINTAGE                26437\n",
      "22616      PACK OF 12 LONDON TISSUES             26315\n",
      "21977      PACK OF 60 PINK PAISLEY CAKE CASES    24753\n",
      "Name: Quantity, dtype: int64\n",
      "StockCode  Description                       \n",
      "DOT        DOTCOM POSTAGE                        206245.48\n",
      "22423      REGENCY CAKESTAND 3 TIER              164762.19\n",
      "47566      PARTY BUNTING                          98302.98\n",
      "85123A     WHITE HANGING HEART T-LIGHT HOLDER     97715.99\n",
      "85099B     JUMBO BAG RED RETROSPOT                92356.03\n",
      "23084      RABBIT NIGHT LIGHT                     66756.59\n",
      "POST       POSTAGE                                66230.64\n",
      "22086      PAPER CHAIN KIT 50'S CHRISTMAS         63791.94\n",
      "84879      ASSORTED COLOUR BIRD ORNAMENT          58959.73\n",
      "79321      CHILLI LIGHTS                          53768.06\n",
      "Name: total, dtype: float64\n"
     ]
    }
   ],
   "source": [
    "import pandas as pd\n",
    "data=pd.read_csv('OnlineRetail.csv', encoding = \"ISO-8859-1\")\n",
    "# hiển thị 5 dòng dữ liệu đầu tiên\n",
    "print(data.head())\n",
    "print (data.info())\n",
    "\n",
    "country = data.Country.unique()\n",
    "print (\"số lượng các quốc gia: \" + str(country.size))\n",
    "\n",
    "# Tạo cột tính thành tiền của các mặt hàng\n",
    "data['total'] = data['Quantity'] * data['UnitPrice'] \n",
    "\n",
    "# Giá trị đơn hàng của mỗi đơn hàng\n",
    "total_invoices = data['total'].sum()\n",
    "print (\"số lượng hóa đơn bán ra: \"+ str (total_invoices.size))\n",
    "print (\"Tổng doanh thu: \" + str(total_invoices.sum()))\n",
    "\n",
    "quantity_product = data.groupby(['StockCode', 'Description'])['Quantity'].sum().sort_values(ascending= False)\n",
    "print(quantity_product.head(10))\n",
    "\n",
    "quantity_product = data.groupby(['StockCode', 'Description'])['total'].sum().sort_values(ascending= False)\n",
    "print(quantity_product.head(10))"
   ]
  }
 ],
 "metadata": {
  "kernelspec": {
   "display_name": "Python 3 (ipykernel)",
   "language": "python",
   "name": "python3"
  },
  "language_info": {
   "codemirror_mode": {
    "name": "ipython",
    "version": 3
   },
   "file_extension": ".py",
   "mimetype": "text/x-python",
   "name": "python",
   "nbconvert_exporter": "python",
   "pygments_lexer": "ipython3",
   "version": "3.10.4"
  }
 },
 "nbformat": 4,
 "nbformat_minor": 5
}

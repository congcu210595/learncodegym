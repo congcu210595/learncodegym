{
 "cells": [
  {
   "cell_type": "code",
   "execution_count": 6,
   "id": "4f9ca5af",
   "metadata": {},
   "outputs": [
    {
     "name": "stdout",
     "output_type": "stream",
     "text": [
      "<class 'pandas.core.frame.DataFrame'>\n",
      "RangeIndex: 1000 entries, 0 to 999\n",
      "Data columns (total 18 columns):\n",
      " #   Column             Non-Null Count  Dtype         \n",
      "---  ------             --------------  -----         \n",
      " 0   title              1000 non-null   object        \n",
      " 1   address            1000 non-null   object        \n",
      " 2   area               994 non-null    float64       \n",
      " 3   price              944 non-null    float64       \n",
      " 4   postDate           1000 non-null   datetime64[ns]\n",
      " 5   land_certificate   693 non-null    object        \n",
      " 6   house_direction    44 non-null     object        \n",
      " 7   balcony_direction  24 non-null     object        \n",
      " 8   toilet             551 non-null    float64       \n",
      " 9   bedroom            635 non-null    float64       \n",
      " 10  floor              376 non-null    float64       \n",
      " 11  type_of_land       1000 non-null   object        \n",
      " 12  street_name        808 non-null    object        \n",
      " 13  ward_name          802 non-null    object        \n",
      " 14  district_name      1000 non-null   object        \n",
      " 15  city_name          1000 non-null   object        \n",
      " 16  lat                1000 non-null   float64       \n",
      " 17  long               1000 non-null   float64       \n",
      "dtypes: datetime64[ns](1), float64(7), object(10)\n",
      "memory usage: 140.8+ KB\n",
      "None\n",
      "--------------------------------------------------------------------------------\n",
      "Dữ liệu có 1000 dòng và 18 cột \n",
      "title, adress, land_certificate, house_direction, balcony_direction, type_of_land, street_name, ward_name, district_name, city_name là kiểu dữ liệu object\n",
      "area, price,toilet, bedroom, floor, lat, long là kiểu số thực\n",
      "postDate là kiểu datetime\n"
     ]
    },
    {
     "name": "stderr",
     "output_type": "stream",
     "text": [
      "C:\\Users\\congc\\AppData\\Local\\Programs\\Python\\Python310\\lib\\site-packages\\openpyxl\\worksheet\\_reader.py:312: UserWarning: Unknown extension is not supported and will be removed\n",
      "  warn(msg)\n"
     ]
    }
   ],
   "source": [
    "import pandas as pd\n",
    "df = pd.read_excel(\"house_price_dống-da_1.xlsx\")\n",
    "print(df.info())\n",
    "print('-' * 80)\n",
    "print('Dữ liệu có 1000 dòng và 18 cột ')\n",
    "print('title, adress, land_certificate, house_direction, balcony_direction, type_of_land, street_name, ward_name, district_name, city_name là kiểu dữ liệu object')\n",
    "print('area, price,toilet, bedroom, floor, lat, long là kiểu số thực')\n",
    "print('postDate là kiểu datetime')"
   ]
  },
  {
   "cell_type": "code",
   "execution_count": 9,
   "id": "c04935fe",
   "metadata": {},
   "outputs": [
    {
     "name": "stdout",
     "output_type": "stream",
     "text": [
      "                                                 title  \\\n",
      "0    Bán nhà Trần Quang Diệu mới coong đẹp 50m2x6 t...   \n",
      "1    Bán nhà mặt phố Tây Sơn - 6 tầng. Kinh doanh t...   \n",
      "2    Bán nhà số 36 Đoàn Kết - phố Khâm Thiên - Đống...   \n",
      "4    Bán nhà mặt phố Thái Hà 70m2, 5 tầng, 4.5m mặt...   \n",
      "19   Bán gấp Tập thể chùa Bộc giá 2,6 tỷ, DT 110m2,...   \n",
      "..                                                 ...   \n",
      "973  Mặt phố Khâm Thiên - Lô góc - kinh doanh bất c...   \n",
      "975  Bán gấp nhà ngõ Đặng Tiến Đông, Trần Quang Diệ...   \n",
      "987  Cực hiếm! Bán nhà mặt phố Chùa Bộc, Đống Đa, k...   \n",
      "988  Mặt phố kinh doanh sầm uất Nguyẽn Van Tuyét,...   \n",
      "996  Bán nhà 5 tầng đep MP Yên Lãng giá rẻ, DT 60m2...   \n",
      "\n",
      "                                               address   area    price  \\\n",
      "0    Đường Trần Quang Diệu, Phường Trung Liệt, Đốn...   50.0  14700.0   \n",
      "1    Đường Tây Sơn, Phường Trung Liệt, Đống Đa, Hà...   35.0  12500.0   \n",
      "2    Số 36 Đoàn Kết, Phố Khâm Thiên, Phường Thổ Qu...   57.0   4200.0   \n",
      "4     Phố Thái Hà, Phường Trung Liệt, Đống Đa, Hà Nội   70.0  36000.0   \n",
      "19   Chùa Bộc, Phường Trung Liệt, Quận Đống Đa, Hà Nội  110.0   2600.0   \n",
      "..                                                 ...    ...      ...   \n",
      "973  Phố Khâm Thiên, Phường Khâm Thiên, Đống Đa, Hà...   50.0  14500.0   \n",
      "975  Đường Đặng Tiến Đông, Phường Trung Liệt, Đống...   35.0   4500.0   \n",
      "987  Phố Chùa Bộc, Phường Trung Liệt, Đống Đa, Hà Nội  143.0  72000.0   \n",
      "988  Đường Nguyễn Văn Tuyết, Phường Trung Liệt, Đố...   76.0  30500.0   \n",
      "996  Đường Yên Lãng, Phường Trung Liệt, Đống Đa, ...   60.0  17500.0   \n",
      "\n",
      "      postDate land_certificate house_direction balcony_direction  toilet  \\\n",
      "0   2021-01-01            Sổ đỏ             NaN               NaN     4.0   \n",
      "1   2021-02-19            Sổ đỏ             NaN               NaN     NaN   \n",
      "2   2021-03-10            Sổ đỏ             Nam               Nam     3.0   \n",
      "4   2021-03-13            Sổ đỏ             NaN               NaN     NaN   \n",
      "19  2021-01-01            Sổ đỏ             NaN               NaN     2.0   \n",
      "..         ...              ...             ...               ...     ...   \n",
      "973 2021-05-09              NaN             NaN               NaN     NaN   \n",
      "975 2021-05-09            Sổ đỏ         Tây-Nam           Tây-Nam     NaN   \n",
      "987 2021-05-09            Sổ đỏ             NaN               NaN     6.0   \n",
      "988 2021-01-01              NaN             NaN               NaN     NaN   \n",
      "996 2021-01-01              NaN             NaN               NaN     NaN   \n",
      "\n",
      "     bedroom  floor        type_of_land             street_name  \\\n",
      "0        6.0    6.0    Bán nhà riêng\\n    Đường Trần Quang Diệu   \n",
      "1        NaN    6.0  Bán nhà mặt phố\\n           Phố Trung Liệt   \n",
      "2        8.0    4.0    Bán nhà riêng\\n           Phố Khâm Thiên   \n",
      "4        6.0    5.0  Bán nhà mặt phố\\n           Phố Trung Liệt   \n",
      "19       2.0    NaN      Tập thể, cư xá          Phố Trung Liệt   \n",
      "..       ...    ...                 ...                     ...   \n",
      "973      6.0    6.0  Bán nhà mặt phố\\n           Phố Khâm Thiên   \n",
      "975      4.0    5.0    Bán nhà riêng\\n     Đường Đặng Tiến Đông   \n",
      "987      6.0    5.0  Bán nhà mặt phố\\n           Phố Trung Liệt   \n",
      "988      NaN    NaN  Bán nhà mặt phố\\n   Đường Nguyễn Văn Tuyết   \n",
      "996      NaN    NaN  Bán nhà mặt phố\\n           Phố Trung Liệt   \n",
      "\n",
      "             ward_name district_name         city_name        lat        long  \n",
      "0    Phường Trung Liệt  Quận Đống Đa  Thành phố Hà Nội  21.015698  105.824583  \n",
      "1    Phường Trung Liệt  Quận Đống Đa  Thành phố Hà Nội  21.008930  105.824105  \n",
      "2    Phường Khâm Thiên  Quận Đống Đa  Thành phố Hà Nội  21.025208  105.833111  \n",
      "4    Phường Trung Liệt  Quận Đống Đa  Thành phố Hà Nội  21.009239  105.824230  \n",
      "19   Phường Trung Liệt  Quận Đống Đa  Thành phố Hà Nội  21.008069  105.827262  \n",
      "..                 ...           ...               ...        ...         ...  \n",
      "973  Phường Khâm Thiên  Quận Đống Đa  Thành phố Hà Nội  21.017288  105.836411  \n",
      "975  Phường Trung Liệt  Quận Đống Đa  Thành phố Hà Nội  21.014549  105.821232  \n",
      "987  Phường Trung Liệt  Quận Đống Đa  Thành phố Hà Nội  21.009239  105.824230  \n",
      "988  Phường Trung Liệt  Quận Đống Đa  Thành phố Hà Nội  21.009533  105.820193  \n",
      "996  Phường Trung Liệt  Quận Đống Đa  Thành phố Hà Nội  21.011495  105.816666  \n",
      "\n",
      "[147 rows x 18 columns]\n"
     ]
    }
   ],
   "source": [
    "#Lọc ra các bản ghi bán nhà riêng tại phường Trung liệt hoặc phường Khâm Thiên\n",
    "df1 = df[(df['ward_name'] == 'Phường Trung Liệt') | (df['ward_name'] == 'Phường Khâm Thiên')]\n",
    "print(df1)"
   ]
  },
  {
   "cell_type": "code",
   "execution_count": 10,
   "id": "2d035296",
   "metadata": {},
   "outputs": [
    {
     "name": "stdout",
     "output_type": "stream",
     "text": [
      "                                               address    price  \\\n",
      "0    Đường Trần Quang Diệu, Phường Trung Liệt, Đốn...  14700.0   \n",
      "2    Số 36 Đoàn Kết, Phố Khâm Thiên, Phường Thổ Qu...   4200.0   \n",
      "3    Ngõ 1194, Đường Láng, Phường Láng Thượng, Đố...  11000.0   \n",
      "4     Phố Thái Hà, Phường Trung Liệt, Đống Đa, Hà Nội  36000.0   \n",
      "5    Phố Chùa Bộc, Phường Quang Trung, Đống Đa, Hà Nội  13500.0   \n",
      "..                                                 ...      ...   \n",
      "989       Phố Xã Đàn, Phường Kim Liên, Đống Đa, Hà Nội   3900.0   \n",
      "990  Thịnh Quang, Phường Thịnh Quang, Quận Đống Đa,...   3700.0   \n",
      "991  Thịnh Quang, Phường Thịnh Quang, Quận Đống Đa,...   4100.0   \n",
      "995  Đường Yên Lãng, Phường Láng Hạ, Đống Đa, Hà...  17500.0   \n",
      "998  Hồ Văn Chương, Phường Văn Chương, Quận Đống Đa...   8100.0   \n",
      "\n",
      "    house_direction balcony_direction  \n",
      "0               NaN               NaN  \n",
      "2               Nam               Nam  \n",
      "3              Đông          Đông-Nam  \n",
      "4               NaN               NaN  \n",
      "5               NaN               NaN  \n",
      "..              ...               ...  \n",
      "989             NaN               NaN  \n",
      "990             NaN               NaN  \n",
      "991             NaN               NaN  \n",
      "995             NaN               NaN  \n",
      "998             NaN               NaN  \n",
      "\n",
      "[444 rows x 4 columns]\n"
     ]
    }
   ],
   "source": [
    "#Lọc các thông tin Địa chỉ, Giá, Hướng nhà, Hướng ban công của các bản ghi có giấy chứng nhận sổ đỏ và có 3 phòng ngủ trở lên.\n",
    "df2 = df[(df['land_certificate'] == 'Sổ đỏ') & (df['bedroom'] >= 3)][['address','price','house_direction','balcony_direction']]\n",
    "print(df2)"
   ]
  },
  {
   "cell_type": "code",
   "execution_count": 22,
   "id": "f4bd6d0b",
   "metadata": {},
   "outputs": [
    {
     "name": "stdout",
     "output_type": "stream",
     "text": [
      "Trung bình cộng giá với mỗi loại nhà đất\n",
      "type_of_land\n",
      "Bán nhà mặt phố         38816.227869\n",
      "Bán nhà mặt phố\\n       77905.654762\n",
      "Bán nhà riêng            6052.253968\n",
      "Bán nhà riêng\\n         10959.577959\n",
      "Bất động sản khác       18492.222222\n",
      "Bất động sản khác\\n     23437.000000\n",
      "Chung cư                 2011.864407\n",
      "Tập thể, cư xá           2094.637681\n",
      "Đất thổ cư              10585.000000\n",
      "Name: price, dtype: float64\n",
      "--------------------------------------------------------------------------------\n",
      "Giá cao nhất với mỗi loại nhà đất\n",
      "type_of_land\n",
      "Bán nhà mặt phố          500000.0\n",
      "Bán nhà mặt phố\\n       3300000.0\n",
      "Bán nhà riêng             36000.0\n",
      "Bán nhà riêng\\n          120000.0\n",
      "Bất động sản khác         32000.0\n",
      "Bất động sản khác\\n       52000.0\n",
      "Chung cư                  10000.0\n",
      "Tập thể, cư xá             8200.0\n",
      "Đất thổ cư                24500.0\n",
      "Name: price, dtype: float64\n",
      "--------------------------------------------------------------------------------\n",
      "Giá thấp nhất với mỗi loại nhà đất\n",
      "type_of_land\n",
      "Bán nhà mặt phố            4.5\n",
      "Bán nhà mặt phố\\n       5950.0\n",
      "Bán nhà riêng            780.0\n",
      "Bán nhà riêng\\n         1400.0\n",
      "Bất động sản khác         30.0\n",
      "Bất động sản khác\\n     9870.0\n",
      "Chung cư                 530.0\n",
      "Tập thể, cư xá           450.0\n",
      "Đất thổ cư              3680.0\n",
      "Name: price, dtype: float64\n",
      "--------------------------------------------------------------------------------\n"
     ]
    }
   ],
   "source": [
    "#Với mỗi loại nhà đất, tính trung bình cộng giá cũng như giá lớn nhất và giá nhỏ nhất.\n",
    "df3 = df.groupby('type_of_land')['price'].mean()\n",
    "df4 = df.groupby('type_of_land')['price'].max()\n",
    "df5 = df.groupby('type_of_land')['price'].min()\n",
    "print('Trung bình cộng giá với mỗi loại nhà đất')\n",
    "print(df3)\n",
    "print('-'*80)\n",
    "print('Giá cao nhất với mỗi loại nhà đất')\n",
    "print(df4)\n",
    "print('-'*80)\n",
    "print('Giá thấp nhất với mỗi loại nhà đất')\n",
    "print(df5)\n",
    "print('-'*80)"
   ]
  },
  {
   "cell_type": "code",
   "execution_count": 23,
   "id": "2bcb65de",
   "metadata": {},
   "outputs": [
    {
     "name": "stdout",
     "output_type": "stream",
     "text": [
      "                       bedroom    toilet     floor\n",
      "ward_name                                         \n",
      "Phường Cát Linh       3.300000  3.600000  3.818182\n",
      "Phường Hàng Bột       3.200000  3.321429  4.083333\n",
      "Phường Khâm Thiên     3.384615  2.863636  4.916667\n",
      "Phường Khương Thượng  2.730769  2.375000  3.846154\n",
      "Phường Kim Liên       3.388889  3.000000  2.909091\n",
      "Phường Láng Hạ        4.519231  4.230769  5.237288\n",
      "Phường Láng Thượng    5.071429  4.425532  5.051282\n",
      "Phường Nam Đồng       3.961538  4.166667  4.318182\n",
      "Phường Ngã Tư Sở      3.461538  3.727273  4.076923\n",
      "Phường Phương Liên    3.466667  3.461538  4.222222\n",
      "Phường Phương Mai     2.821429  2.269231  5.400000\n",
      "Phường Quang Trung    3.368421  3.222222  4.583333\n",
      "Phường Quốc Tử Giám   4.000000  4.000000  4.400000\n",
      "Phường Thịnh Quang    3.090909  3.238095  4.750000\n",
      "Phường Thổ Quan       4.000000  4.500000  5.000000\n",
      "Phường Trung Liệt     4.419355  3.693333  5.120690\n",
      "Phường Trung Phụng    3.111111  3.444444  5.777778\n",
      "Phường Trung Tự       3.571429  3.000000  4.000000\n",
      "Phường Văn Chương     2.727273  3.363636  4.000000\n",
      "Phường Văn Miếu       4.000000  4.400000  5.666667\n",
      "Phường Ô Chợ Dừa      4.287500  3.927536  4.962963\n"
     ]
    }
   ],
   "source": [
    "#Tính trung bình cộng số phòng ngủ, số phòng vệ sinh, số tầng của mỗi phường\n",
    "df5 = df.groupby('ward_name')[['bedroom','toilet','floor']].mean()\n",
    "print(df5)"
   ]
  }
 ],
 "metadata": {
  "kernelspec": {
   "display_name": "Python 3 (ipykernel)",
   "language": "python",
   "name": "python3"
  },
  "language_info": {
   "codemirror_mode": {
    "name": "ipython",
    "version": 3
   },
   "file_extension": ".py",
   "mimetype": "text/x-python",
   "name": "python",
   "nbconvert_exporter": "python",
   "pygments_lexer": "ipython3",
   "version": "3.10.4"
  }
 },
 "nbformat": 4,
 "nbformat_minor": 5
}

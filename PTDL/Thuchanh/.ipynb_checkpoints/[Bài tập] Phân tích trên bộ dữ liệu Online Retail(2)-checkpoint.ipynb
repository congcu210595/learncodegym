{
 "cells": [
  {
   "cell_type": "code",
   "execution_count": 2,
   "id": "1e0b1485",
   "metadata": {},
   "outputs": [
    {
     "name": "stdout",
     "output_type": "stream",
     "text": [
      "<class 'pandas.core.frame.DataFrame'>\n",
      "RangeIndex: 541909 entries, 0 to 541908\n",
      "Data columns (total 8 columns):\n",
      " #   Column       Non-Null Count   Dtype  \n",
      "---  ------       --------------   -----  \n",
      " 0   InvoiceNo    541909 non-null  object \n",
      " 1   StockCode    541909 non-null  object \n",
      " 2   Description  540455 non-null  object \n",
      " 3   Quantity     541909 non-null  int64  \n",
      " 4   InvoiceDate  541909 non-null  object \n",
      " 5   UnitPrice    541909 non-null  float64\n",
      " 6   CustomerID   406829 non-null  float64\n",
      " 7   Country      541909 non-null  object \n",
      "dtypes: float64(2), int64(1), object(5)\n",
      "memory usage: 33.1+ MB\n",
      "None\n",
      "Dữ liệu có 541909 dòng và 8 cột, InvoiceNo, StockCode, Description, InvoiceDate, Country là kiểu dữ liệu object, Quantity là kiểu số nguyên, CustomerID và UnitPrice là kiểu số thực\n"
     ]
    }
   ],
   "source": [
    "import pandas as pd\n",
    "df = pd.read_csv('OnlineRetail.csv', encoding = \"ISO-8859-1\")\n",
    "print(df.info())\n",
    "print('Dữ liệu có 541909 dòng và 8 cột, InvoiceNo, StockCode, Description, InvoiceDate, Country là kiểu dữ liệu object, Quantity là kiểu số nguyên, CustomerID và UnitPrice là kiểu số thực')"
   ]
  },
  {
   "cell_type": "code",
   "execution_count": 3,
   "id": "5dde7c17",
   "metadata": {},
   "outputs": [
    {
     "name": "stdout",
     "output_type": "stream",
     "text": [
      "Bảng Pivot table với mỗi Số hóa đơn tính trung bình cộng số lượng các mặt hàng theo từng Quốc gia\n",
      "Country    Australia  Austria  Bahrain  Belgium  Brazil  Canada  \\\n",
      "InvoiceNo                                                         \n",
      "536365           NaN      NaN      NaN      NaN     NaN     NaN   \n",
      "536366           NaN      NaN      NaN      NaN     NaN     NaN   \n",
      "536367           NaN      NaN      NaN      NaN     NaN     NaN   \n",
      "536368           NaN      NaN      NaN      NaN     NaN     NaN   \n",
      "536369           NaN      NaN      NaN      NaN     NaN     NaN   \n",
      "...              ...      ...      ...      ...     ...     ...   \n",
      "C581484          NaN      NaN      NaN      NaN     NaN     NaN   \n",
      "C581490          NaN      NaN      NaN      NaN     NaN     NaN   \n",
      "C581499          NaN      NaN      NaN      NaN     NaN     NaN   \n",
      "C581568          NaN      NaN      NaN      NaN     NaN     NaN   \n",
      "C581569          NaN      NaN      NaN      NaN     NaN     NaN   \n",
      "\n",
      "Country    Channel Islands  Cyprus  Czech Republic  Denmark  ...  RSA  \\\n",
      "InvoiceNo                                                    ...        \n",
      "536365                 NaN     NaN             NaN      NaN  ...  NaN   \n",
      "536366                 NaN     NaN             NaN      NaN  ...  NaN   \n",
      "536367                 NaN     NaN             NaN      NaN  ...  NaN   \n",
      "536368                 NaN     NaN             NaN      NaN  ...  NaN   \n",
      "536369                 NaN     NaN             NaN      NaN  ...  NaN   \n",
      "...                    ...     ...             ...      ...  ...  ...   \n",
      "C581484                NaN     NaN             NaN      NaN  ...  NaN   \n",
      "C581490                NaN     NaN             NaN      NaN  ...  NaN   \n",
      "C581499                NaN     NaN             NaN      NaN  ...  NaN   \n",
      "C581568                NaN     NaN             NaN      NaN  ...  NaN   \n",
      "C581569                NaN     NaN             NaN      NaN  ...  NaN   \n",
      "\n",
      "Country    Saudi Arabia  Singapore  Spain  Sweden  Switzerland  USA  \\\n",
      "InvoiceNo                                                             \n",
      "536365              NaN        NaN    NaN     NaN          NaN  NaN   \n",
      "536366              NaN        NaN    NaN     NaN          NaN  NaN   \n",
      "536367              NaN        NaN    NaN     NaN          NaN  NaN   \n",
      "536368              NaN        NaN    NaN     NaN          NaN  NaN   \n",
      "536369              NaN        NaN    NaN     NaN          NaN  NaN   \n",
      "...                 ...        ...    ...     ...          ...  ...   \n",
      "C581484             NaN        NaN    NaN     NaN          NaN  NaN   \n",
      "C581490             NaN        NaN    NaN     NaN          NaN  NaN   \n",
      "C581499             NaN        NaN    NaN     NaN          NaN  NaN   \n",
      "C581568             NaN        NaN    NaN     NaN          NaN  NaN   \n",
      "C581569             NaN        NaN    NaN     NaN          NaN  NaN   \n",
      "\n",
      "Country    United Arab Emirates  United Kingdom  Unspecified  \n",
      "InvoiceNo                                                     \n",
      "536365                      NaN        5.714286          NaN  \n",
      "536366                      NaN        6.000000          NaN  \n",
      "536367                      NaN        6.916667          NaN  \n",
      "536368                      NaN        3.750000          NaN  \n",
      "536369                      NaN        3.000000          NaN  \n",
      "...                         ...             ...          ...  \n",
      "C581484                     NaN   -80995.000000          NaN  \n",
      "C581490                     NaN      -11.500000          NaN  \n",
      "C581499                     NaN       -1.000000          NaN  \n",
      "C581568                     NaN       -5.000000          NaN  \n",
      "C581569                     NaN       -3.000000          NaN  \n",
      "\n",
      "[25900 rows x 38 columns]\n"
     ]
    }
   ],
   "source": [
    "print('Bảng Pivot table với mỗi Số hóa đơn tính trung bình cộng số lượng các mặt hàng theo từng Quốc gia')\n",
    "print(df.pivot_table(values='Quantity',index='InvoiceNo',columns='Country',aggfunc ='mean'))"
   ]
  },
  {
   "cell_type": "code",
   "execution_count": 8,
   "id": "5dc4a782",
   "metadata": {},
   "outputs": [
    {
     "name": "stdout",
     "output_type": "stream",
     "text": [
      "Bảng Pivot table với mỗi Khách hàng cho biết số lượng mua hàng lớn nhất và nhỏ nhất theo Kho\n",
      "             max                                                           \\\n",
      "StockCode  10002 10080 10120 10123C 10124A 10124G 10125 10133 10135 11001   \n",
      "CustomerID                                                                  \n",
      "12346.0      NaN   NaN   NaN    NaN    NaN    NaN   NaN   NaN   NaN   NaN   \n",
      "12347.0      NaN   NaN   NaN    NaN    NaN    NaN   NaN   NaN   NaN   NaN   \n",
      "12348.0      NaN   NaN   NaN    NaN    NaN    NaN   NaN   NaN   NaN   NaN   \n",
      "12349.0      NaN   NaN   NaN    NaN    NaN    NaN   NaN   NaN   NaN   NaN   \n",
      "12350.0      NaN   NaN   NaN    NaN    NaN    NaN   NaN   NaN   NaN   NaN   \n",
      "...          ...   ...   ...    ...    ...    ...   ...   ...   ...   ...   \n",
      "18280.0      NaN   NaN   NaN    NaN    NaN    NaN   NaN   NaN   NaN   NaN   \n",
      "18281.0      NaN   NaN   NaN    NaN    NaN    NaN   NaN   NaN   NaN   NaN   \n",
      "18282.0      NaN   NaN   NaN    NaN    NaN    NaN   NaN   NaN   NaN   NaN   \n",
      "18283.0      NaN   NaN   NaN    NaN    NaN    NaN   NaN   NaN   NaN   NaN   \n",
      "18287.0      NaN   NaN   NaN    NaN    NaN    NaN   NaN   NaN   NaN   NaN   \n",
      "\n",
      "            ...    min                                                      \n",
      "StockCode   ... 90214Y 90214Z BANK CHARGES  C2 CRUK   D DOT    M PADS POST  \n",
      "CustomerID  ...                                                             \n",
      "12346.0     ...    NaN    NaN          NaN NaN  NaN NaN NaN  NaN  NaN  NaN  \n",
      "12347.0     ...    NaN    NaN          NaN NaN  NaN NaN NaN  NaN  NaN  NaN  \n",
      "12348.0     ...    NaN    NaN          NaN NaN  NaN NaN NaN  NaN  NaN  1.0  \n",
      "12349.0     ...    NaN    NaN          NaN NaN  NaN NaN NaN  NaN  NaN  1.0  \n",
      "12350.0     ...    NaN    NaN          NaN NaN  NaN NaN NaN  NaN  NaN  1.0  \n",
      "...         ...    ...    ...          ...  ..  ...  ..  ..  ...  ...  ...  \n",
      "18280.0     ...    NaN    NaN          NaN NaN  NaN NaN NaN  NaN  NaN  NaN  \n",
      "18281.0     ...    NaN    NaN          NaN NaN  NaN NaN NaN  NaN  NaN  NaN  \n",
      "18282.0     ...    NaN    NaN          NaN NaN  NaN NaN NaN  NaN  NaN  NaN  \n",
      "18283.0     ...    NaN    NaN          NaN NaN  NaN NaN NaN  1.0  NaN  NaN  \n",
      "18287.0     ...    NaN    NaN          NaN NaN  NaN NaN NaN  NaN  NaN  NaN  \n",
      "\n",
      "[4372 rows x 7368 columns]\n"
     ]
    }
   ],
   "source": [
    "print('Bảng Pivot table với mỗi Khách hàng cho biết số lượng mua hàng lớn nhất và nhỏ nhất theo Kho')\n",
    "print(df.pivot_table(values='Quantity',index='CustomerID',columns='StockCode',aggfunc ={max, min}))"
   ]
  },
  {
   "cell_type": "code",
   "execution_count": 9,
   "id": "e165eb8d",
   "metadata": {},
   "outputs": [
    {
     "name": "stdout",
     "output_type": "stream",
     "text": [
      "Bảng Pivot table với mỗi Mã kho tính tổng số lượng các mặt hàng và trung bình cộng giá\n",
      "              Quantity  UnitPrice\n",
      "StockCode                        \n",
      "10002             1037   1.056849\n",
      "10080              495   0.376667\n",
      "10120              193   0.210000\n",
      "10123C             -13   0.487500\n",
      "10123G             -38   0.000000\n",
      "...                ...        ...\n",
      "gift_0001_20        20  15.038000\n",
      "gift_0001_30        37  21.941250\n",
      "gift_0001_40         3  33.566667\n",
      "gift_0001_50         4  41.890000\n",
      "m                    1   2.550000\n",
      "\n",
      "[4070 rows x 2 columns]\n"
     ]
    }
   ],
   "source": [
    "import numpy as np\n",
    "print('Bảng Pivot table với mỗi Mã kho tính tổng số lượng các mặt hàng và trung bình cộng giá')\n",
    "print(df.pivot_table(values = ['Quantity','UnitPrice'],index = 'StockCode', aggfunc = {'Quantity': np.sum, 'UnitPrice': np.mean}))"
   ]
  },
  {
   "cell_type": "code",
   "execution_count": 11,
   "id": "af35b0f6",
   "metadata": {},
   "outputs": [
    {
     "name": "stdout",
     "output_type": "stream",
     "text": [
      "Bảng Pivot table cho biết tổng số lượng hàng bán được của mỗi ngày\n",
      "            Quantity\n",
      "InvoiceDay          \n",
      "1/10/2011       9014\n",
      "1/11/2011      29093\n",
      "1/12/2011      10133\n",
      "1/13/2011      10114\n",
      "1/14/2011      23091\n",
      "...              ...\n",
      "9/5/2011       23484\n",
      "9/6/2011       14959\n",
      "9/7/2011       16211\n",
      "9/8/2011       16944\n",
      "9/9/2011       16100\n",
      "\n",
      "[305 rows x 1 columns]\n"
     ]
    }
   ],
   "source": [
    "print('Bảng Pivot table cho biết tổng số lượng hàng bán được của mỗi ngày')\n",
    "df['InvoiceDay']=df['InvoiceDate'].str.split(' ').str[0]\n",
    "print(df.pivot_table(values = 'Quantity',index = 'InvoiceDay',aggfunc = 'sum'))"
   ]
  }
 ],
 "metadata": {
  "kernelspec": {
   "display_name": "Python 3 (ipykernel)",
   "language": "python",
   "name": "python3"
  },
  "language_info": {
   "codemirror_mode": {
    "name": "ipython",
    "version": 3
   },
   "file_extension": ".py",
   "mimetype": "text/x-python",
   "name": "python",
   "nbconvert_exporter": "python",
   "pygments_lexer": "ipython3",
   "version": "3.10.4"
  }
 },
 "nbformat": 4,
 "nbformat_minor": 5
}

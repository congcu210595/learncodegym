{
 "cells": [
  {
   "cell_type": "code",
   "execution_count": 7,
   "id": "14f4493e",
   "metadata": {},
   "outputs": [
    {
     "name": "stdout",
     "output_type": "stream",
     "text": [
      "          beta  exponential   normal_p   normal_l    bimodal\n",
      "0    50.609393     1.361509   7.618017   9.885207  21.731183\n",
      "1    39.886397     3.207252   9.221032   3.524258  16.954456\n",
      "2    43.858677     5.230149   9.635777   4.150630  15.328190\n",
      "3    55.107002    14.118956  10.248597   5.099137  20.723046\n",
      "4    57.086926     4.219974   9.654659   9.255379  19.348178\n",
      "..         ...          ...        ...        ...        ...\n",
      "995  52.643369    18.908816   9.462678   2.118113 -22.481264\n",
      "996  54.735330     5.989633   8.484884  16.053105 -16.676639\n",
      "997  54.485426     0.241832   9.246754   2.687182 -18.451785\n",
      "998  51.267144     0.056700  10.485904  -1.035327 -21.669114\n",
      "999  59.886254     7.129417  10.860078  10.677931 -21.640226\n",
      "\n",
      "[1000 rows x 5 columns]\n"
     ]
    }
   ],
   "source": [
    "import pandas as pd\n",
    "import numpy as np\n",
    "import matplotlib.pyplot as plt\n",
    "import seaborn as sns\n",
    "from sklearn.preprocessing import StandardScaler\n",
    "\n",
    "df = pd.DataFrame({ \n",
    "    'beta': np.random.beta(5, 1, 1000) * 60,        # beta\n",
    "    'exponential': np.random.exponential(10, 1000), # exponential\n",
    "    'normal_p': np.random.normal(10, 2, 1000),      # normal platykurtic\n",
    "    'normal_l': np.random.normal(10, 10, 1000),     # normal leptokurtic\n",
    "})\n",
    "first_half = np.random.normal(20, 3, 500) \n",
    "second_half = np.random.normal(-20, 3, 500) \n",
    "bimodal = np.concatenate([first_half, second_half])\n",
    "\n",
    "df['bimodal'] = bimodal\n",
    "print(df)"
   ]
  },
  {
   "cell_type": "code",
   "execution_count": 8,
   "id": "1ad865b2",
   "metadata": {},
   "outputs": [
    {
     "data": {
      "text/plain": [
       "<AxesSubplot:ylabel='Density'>"
      ]
     },
     "execution_count": 8,
     "metadata": {},
     "output_type": "execute_result"
    },
    {
     "data": {
      "image/png": "[encoded data removed]",
      "text/plain": [
       "<Figure size 432x288 with 1 Axes>"
      ]
     },
     "metadata": {
      "needs_background": "light"
     },
     "output_type": "display_data"
    }
   ],
   "source": [
    "sns.kdeplot(data=df)"
   ]
  },
  {
   "cell_type": "code",
   "execution_count": 9,
   "id": "e84c4d2e",
   "metadata": {},
   "outputs": [
    {
     "data": {
      "text/html": [
       "<div>\n",
       "<style scoped>\n",
       "    .dataframe tbody tr th:only-of-type {\n",
       "        vertical-align: middle;\n",
       "    }\n",
       "\n",
       "    .dataframe tbody tr th {\n",
       "        vertical-align: top;\n",
       "    }\n",
       "\n",
       "    .dataframe thead th {\n",
       "        text-align: right;\n",
       "    }\n",
       "</style>\n",
       "<table border=\"1\" class=\"dataframe\">\n",
       "  <thead>\n",
       "    <tr style=\"text-align: right;\">\n",
       "      <th></th>\n",
       "      <th>beta</th>\n",
       "      <th>exponential</th>\n",
       "      <th>normal_p</th>\n",
       "      <th>normal_l</th>\n",
       "      <th>bimodal</th>\n",
       "    </tr>\n",
       "  </thead>\n",
       "  <tbody>\n",
       "    <tr>\n",
       "      <th>count</th>\n",
       "      <td>1000.000000</td>\n",
       "      <td>1000.000000</td>\n",
       "      <td>1000.000000</td>\n",
       "      <td>1000.000000</td>\n",
       "      <td>1000.000000</td>\n",
       "    </tr>\n",
       "    <tr>\n",
       "      <th>mean</th>\n",
       "      <td>50.039812</td>\n",
       "      <td>10.363716</td>\n",
       "      <td>10.014050</td>\n",
       "      <td>10.127186</td>\n",
       "      <td>0.056101</td>\n",
       "    </tr>\n",
       "    <tr>\n",
       "      <th>std</th>\n",
       "      <td>8.520861</td>\n",
       "      <td>10.567742</td>\n",
       "      <td>1.992517</td>\n",
       "      <td>10.163150</td>\n",
       "      <td>20.189321</td>\n",
       "    </tr>\n",
       "    <tr>\n",
       "      <th>min</th>\n",
       "      <td>13.987160</td>\n",
       "      <td>0.008441</td>\n",
       "      <td>4.007778</td>\n",
       "      <td>-17.854258</td>\n",
       "      <td>-27.807459</td>\n",
       "    </tr>\n",
       "    <tr>\n",
       "      <th>25%</th>\n",
       "      <td>45.560724</td>\n",
       "      <td>2.975288</td>\n",
       "      <td>8.680383</td>\n",
       "      <td>3.062091</td>\n",
       "      <td>-19.948198</td>\n",
       "    </tr>\n",
       "    <tr>\n",
       "      <th>50%</th>\n",
       "      <td>52.480266</td>\n",
       "      <td>7.042661</td>\n",
       "      <td>10.045715</td>\n",
       "      <td>10.083525</td>\n",
       "      <td>-0.297837</td>\n",
       "    </tr>\n",
       "    <tr>\n",
       "      <th>75%</th>\n",
       "      <td>56.402777</td>\n",
       "      <td>13.972569</td>\n",
       "      <td>11.441979</td>\n",
       "      <td>17.068715</td>\n",
       "      <td>20.183937</td>\n",
       "    </tr>\n",
       "    <tr>\n",
       "      <th>max</th>\n",
       "      <td>59.996961</td>\n",
       "      <td>87.831163</td>\n",
       "      <td>16.876059</td>\n",
       "      <td>40.207516</td>\n",
       "      <td>29.775501</td>\n",
       "    </tr>\n",
       "  </tbody>\n",
       "</table>\n",
       "</div>"
      ],
      "text/plain": [
       "              beta  exponential     normal_p     normal_l      bimodal\n",
       "count  1000.000000  1000.000000  1000.000000  1000.000000  1000.000000\n",
       "mean     50.039812    10.363716    10.014050    10.127186     0.056101\n",
       "std       8.520861    10.567742     1.992517    10.163150    20.189321\n",
       "min      13.987160     0.008441     4.007778   -17.854258   -27.807459\n",
       "25%      45.560724     2.975288     8.680383     3.062091   -19.948198\n",
       "50%      52.480266     7.042661    10.045715    10.083525    -0.297837\n",
       "75%      56.402777    13.972569    11.441979    17.068715    20.183937\n",
       "max      59.996961    87.831163    16.876059    40.207516    29.775501"
      ]
     },
     "execution_count": 9,
     "metadata": {},
     "output_type": "execute_result"
    }
   ],
   "source": [
    "df.describe()"
   ]
  },
  {
   "cell_type": "code",
   "execution_count": 10,
   "id": "c10aab9e",
   "metadata": {},
   "outputs": [
    {
     "data": {
      "text/plain": [
       "<AxesSubplot:ylabel='Density'>"
      ]
     },
     "execution_count": 10,
     "metadata": {},
     "output_type": "execute_result"
    },
    {
     "data": {
      "image/png": "[encoded data removed]",
      "text/plain": [
       "<Figure size 432x288 with 1 Axes>"
      ]
     },
     "metadata": {
      "needs_background": "light"
     },
     "output_type": "display_data"
    }
   ],
   "source": [
    "normal_big = np.random.normal(1000000, 10000, (1000,1))  # normal distribution of large values\n",
    "df['normal_big'] = normal_big\n",
    "sns.kdeplot(data=df)"
   ]
  },
  {
   "cell_type": "code",
   "execution_count": 11,
   "id": "d3409b80",
   "metadata": {},
   "outputs": [
    {
     "data": {
      "text/plain": [
       "<AxesSubplot:>"
      ]
     },
     "execution_count": 11,
     "metadata": {},
     "output_type": "execute_result"
    },
    {
     "data": {
      "image/png": "[encoded data removed]",
      "text/plain": [
       "<Figure size 432x288 with 1 Axes>"
      ]
     },
     "metadata": {
      "needs_background": "light"
     },
     "output_type": "display_data"
    }
   ],
   "source": [
    "df.boxplot()"
   ]
  },
  {
   "cell_type": "code",
   "execution_count": 12,
   "id": "aef478ab",
   "metadata": {},
   "outputs": [
    {
     "data": {
      "text/html": [
       "<div>\n",
       "<style scoped>\n",
       "    .dataframe tbody tr th:only-of-type {\n",
       "        vertical-align: middle;\n",
       "    }\n",
       "\n",
       "    .dataframe tbody tr th {\n",
       "        vertical-align: top;\n",
       "    }\n",
       "\n",
       "    .dataframe thead th {\n",
       "        text-align: right;\n",
       "    }\n",
       "</style>\n",
       "<table border=\"1\" class=\"dataframe\">\n",
       "  <thead>\n",
       "    <tr style=\"text-align: right;\">\n",
       "      <th></th>\n",
       "      <th>beta</th>\n",
       "      <th>exponential</th>\n",
       "      <th>normal_p</th>\n",
       "      <th>normal_l</th>\n",
       "      <th>bimodal</th>\n",
       "      <th>normal_big</th>\n",
       "    </tr>\n",
       "  </thead>\n",
       "  <tbody>\n",
       "    <tr>\n",
       "      <th>0</th>\n",
       "      <td>0.066879</td>\n",
       "      <td>-0.852283</td>\n",
       "      <td>-1.203118</td>\n",
       "      <td>-0.023821</td>\n",
       "      <td>1.074129</td>\n",
       "      <td>-0.531961</td>\n",
       "    </tr>\n",
       "    <tr>\n",
       "      <th>1</th>\n",
       "      <td>-1.192191</td>\n",
       "      <td>-0.677538</td>\n",
       "      <td>-0.398198</td>\n",
       "      <td>-0.650018</td>\n",
       "      <td>0.837414</td>\n",
       "      <td>-0.052789</td>\n",
       "    </tr>\n",
       "    <tr>\n",
       "      <th>2</th>\n",
       "      <td>-0.725775</td>\n",
       "      <td>-0.486020</td>\n",
       "      <td>-0.189942</td>\n",
       "      <td>-0.588356</td>\n",
       "      <td>0.756822</td>\n",
       "      <td>1.273352</td>\n",
       "    </tr>\n",
       "    <tr>\n",
       "      <th>3</th>\n",
       "      <td>0.594978</td>\n",
       "      <td>0.355527</td>\n",
       "      <td>0.117772</td>\n",
       "      <td>-0.494981</td>\n",
       "      <td>1.024169</td>\n",
       "      <td>0.919118</td>\n",
       "    </tr>\n",
       "    <tr>\n",
       "      <th>4</th>\n",
       "      <td>0.827456</td>\n",
       "      <td>-0.581658</td>\n",
       "      <td>-0.180461</td>\n",
       "      <td>-0.085824</td>\n",
       "      <td>0.956037</td>\n",
       "      <td>-1.634235</td>\n",
       "    </tr>\n",
       "  </tbody>\n",
       "</table>\n",
       "</div>"
      ],
      "text/plain": [
       "       beta  exponential  normal_p  normal_l   bimodal  normal_big\n",
       "0  0.066879    -0.852283 -1.203118 -0.023821  1.074129   -0.531961\n",
       "1 -1.192191    -0.677538 -0.398198 -0.650018  0.837414   -0.052789\n",
       "2 -0.725775    -0.486020 -0.189942 -0.588356  0.756822    1.273352\n",
       "3  0.594978     0.355527  0.117772 -0.494981  1.024169    0.919118\n",
       "4  0.827456    -0.581658 -0.180461 -0.085824  0.956037   -1.634235"
      ]
     },
     "execution_count": 12,
     "metadata": {},
     "output_type": "execute_result"
    }
   ],
   "source": [
    "# Khai báo đối tượng StandardScaler\n",
    "s_scaler = StandardScaler()\n",
    "\n",
    "# Chuẩn hóa dữ liệu trong df với StandardScaler\n",
    "df_s = s_scaler.fit_transform(df)\n",
    "\n",
    "# lấy danh sáchc cột\n",
    "col_names = list(df.columns)\n",
    "\n",
    "# chuyển về DataFrame, gán các cột của df cho dữ liệu đã được chuẩn hóa\n",
    "df_s = pd.DataFrame(df_s, columns=col_names)\n",
    "\n",
    "df_s.head()"
   ]
  },
  {
   "cell_type": "code",
   "execution_count": 13,
   "id": "7843aacd",
   "metadata": {},
   "outputs": [
    {
     "data": {
      "text/plain": [
       "<AxesSubplot:ylabel='Density'>"
      ]
     },
     "execution_count": 13,
     "metadata": {},
     "output_type": "execute_result"
    },
    {
     "data": {
      "image/png": "[encoded data removed]",
      "text/plain": [
       "<Figure size 432x288 with 1 Axes>"
      ]
     },
     "metadata": {
      "needs_background": "light"
     },
     "output_type": "display_data"
    }
   ],
   "source": [
    "sns.kdeplot(data=df_s)"
   ]
  },
  {
   "cell_type": "code",
   "execution_count": 14,
   "id": "ce6d9071",
   "metadata": {},
   "outputs": [
    {
     "data": {
      "text/html": [
       "<div>\n",
       "<style scoped>\n",
       "    .dataframe tbody tr th:only-of-type {\n",
       "        vertical-align: middle;\n",
       "    }\n",
       "\n",
       "    .dataframe tbody tr th {\n",
       "        vertical-align: top;\n",
       "    }\n",
       "\n",
       "    .dataframe thead th {\n",
       "        text-align: right;\n",
       "    }\n",
       "</style>\n",
       "<table border=\"1\" class=\"dataframe\">\n",
       "  <thead>\n",
       "    <tr style=\"text-align: right;\">\n",
       "      <th></th>\n",
       "      <th>beta</th>\n",
       "      <th>exponential</th>\n",
       "      <th>normal_p</th>\n",
       "      <th>normal_l</th>\n",
       "      <th>bimodal</th>\n",
       "      <th>normal_big</th>\n",
       "    </tr>\n",
       "  </thead>\n",
       "  <tbody>\n",
       "    <tr>\n",
       "      <th>count</th>\n",
       "      <td>1.000000e+03</td>\n",
       "      <td>1.000000e+03</td>\n",
       "      <td>1.000000e+03</td>\n",
       "      <td>1.000000e+03</td>\n",
       "      <td>1.000000e+03</td>\n",
       "      <td>1.000000e+03</td>\n",
       "    </tr>\n",
       "    <tr>\n",
       "      <th>mean</th>\n",
       "      <td>-2.238210e-16</td>\n",
       "      <td>2.202682e-16</td>\n",
       "      <td>-1.687539e-17</td>\n",
       "      <td>-3.730349e-17</td>\n",
       "      <td>5.684342e-17</td>\n",
       "      <td>5.673684e-15</td>\n",
       "    </tr>\n",
       "    <tr>\n",
       "      <th>std</th>\n",
       "      <td>1.000500e+00</td>\n",
       "      <td>1.000500e+00</td>\n",
       "      <td>1.000500e+00</td>\n",
       "      <td>1.000500e+00</td>\n",
       "      <td>1.000500e+00</td>\n",
       "      <td>1.000500e+00</td>\n",
       "    </tr>\n",
       "    <tr>\n",
       "      <th>min</th>\n",
       "      <td>-4.233221e+00</td>\n",
       "      <td>-9.803851e-01</td>\n",
       "      <td>-3.015923e+00</td>\n",
       "      <td>-2.754603e+00</td>\n",
       "      <td>-1.380804e+00</td>\n",
       "      <td>-2.889079e+00</td>\n",
       "    </tr>\n",
       "    <tr>\n",
       "      <th>25%</th>\n",
       "      <td>-5.259243e-01</td>\n",
       "      <td>-6.994990e-01</td>\n",
       "      <td>-6.696730e-01</td>\n",
       "      <td>-6.955156e-01</td>\n",
       "      <td>-9.913315e-01</td>\n",
       "      <td>-6.686800e-01</td>\n",
       "    </tr>\n",
       "    <tr>\n",
       "      <th>50%</th>\n",
       "      <td>2.865527e-01</td>\n",
       "      <td>-3.144207e-01</td>\n",
       "      <td>1.589951e-02</td>\n",
       "      <td>-4.298135e-03</td>\n",
       "      <td>-1.753971e-02</td>\n",
       "      <td>-1.462110e-02</td>\n",
       "    </tr>\n",
       "    <tr>\n",
       "      <th>75%</th>\n",
       "      <td>7.471251e-01</td>\n",
       "      <td>3.416679e-01</td>\n",
       "      <td>7.170042e-01</td>\n",
       "      <td>6.833514e-01</td>\n",
       "      <td>9.974534e-01</td>\n",
       "      <td>6.522558e-01</td>\n",
       "    </tr>\n",
       "    <tr>\n",
       "      <th>max</th>\n",
       "      <td>1.169146e+00</td>\n",
       "      <td>7.334226e+00</td>\n",
       "      <td>3.445613e+00</td>\n",
       "      <td>2.961226e+00</td>\n",
       "      <td>1.472772e+00</td>\n",
       "      <td>3.035941e+00</td>\n",
       "    </tr>\n",
       "  </tbody>\n",
       "</table>\n",
       "</div>"
      ],
      "text/plain": [
       "               beta   exponential      normal_p      normal_l       bimodal  \\\n",
       "count  1.000000e+03  1.000000e+03  1.000000e+03  1.000000e+03  1.000000e+03   \n",
       "mean  -2.238210e-16  2.202682e-16 -1.687539e-17 -3.730349e-17  5.684342e-17   \n",
       "std    1.000500e+00  1.000500e+00  1.000500e+00  1.000500e+00  1.000500e+00   \n",
       "min   -4.233221e+00 -9.803851e-01 -3.015923e+00 -2.754603e+00 -1.380804e+00   \n",
       "25%   -5.259243e-01 -6.994990e-01 -6.696730e-01 -6.955156e-01 -9.913315e-01   \n",
       "50%    2.865527e-01 -3.144207e-01  1.589951e-02 -4.298135e-03 -1.753971e-02   \n",
       "75%    7.471251e-01  3.416679e-01  7.170042e-01  6.833514e-01  9.974534e-01   \n",
       "max    1.169146e+00  7.334226e+00  3.445613e+00  2.961226e+00  1.472772e+00   \n",
       "\n",
       "         normal_big  \n",
       "count  1.000000e+03  \n",
       "mean   5.673684e-15  \n",
       "std    1.000500e+00  \n",
       "min   -2.889079e+00  \n",
       "25%   -6.686800e-01  \n",
       "50%   -1.462110e-02  \n",
       "75%    6.522558e-01  \n",
       "max    3.035941e+00  "
      ]
     },
     "execution_count": 14,
     "metadata": {},
     "output_type": "execute_result"
    }
   ],
   "source": [
    "df_s.describe()"
   ]
  },
  {
   "cell_type": "code",
   "execution_count": 15,
   "id": "54258d1d",
   "metadata": {},
   "outputs": [
    {
     "data": {
      "text/plain": [
       "<AxesSubplot:>"
      ]
     },
     "execution_count": 15,
     "metadata": {},
     "output_type": "execute_result"
    },
    {
     "data": {
      "image/png": "[encoded data removed]",
      "text/plain": [
       "<Figure size 432x288 with 1 Axes>"
      ]
     },
     "metadata": {
      "needs_background": "light"
     },
     "output_type": "display_data"
    }
   ],
   "source": [
    "df_s.boxplot()"
   ]
  }
 ],
 "metadata": {
  "kernelspec": {
   "display_name": "Python 3 (ipykernel)",
   "language": "python",
   "name": "python3"
  },
  "language_info": {
   "codemirror_mode": {
    "name": "ipython",
    "version": 3
   },
   "file_extension": ".py",
   "mimetype": "text/x-python",
   "name": "python",
   "nbconvert_exporter": "python",
   "pygments_lexer": "ipython3",
   "version": "3.10.4"
  }
 },
 "nbformat": 4,
 "nbformat_minor": 5
}

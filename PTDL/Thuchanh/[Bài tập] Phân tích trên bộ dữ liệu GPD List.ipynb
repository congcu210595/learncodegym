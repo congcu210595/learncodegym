{
 "cells": [
  {
   "cell_type": "code",
   "execution_count": 22,
   "id": "e2c7326e",
   "metadata": {},
   "outputs": [
    {
     "name": "stdout",
     "output_type": "stream",
     "text": [
      "<class 'pandas.core.frame.DataFrame'>\n",
      "RangeIndex: 125 entries, 0 to 124\n",
      "Data columns (total 3 columns):\n",
      " #   Column                 Non-Null Count  Dtype \n",
      "---  ------                 --------------  ----- \n",
      " 0   Country                125 non-null    object\n",
      " 1   Continent              125 non-null    object\n",
      " 2   GDP (millions of US$)  125 non-null    int64 \n",
      "dtypes: int64(1), object(2)\n",
      "memory usage: 3.1+ KB\n",
      "None\n",
      "Dữ liệu có 125 dòng và 3 cột\n",
      "Country và Continent là nominal, GDP (millions of US$) ratio\n"
     ]
    }
   ],
   "source": [
    "import pandas as pd\n",
    "import numpy as np\n",
    "\n",
    "df = pd.read_csv('GDPlist.csv', encoding = \"ISO-8859-1\")\n",
    "print(df.info())\n",
    "print('Dữ liệu có 125 dòng và 3 cột')\n",
    "print('Country và Continent là nominal, GDP (millions of US$) ratio')\n"
   ]
  },
  {
   "cell_type": "code",
   "execution_count": 23,
   "id": "6a0a289c",
   "metadata": {},
   "outputs": [
    {
     "name": "stdout",
     "output_type": "stream",
     "text": [
      "           Nuoc        Chauluc   GDP (trieu $)\n",
      "0   Afghanistan           Asia           18181\n",
      "1       Albania         Europe           12847\n",
      "2       Algeria         Africa          190709\n",
      "3        Angola         Africa          100948\n",
      "4     Argentina  South America          447644\n"
     ]
    }
   ],
   "source": [
    "df.rename(columns={'Country' : 'Nuoc', 'Continent' : 'Chauluc', 'GDP (millions of US$)': ' GDP (trieu $)'},inplace = True)\n",
    "print(df.head())"
   ]
  },
  {
   "cell_type": "code",
   "execution_count": 24,
   "id": "e874bed4",
   "metadata": {
    "scrolled": true
   },
   "outputs": [
    {
     "name": "stdout",
     "output_type": "stream",
     "text": [
      "           Nuoc     Thanh_pho        Chauluc   GDP (trieu $)\n",
      "0   Afghanistan   Afghanistan           Asia           18181\n",
      "1       Albania       Albania         Europe           12847\n",
      "2       Algeria       Algeria         Africa          190709\n",
      "3        Angola        Angola         Africa          100948\n",
      "4     Argentina     Argentina  South America          447644\n"
     ]
    }
   ],
   "source": [
    "df.insert(1,'Thanh_pho',df.Nuoc)\n",
    "print(df.head())"
   ]
  },
  {
   "cell_type": "code",
   "execution_count": 25,
   "id": "43cf0c7b",
   "metadata": {},
   "outputs": [
    {
     "ename": "TypeError",
     "evalue": "'Int64Index' object is not callable",
     "output_type": "error",
     "traceback": [
      "\u001b[1;31m---------------------------------------------------------------------------\u001b[0m",
      "\u001b[1;31mTypeError\u001b[0m                                 Traceback (most recent call last)",
      "Input \u001b[1;32mIn [25]\u001b[0m, in \u001b[0;36m<cell line: 2>\u001b[1;34m()\u001b[0m\n\u001b[0;32m      1\u001b[0m df[\u001b[38;5;124m'\u001b[39m\u001b[38;5;124mThanh_pho\u001b[39m\u001b[38;5;124m'\u001b[39m]\u001b[38;5;241m.\u001b[39mreplace(\u001b[38;5;124m'\u001b[39m\u001b[38;5;124mVietnam\u001b[39m\u001b[38;5;124m'\u001b[39m,\u001b[38;5;124m'\u001b[39m\u001b[38;5;124mHanoi\u001b[39m\u001b[38;5;124m'\u001b[39m,inplace \u001b[38;5;241m=\u001b[39m \u001b[38;5;28;01mTrue\u001b[39;00m)\n\u001b[1;32m----> 2\u001b[0m df[\u001b[38;5;124m'\u001b[39m\u001b[38;5;124mThanh_pho\u001b[39m\u001b[38;5;124m'\u001b[39m][\u001b[43mdf\u001b[49m\u001b[43m[\u001b[49m\u001b[43mdf\u001b[49m\u001b[43m[\u001b[49m\u001b[38;5;124;43m'\u001b[39;49m\u001b[38;5;124;43mThanh_pho\u001b[39;49m\u001b[38;5;124;43m'\u001b[39;49m\u001b[43m]\u001b[49m\u001b[43m \u001b[49m\u001b[38;5;241;43m==\u001b[39;49m\u001b[43m \u001b[49m\u001b[38;5;124;43m'\u001b[39;49m\u001b[38;5;124;43mVietnam\u001b[39;49m\u001b[38;5;124;43m'\u001b[39;49m\u001b[43m]\u001b[49m\u001b[38;5;241;43m.\u001b[39;49m\u001b[43mindex\u001b[49m\u001b[43m(\u001b[49m\u001b[43m)\u001b[49m\u001b[38;5;241m.\u001b[39mastype(\u001b[38;5;28mint\u001b[39m)] \u001b[38;5;241m=\u001b[39m \u001b[38;5;124m'\u001b[39m\u001b[38;5;124mHanoi\u001b[39m\u001b[38;5;124m'\u001b[39m\n",
      "\u001b[1;31mTypeError\u001b[0m: 'Int64Index' object is not callable"
     ]
    }
   ],
   "source": [
    "df['Thanh_pho'].replace('Vietnam','Hanoi',inplace = True)\n",
    "df['Thanh_pho'][df[df['Thanh_pho'] == 'Vietnam'].index().astype(int)] = 'Hanoi'"
   ]
  },
  {
   "cell_type": "code",
   "execution_count": 19,
   "id": "ef0fc172",
   "metadata": {},
   "outputs": [
    {
     "name": "stdout",
     "output_type": "stream",
     "text": [
      "            Nuoc    Thanh_pho        Chauluc   GDP (trieu $)\n",
      "120   Uzbekistan   Uzbekistan           Asia           45353\n",
      "121    Venezuela    Venezuela  South America          315841\n",
      "122      Vietnam        Hanoi           Asia          122722\n",
      "123        Yemen        Yemen         Africa           33675\n",
      "124       Zambia       Zambia         Africa           19206\n"
     ]
    }
   ],
   "source": [
    "print(df.tail())"
   ]
  },
  {
   "cell_type": "code",
   "execution_count": 6,
   "id": "cb5baa50",
   "metadata": {},
   "outputs": [
    {
     "name": "stdout",
     "output_type": "stream",
     "text": [
      "               Nuoc       Thanh_pho        Chauluc   GDP (trieu $)\n",
      "1           Albania         Albania         Europe           12847\n",
      "2           Algeria         Algeria         Africa          190709\n",
      "3            Angola          Angola         Africa          100948\n",
      "4         Argentina       Argentina  South America          447644\n",
      "5         Australia       Australia        Oceania         1488221\n",
      "..              ...             ...            ...             ...\n",
      "118   United States   United States  North America        15094025\n",
      "119         Uruguay         Uruguay  South America           46872\n",
      "121       Venezuela       Venezuela  South America          315841\n",
      "123           Yemen           Yemen         Africa           33675\n",
      "124          Zambia          Zambia         Africa           19206\n",
      "\n",
      "[89 rows x 4 columns]\n"
     ]
    }
   ],
   "source": [
    "df.drop(df.loc[df.Chauluc == 'Asia'].index,axis = 0,inplace = True)\n",
    "print(df)"
   ]
  },
  {
   "cell_type": "code",
   "execution_count": 10,
   "id": "5a2bb596",
   "metadata": {},
   "outputs": [
    {
     "name": "stdout",
     "output_type": "stream",
     "text": [
      "                Nuoc        Thanh_pho        Chauluc       GDP\n",
      "4          Argentina        Argentina  South America    447644\n",
      "5          Australia        Australia        Oceania   1488221\n",
      "6            Austria          Austria         Europe    419243\n",
      "11           Belgium          Belgium         Europe    513396\n",
      "15            Brazil           Brazil  South America   2492908\n",
      "21            Canada           Canada  North America   1736869\n",
      "24          Colombia         Colombia  South America    328422\n",
      "32           Denmark          Denmark         Europe    333238\n",
      "41            France           France         Europe   2776324\n",
      "44           Germany          Germany         Europe   3577031\n",
      "46            Greece           Greece         Europe    303065\n",
      "58             Italy            Italy         Europe   2198730\n",
      "73            Mexico           Mexico  North America   1154784\n",
      "78       Netherlands      Netherlands         Europe    840433\n",
      "81            Norway           Norway         Europe    483650\n",
      "89            Poland           Poland         Europe    513821\n",
      "100     South Africa     South Africa         Africa    408074\n",
      "102            Spain            Spain         Europe   1493513\n",
      "105           Sweden           Sweden         Europe    538237\n",
      "106      Switzerland      Switzerland         Europe    636059\n",
      "117   United Kingdom   United Kingdom         Europe   2417570\n",
      "118    United States    United States  North America  15094025\n",
      "121        Venezuela        Venezuela  South America    315841\n"
     ]
    }
   ],
   "source": [
    "df.rename(columns={' GDP (trieu $)' : 'GDP'},inplace = True)\n",
    "df.drop(df.loc[df.GDP < 300000].index,axis = 0,inplace = True)\n",
    "print(df)"
   ]
  }
 ],
 "metadata": {
  "kernelspec": {
   "display_name": "Python 3 (ipykernel)",
   "language": "python",
   "name": "python3"
  },
  "language_info": {
   "codemirror_mode": {
    "name": "ipython",
    "version": 3
   },
   "file_extension": ".py",
   "mimetype": "text/x-python",
   "name": "python",
   "nbconvert_exporter": "python",
   "pygments_lexer": "ipython3",
   "version": "3.10.4"
  }
 },
 "nbformat": 4,
 "nbformat_minor": 5
}

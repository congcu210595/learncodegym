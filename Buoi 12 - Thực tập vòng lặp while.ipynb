{
 "cells": [
  {
   "cell_type": "markdown",
   "id": "1f7be993",
   "metadata": {},
   "source": [
    "# Thực tập vòng lặp While\n",
    "\n",
    "### Bài 1\n",
    "\n",
    "Nhập vào số a, sử dụng lệnh while (không sử dụng break và for) để xác định xem số đó có phải là số nguyên tố hay không"
   ]
  },
  {
   "cell_type": "code",
   "execution_count": 9,
   "id": "8cb73965",
   "metadata": {},
   "outputs": [
    {
     "name": "stdout",
     "output_type": "stream",
     "text": [
      "Nhập số a = 31\n",
      "a là số nguyên tố\n"
     ]
    }
   ],
   "source": [
    "a = float(input(\"Nhập số a = \"))\n",
    "while a <= 0 or a % 1 != 0:\n",
    "    a = float(input(\"Nhập số a = \"))\n",
    "\n",
    "i = 1\n",
    "k = 0\n",
    "while i <= a**0.5:\n",
    "    if a % i == 0:\n",
    "        k += 1\n",
    "    i += 1\n",
    "if k == 1:\n",
    "    print(\"a là số nguyên tố\")\n",
    "else:\n",
    "    print(\"a không phải số nguyên tố\")"
   ]
  },
  {
   "cell_type": "markdown",
   "id": "9f2357ca",
   "metadata": {},
   "source": [
    "### Bài 2\n",
    "\n",
    "Hãy sử dụng lệnh while lập trình cho bài đoán số ở buổi thứ 9"
   ]
  },
  {
   "cell_type": "code",
   "execution_count": null,
   "id": "db79cb9d",
   "metadata": {},
   "outputs": [],
   "source": []
  },
  {
   "cell_type": "markdown",
   "id": "58f5b789",
   "metadata": {},
   "source": [
    "### Bài 3\n",
    "\n",
    "Nhập vào số a, hãy đếm a có bao nhiêu chữ số chẵn, bao nhiêu cữ số lẻ\n",
    "\n",
    "#### Cách 1 (dùng chuỗi):"
   ]
  },
  {
   "cell_type": "code",
   "execution_count": 2,
   "id": "e7f9da21",
   "metadata": {},
   "outputs": [
    {
     "name": "stdout",
     "output_type": "stream",
     "text": [
      "Nhập số a = 12345678924680\n",
      "Số chữ số chẵn:  9 Số chữ số lẻ : 5\n"
     ]
    }
   ],
   "source": [
    "a = float(input(\"Nhập số a = \"))\n",
    "while a <= 0 or a % 1 != 0:\n",
    "    a = float(input(\"Nhập số a = \"))\n",
    "\n",
    "c = 0\n",
    "l = 0\n",
    "b = str(int(a))\n",
    "i = 0\n",
    "while i < len(b):\n",
    "    if int(b[i]) % 2 == 0:\n",
    "        c += 1\n",
    "    else:\n",
    "        l += 1\n",
    "    i += 1\n",
    "print(\"Số chữ số chẵn: \", c ,\"Số chữ số lẻ :\", l)"
   ]
  },
  {
   "cell_type": "markdown",
   "id": "9a3d9703",
   "metadata": {},
   "source": [
    "#### Cách 2 (không dùng chuỗi):"
   ]
  },
  {
   "cell_type": "code",
   "execution_count": 14,
   "id": "d4e474c8",
   "metadata": {},
   "outputs": [
    {
     "name": "stdout",
     "output_type": "stream",
     "text": [
      "Nhập số a = 12345678924680\n",
      "Số chữ số chẵn:  9 Số chữ số lẻ : 5\n"
     ]
    }
   ],
   "source": [
    "a = float(input(\"Nhập số a = \"))\n",
    "while a <= 0 or a % 1 != 0:\n",
    "    a = float(input(\"Nhập số a = \"))\n",
    "c = 0\n",
    "l = 0\n",
    "while a >= 1:\n",
    "    s = a % 10\n",
    "    if s % 2 == 0:\n",
    "        c += 1\n",
    "    else:\n",
    "        l += 1\n",
    "    a = a // 10\n",
    "print(\"Số chữ số chẵn: \", c ,\"Số chữ số lẻ :\", l)"
   ]
  },
  {
   "cell_type": "markdown",
   "id": "69539ece",
   "metadata": {},
   "source": [
    "### Bài 4\n",
    "\n",
    "Nhập vào số a, hãy tính tổng các chữ số nguyên tố của a"
   ]
  },
  {
   "cell_type": "code",
   "execution_count": 1,
   "id": "f001bd9a",
   "metadata": {},
   "outputs": [
    {
     "name": "stdout",
     "output_type": "stream",
     "text": [
      "Nhập số a = 123456789\n",
      "17.0\n"
     ]
    }
   ],
   "source": [
    "a = float(input(\"Nhập số a = \"))\n",
    "while a <= 0 or a % 1 != 0:\n",
    "    a = float(input(\"Nhập số a = \"))\n",
    "S = 0\n",
    "while a >= 1:\n",
    "    x = a % 10\n",
    "    if x == 2 or x == 3 or x == 5 or x == 7:\n",
    "        S += x\n",
    "    a = a // 10\n",
    "print(S)\n",
    "    "
   ]
  },
  {
   "cell_type": "markdown",
   "id": "0a5075a4",
   "metadata": {},
   "source": [
    "### Bài 5\n",
    "\n",
    "Số armstrong là số có tổng của các chữ số mũ số lượng chữ số bằng chính nó\n",
    "\n",
    "Ví dụ\n",
    "\n",
    "Số 371 là một số armstrong vì:\n",
    "\n",
    "371 = 3^3 + 7^3 + 1^3 (3 là số lượng chữ số của 371)\n",
    "\n",
    "Số 1634 là một số armstrong vì:\n",
    "\n",
    "1634 = 1^4 + 6^4 + 3^4 + 4^4 (4 là số lượng chữ số của 1634)\n",
    "\n",
    "Nhập vào số a, kiểm tra xem a có phải là số armstrong không"
   ]
  },
  {
   "cell_type": "code",
   "execution_count": 14,
   "id": "b9ed54a5",
   "metadata": {},
   "outputs": [
    {
     "name": "stdout",
     "output_type": "stream",
     "text": [
      "Nhập số a = 55\n",
      "a không phải số armstrong\n"
     ]
    }
   ],
   "source": [
    "a = float(input(\"Nhập số a = \"))\n",
    "while a <= 0 or a % 1 != 0:\n",
    "    a = float(input(\"Nhập số a = \"))\n",
    "i = 0\n",
    "b = a\n",
    "c = a\n",
    "while a >= 1:\n",
    "    a = a // 10\n",
    "    i += 1\n",
    "S = 0\n",
    "while b >= 1:\n",
    "    x = b % 10\n",
    "    S += x**i\n",
    "    b = b // 10\n",
    "if S == c:\n",
    "    print(\"a là số armstrong\")\n",
    "else:\n",
    "    print(\"a không phải số armstrong\")"
   ]
  },
  {
   "cell_type": "markdown",
   "id": "f8a584d3",
   "metadata": {},
   "source": [
    "### Bài 6\n",
    "\n",
    "Dãy số fibonacci là dãy số được định nghĩa như sau: 1, 1, 2, 3, 5, 8, 13,... với số kế tiếp sẽ bằng tổng hai số trước đó\n",
    "\n",
    "Nhập vào A, hãy tìm số trong dãy số fibonacci lớn nhất nhưng không vượt quá A"
   ]
  },
  {
   "cell_type": "code",
   "execution_count": 26,
   "id": "3ad4d85b",
   "metadata": {},
   "outputs": [
    {
     "name": "stdout",
     "output_type": "stream",
     "text": [
      "Nhập số a = 38\n",
      "34\n"
     ]
    }
   ],
   "source": [
    "a = float(input(\"Nhập số a = \"))\n",
    "while a <= 0 or a % 1 != 0:\n",
    "    a = float(input(\"Nhập số a = \"))\n",
    "x = 1\n",
    "y = 1\n",
    "while y <= a:\n",
    "    S = x + y\n",
    "    x = y\n",
    "    y = S\n",
    "print(x)"
   ]
  },
  {
   "cell_type": "markdown",
   "id": "9fa794f2",
   "metadata": {},
   "source": [
    "### Bài 7\n",
    "\n",
    "Nhập vào A, tìm n nhỏ nhất sao cho\n",
    "\n",
    "1 + 1/2 + 1/3 + 1/4 + ... + 1/n > A"
   ]
  },
  {
   "cell_type": "code",
   "execution_count": 9,
   "id": "246ec002",
   "metadata": {},
   "outputs": [
    {
     "name": "stdout",
     "output_type": "stream",
     "text": [
      "Nhập số a = 1\n",
      "2\n"
     ]
    }
   ],
   "source": [
    "a = float(input(\"Nhập số a = \"))\n",
    "while a <= 0 or a % 1 != 0:\n",
    "    a = float(input(\"Nhập số a = \"))\n",
    "S = 0\n",
    "n = 0\n",
    "while S <= a :\n",
    "    n += 1\n",
    "    S += 1/n\n",
    "print(n)"
   ]
  },
  {
   "cell_type": "markdown",
   "id": "c5fd4d8a",
   "metadata": {},
   "source": [
    "### Bài 8\n",
    "\n",
    "Nhập vào a và b là số nguyên dương (b có một chữ số, nhập sai yêu cầu nhập lại), hãy tìm vị trí đầu tiên (bắt đầu từ bên trái) của b trong a, nếu không tìm thấy thì in kết quả là 0 (ví trí đầu bắt đầu từ 1)\n",
    "\n",
    "<b>Ví dụ:</b>\n",
    "\n",
    "<b>Nhập:</b>\n",
    "- a = 125785\n",
    "- b = 5\n",
    "\n",
    "<b>Kết quả:</b> 3 (do số 5 nằm ở vị trí 3)"
   ]
  },
  {
   "cell_type": "code",
   "execution_count": 5,
   "id": "9edf35ac",
   "metadata": {
    "scrolled": true
   },
   "outputs": [
    {
     "name": "stdout",
     "output_type": "stream",
     "text": [
      "Nhập số a = 1113233\n",
      "0\n"
     ]
    }
   ],
   "source": [
    "a = float(input(\"Nhập số a = \"))\n",
    "while a <= 0 or a % 1 != 0:\n",
    "    a = float(input(\"Nhập số a = \"))\n",
    "    \n",
    "b = str(a)\n",
    "i = 0\n",
    "S = 0\n",
    "while i < len(b):\n",
    "    if b[i] == \"5\":\n",
    "        S = S + i + 1\n",
    "        break\n",
    "    i += 1\n",
    "print(S)\n"
   ]
  }
 ],
 "metadata": {
  "kernelspec": {
   "display_name": "Python 3 (ipykernel)",
   "language": "python",
   "name": "python3"
  },
  "language_info": {
   "codemirror_mode": {
    "name": "ipython",
    "version": 3
   },
   "file_extension": ".py",
   "mimetype": "text/x-python",
   "name": "python",
   "nbconvert_exporter": "python",
   "pygments_lexer": "ipython3",
   "version": "3.10.4"
  }
 },
 "nbformat": 4,
 "nbformat_minor": 5
}

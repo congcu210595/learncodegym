{
 "cells": [
  {
   "cell_type": "markdown",
   "id": "73456e5e",
   "metadata": {},
   "source": [
    "# Hàm\n",
    "\n",
    "### Hàm\n",
    "\n",
    "Cú pháp:\n",
    "\n",
    "`def <tên hàm>(<tham số)>:\n",
    "    //Nội dung hàm`\n",
    "\n",
    "Gọi hàm:\n",
    "`<tên hàm>(<giá trị đầu vào>)`\n",
    "\n",
    "Ví dụ:\n",
    "\n",
    "Hãy viết 1 hàm số để tính tổng 2 số đầu vào và in nó ra màn hình"
   ]
  },
  {
   "cell_type": "code",
   "execution_count": 4,
   "id": "af5b9f6d",
   "metadata": {},
   "outputs": [
    {
     "name": "stdout",
     "output_type": "stream",
     "text": [
      "Nhập tên: Công\n",
      "Nhập năm sinh: 1995\n",
      "Xin chào Công, bạn có 27 tuổi\n"
     ]
    }
   ],
   "source": [
    "def  thongtin():\n",
    "    ten = input(\"Nhập tên: \")\n",
    "    namsinh = int(input(\"Nhập năm sinh: \"))\n",
    "    print(\"Xin chào \",ten,\", bạn có \",2022 - namsinh,\" tuổi\",sep = \"\")\n",
    "    \n",
    "thongtin()"
   ]
  },
  {
   "cell_type": "code",
   "execution_count": 6,
   "id": "f426ae09",
   "metadata": {
    "scrolled": false
   },
   "outputs": [
    {
     "name": "stdout",
     "output_type": "stream",
     "text": [
      "7 x 1 = 7\n",
      "7 x 2 = 14\n",
      "7 x 3 = 21\n",
      "7 x 4 = 28\n",
      "7 x 5 = 35\n",
      "7 x 6 = 42\n",
      "7 x 7 = 49\n",
      "7 x 8 = 56\n",
      "7 x 9 = 63\n",
      "7 x 10 = 70\n"
     ]
    }
   ],
   "source": []
  },
  {
   "cell_type": "code",
   "execution_count": 7,
   "id": "d5b93755",
   "metadata": {},
   "outputs": [
    {
     "name": "stdout",
     "output_type": "stream",
     "text": [
      "44 363 0.3333333333333333 -22\n"
     ]
    }
   ],
   "source": [
    "def ttth(a,b):\n",
    "    tong = a + b\n",
    "    tich = a * b\n",
    "    thuong = a/b\n",
    "    hieu = a - b\n",
    "    print(tong,tich,thuong,hieu)\n",
    "ttth(11,33)\n",
    "    "
   ]
  },
  {
   "cell_type": "code",
   "execution_count": 8,
   "id": "6e309346",
   "metadata": {},
   "outputs": [
    {
     "name": "stdout",
     "output_type": "stream",
     "text": [
      "Tên sản phẩm Bột giặt\n",
      "Giá:  150000\n",
      "Nhập số lượng cần mua:2\n",
      "Số tiền cần trả là  300000\n"
     ]
    }
   ],
   "source": [
    "def hanghoa(S,a):\n",
    "    print(\"Tên sản phẩm\",S)\n",
    "    print(\"Giá: \",a)\n",
    "    l = int(input(\"Nhập số lượng cần mua:\"))\n",
    "    l = l * \n",
    "    print(\"Số tiền cần trả là \",l)\n",
    "hanghoa(\"Bột giặt\",150000)\n"
   ]
  },
  {
   "cell_type": "code",
   "execution_count": 11,
   "id": "50a97dd8",
   "metadata": {},
   "outputs": [
    {
     "name": "stdout",
     "output_type": "stream",
     "text": [
      "Tên sản phẩm Cơm sườn\n",
      "Giá:  30000\n",
      "Nhập số lượng cần mua:1\n",
      "Tên sản phẩm Cơm gà\n",
      "Giá:  35000\n",
      "Nhập số lượng cần mua:2\n",
      "Tên sản phẩm Cơm trứng\n",
      "Giá:  25000\n",
      "Nhập số lượng cần mua:3\n",
      "Tổng tiền phải trả =  175000\n"
     ]
    }
   ],
   "source": [
    "def hanghoa(S,a):\n",
    "    print(\"Tên sản phẩm\",S)\n",
    "    print(\"Giá: \",a)\n",
    "    l = int(input(\"Nhập số lượng cần mua:\"))\n",
    "    l = l * a\n",
    "    return l\n",
    "b = hanghoa(\"Cơm sườn\",30000)\n",
    "c = hanghoa(\"Cơm gà\",35000)\n",
    "d = hanghoa(\"Cơm trứng\",25000)\n",
    "print(\"Tổng tiền phải trả = \",b + c + d)"
   ]
  },
  {
   "cell_type": "markdown",
   "id": "a7c39f47",
   "metadata": {},
   "source": [
    "### Giá trị trả về của hàm\n",
    "\n",
    "# return\n",
    "\n",
    "Cú pháp:\n",
    "\n",
    "`retrun <giá trị trả về>`\n",
    "\n",
    "##### Lưu ý: Sau khi thực hiện lệnh return, chương trình sẽ thoát khỏi hàm ngay lập tức (những lệnh sau đó không được thực hiện)\n",
    "\n",
    "Ví dụ:\n",
    "\n",
    "Hãy viết 1 hàm trả về giá trị trung bình của 2 số bất kỳ"
   ]
  },
  {
   "cell_type": "code",
   "execution_count": 31,
   "id": "4fa92cd1",
   "metadata": {},
   "outputs": [
    {
     "data": {
      "text/plain": [
       "False"
      ]
     },
     "execution_count": 31,
     "metadata": {},
     "output_type": "execute_result"
    }
   ],
   "source": [
    "def kiemtra(a):\n",
    "    k = True\n",
    "    for i in range(2,a):\n",
    "        if a % i == 0:\n",
    "            k =  False \n",
    "            break\n",
    "    return k\n",
    "kiemtra(24)"
   ]
  },
  {
   "cell_type": "markdown",
   "id": "1d7f8db0",
   "metadata": {},
   "source": [
    "### Bài tập"
   ]
  },
  {
   "cell_type": "markdown",
   "id": "75fb488b",
   "metadata": {},
   "source": [
    "Viết hàm kiểm tra số nguyên tố"
   ]
  },
  {
   "cell_type": "code",
   "execution_count": null,
   "id": "63701bd7",
   "metadata": {},
   "outputs": [],
   "source": [
    "def kiemtra(a):\n",
    "    k = True\n",
    "    for i in range(2,a):\n",
    "        if a % i == 0:\n",
    "            k =  False \n",
    "            break\n",
    "    return k\n",
    "kiemtra(24)"
   ]
  },
  {
   "cell_type": "markdown",
   "id": "221103cf",
   "metadata": {},
   "source": [
    "Nhập vào 3 điểm toán, lý, hóa\n",
    "\n",
    "Hãy viết hàm in điểm trung bung bình rồi tính điểm trung bình của toán lý, toán hóa, lý hóa và toán lý hóa"
   ]
  },
  {
   "cell_type": "code",
   "execution_count": 32,
   "id": "1ba1d8ae",
   "metadata": {},
   "outputs": [
    {
     "name": "stdout",
     "output_type": "stream",
     "text": [
      "7.0\n",
      "8.5\n"
     ]
    }
   ],
   "source": [
    "def dtb2m(a,b):\n",
    "    x = (a + b)/2\n",
    "    return x\n",
    "def dtb3m(a,b,c):\n",
    "    x = (a + b +c)/3\n",
    "    return x\n",
    "print(dtb3m(6,7,8))\n",
    "print(dtb2m(8,9))"
   ]
  },
  {
   "cell_type": "markdown",
   "id": "06eb5c4a",
   "metadata": {},
   "source": [
    "Viết hàm tính giai thừa của một số"
   ]
  },
  {
   "cell_type": "code",
   "execution_count": 1,
   "id": "7b91ddf0",
   "metadata": {},
   "outputs": [
    {
     "name": "stdout",
     "output_type": "stream",
     "text": [
      "120\n"
     ]
    }
   ],
   "source": [
    "def gt(a):\n",
    "    S = 1\n",
    "    for i in range(1,a+1):\n",
    "        S *= i\n",
    "    return S\n",
    "print(gt(5))"
   ]
  },
  {
   "cell_type": "markdown",
   "id": "50f43307",
   "metadata": {},
   "source": [
    "Viết hàm đếm số lượng từ của một chuỗi đưa vào"
   ]
  },
  {
   "cell_type": "code",
   "execution_count": 4,
   "id": "be785b29",
   "metadata": {},
   "outputs": [
    {
     "name": "stdout",
     "output_type": "stream",
     "text": [
      "4\n"
     ]
    }
   ],
   "source": [
    "def sotu(a):\n",
    "    k = 1\n",
    "    for i in a:\n",
    "        if i == \" \":\n",
    "            k += 1\n",
    "    return k\n",
    "print(sotu(\"Xin chào các bạn\"))"
   ]
  },
  {
   "cell_type": "markdown",
   "id": "696aa7d2",
   "metadata": {},
   "source": [
    "Viết hàm có giá trị đầu vào là tên sản phẩm, giá một sản phẩm và số lượng sản phẩm, tính và trả về tổng giá tiền"
   ]
  },
  {
   "cell_type": "code",
   "execution_count": 23,
   "id": "da2213a2",
   "metadata": {},
   "outputs": [
    {
     "name": "stdout",
     "output_type": "stream",
     "text": [
      "Tổng tiền =  60000\n"
     ]
    }
   ],
   "source": [
    "def tongtien(a,b,c):\n",
    "    tong = b * c\n",
    "    return tong\n",
    "print(\"Tổng tiền = \",tongtien(\"Cơm gà\",30000,2))"
   ]
  },
  {
   "cell_type": "markdown",
   "id": "acdf1356",
   "metadata": {},
   "source": [
    "Viết hàm lấy tên đệm\n",
    "\n",
    "Ví dụ: Nhập vào \"Nguyễn Tâm Điền\"\n",
    "\n",
    "Kết quả in ra là: \"Tâm\""
   ]
  },
  {
   "cell_type": "code",
   "execution_count": 21,
   "id": "a5255f7a",
   "metadata": {},
   "outputs": [
    {
     "name": "stdout",
     "output_type": "stream",
     "text": [
      "Tâm\n"
     ]
    }
   ],
   "source": [
    "def tendem(a):\n",
    "    k = 0\n",
    "    p = -1\n",
    "    for i in a:\n",
    "        if i == \" \":\n",
    "            b = a[k+1:]\n",
    "            break\n",
    "        k += 1\n",
    "    for i in b[::-1]:\n",
    "        if i == \" \":\n",
    "            c = b[:p]\n",
    "            break\n",
    "        p -= 1\n",
    "    return c\n",
    "print(tendem(\"Nguyễn Tâm Điền\"))\n",
    "    "
   ]
  },
  {
   "cell_type": "markdown",
   "id": "b4adef40",
   "metadata": {},
   "source": [
    "Viết một hàm vẽ hình tròn, một hàm vẽ hình vuông và một hàm vẽ hình tam giác đều (giá trị đầu vào là a)\n",
    "\n",
    "Tất cả hàm này, bắt đầu từ 1 vị trí, sau khi vẽ ra, con trỏ sẽ tiến tới vị trí tiếp theo, cách vì đầu một khoảng a + 10 theo chiều x từ trái sang"
   ]
  },
  {
   "cell_type": "code",
   "execution_count": 1,
   "id": "e405d1d4",
   "metadata": {},
   "outputs": [
    {
     "data": {
      "text/plain": [
       "<turtle.Turtle at 0x1f77d926260>"
      ]
     },
     "execution_count": 1,
     "metadata": {},
     "output_type": "execute_result"
    }
   ],
   "source": [
    "import turtle\n",
    "t = turtle.Turtle()\n",
    "def tron(a):\n",
    "    t.penup()\n",
    "    t.fd(a/2)\n",
    "    t.pendown()\n",
    "    for i in range(360):\n",
    "        t.fd(3.14*a/360)\n",
    "        t.lt(1)\n",
    "    t.penup()\n",
    "    t.fd(a/2 + 10)\n",
    "    t.pendown()\n",
    "    return t\n",
    "def vuong(a):\n",
    "    for i in range(4):\n",
    "        t.fd(a)\n",
    "        t.lt(90)\n",
    "    t.penup()\n",
    "    t.fd(a + 10)\n",
    "    t.pendown()\n",
    "    return t\n",
    "def tamgiac(a):\n",
    "    for i in range(3):\n",
    "        t.fd(a)\n",
    "        t.lt(120)\n",
    "    t.penup()\n",
    "    t.fd(a + 10)\n",
    "    t.pendown()        \n",
    "    return t\n",
    "vuong(50)\n",
    "\n",
    "tron(50)\n",
    "\n",
    "tamgiac(50)\n"
   ]
  }
 ],
 "metadata": {
  "kernelspec": {
   "display_name": "Python 3 (ipykernel)",
   "language": "python",
   "name": "python3"
  },
  "language_info": {
   "codemirror_mode": {
    "name": "ipython",
    "version": 3
   },
   "file_extension": ".py",
   "mimetype": "text/x-python",
   "name": "python",
   "nbconvert_exporter": "python",
   "pygments_lexer": "ipython3",
   "version": "3.10.4"
  }
 },
 "nbformat": 4,
 "nbformat_minor": 5
}

{
 "cells": [
  {
   "cell_type": "code",
   "execution_count": 10,
   "id": "6b237c04",
   "metadata": {},
   "outputs": [
    {
     "ename": "SystemExit",
     "evalue": "",
     "output_type": "error",
     "traceback": [
      "An exception has occurred, use %tb to see the full traceback.\n",
      "\u001b[1;31mSystemExit\u001b[0m\n"
     ]
    }
   ],
   "source": [
    "import pygame, sys\n",
    "from pygame.locals import *\n",
    "\n",
    "WINDOWWIDTH = 400 # Chiều dài cửa sổ\n",
    "WINDOWHEIGHT = 300 # Chiều cao cửa sổ\n",
    "\n",
    "WHITE = (255, 255, 255)\n",
    "RED   = (255,   0,   0)\n",
    "GREEN = (  0, 255,   0)\n",
    "\n",
    "pygame.init()\n",
    "\n",
    "### Xác định FPS ###\n",
    "FPS = 60\n",
    "fpsClock = pygame.time.Clock()\n",
    "\n",
    "DISPLAYSURF = pygame.display.set_mode((WINDOWWIDTH, WINDOWHEIGHT))\n",
    "pygame.display.set_caption('Animation')\n",
    "\n",
    "### Tạo surface và vẽ hình chiếc xe ###\n",
    "car_x = 0 # Hoành độ của xe\n",
    "carSurface = pygame.Surface((100, 50), SRCALPHA)\n",
    "pygame.draw.polygon(carSurface, RED, ((15, 0), (65, 0), (85, 15), (100, 15), (100, 40), (0, 40), (0, 15)))\n",
    "pygame.draw.circle(carSurface, GREEN, (15, 40), 10)\n",
    "pygame.draw.circle(carSurface, GREEN, (85, 40), 10)\n",
    "\n",
    "\n",
    "while True:\n",
    "    for event in pygame.event.get():\n",
    "        if event.type == QUIT:\n",
    "            pygame.quit()\n",
    "            sys.exit()\n",
    "    \n",
    "    DISPLAYSURF.fill(WHITE)\n",
    "    DISPLAYSURF.blit(carSurface, (car_x, 100))\n",
    "\n",
    "    ### Thay đổi vị trí xe ###\n",
    "    car_x += 2\n",
    "    if car_x + 100 > WINDOWWIDTH:\n",
    "        car_x = WINDOWWIDTH - 100\n",
    "\n",
    "    pygame.display.update()\n",
    "    fpsClock.tick(FPS)"
   ]
  },
  {
   "cell_type": "code",
   "execution_count": 11,
   "id": "a1501cb9",
   "metadata": {},
   "outputs": [
    {
     "ename": "SystemExit",
     "evalue": "",
     "output_type": "error",
     "traceback": [
      "An exception has occurred, use %tb to see the full traceback.\n",
      "\u001b[1;31mSystemExit\u001b[0m\n"
     ]
    }
   ],
   "source": [
    "import pygame, sys\n",
    "from pygame.locals import *\n",
    "\n",
    "WINDOWWIDTH = 400\n",
    "WINDOWHEIGHT = 300\n",
    "\n",
    "WHITE = (255, 255, 255)\n",
    "RED   = (255,   0,   0)\n",
    "GREEN = (  0, 255,   0)\n",
    "\n",
    "pygame.init()\n",
    "\n",
    "FPS = 60\n",
    "fpsClock = pygame.time.Clock()\n",
    "\n",
    "DISPLAYSURF = pygame.display.set_mode((WINDOWWIDTH, WINDOWHEIGHT))\n",
    "pygame.display.set_caption('Text')\n",
    "\n",
    "font = pygame.font.SysFont('consolas', 30)\n",
    "textSurface = font.render('Hello world!', True, GREEN, RED)\n",
    "\n",
    "while True:\n",
    "    for event in pygame.event.get():\n",
    "        if event.type == QUIT:\n",
    "            pygame.quit()\n",
    "            sys.exit()\n",
    "    \n",
    "    DISPLAYSURF.fill(WHITE)\n",
    "    DISPLAYSURF.blit(textSurface, (50, 100))\n",
    "\n",
    "    pygame.display.update()\n",
    "    fpsClock.tick(FPS)"
   ]
  },
  {
   "cell_type": "code",
   "execution_count": 7,
   "id": "c15fef01",
   "metadata": {},
   "outputs": [
    {
     "ename": "SystemExit",
     "evalue": "",
     "output_type": "error",
     "traceback": [
      "An exception has occurred, use %tb to see the full traceback.\n",
      "\u001b[1;31mSystemExit\u001b[0m\n"
     ]
    }
   ],
   "source": [
    "import pygame, sys\n",
    "from pygame.locals import *\n",
    "\n",
    "WINDOWWIDTH = 400 # Chiều dài cửa sổ\n",
    "WINDOWHEIGHT = 300 # Chiều cao cửa sổ\n",
    "\n",
    "WHITE = (255, 255, 255)\n",
    "RED   = (255,   0,   0)\n",
    "GREEN = (  0, 255,   0)\n",
    "\n",
    "pygame.init()\n",
    "\n",
    "### Xác định FPS ###\n",
    "FPS = 60\n",
    "fpsClock = pygame.time.Clock()\n",
    "\n",
    "DISPLAYSURF = pygame.display.set_mode((WINDOWWIDTH, WINDOWHEIGHT))\n",
    "pygame.display.set_caption('Animation')\n",
    "\n",
    "class Car():\n",
    "    def __init__(self):\n",
    "        self.x = 0 # Vị trí của xe\n",
    "\n",
    "        ## Tạo surface và thêm hình chiếc xe vào ##\n",
    "        self.surface = pygame.image.load('car.png')\n",
    "    \n",
    "    def draw(self): # Hàm dùng để vẽ xe\n",
    "        DISPLAYSURF.blit(self.surface, (self.x, 100))\n",
    "\n",
    "    def update(self): # Hàm dùng để thay đổi vị trí xe\n",
    "        self.x += 2\n",
    "        if self.x + 100 > WINDOWWIDTH:\n",
    "            self.x = WINDOWWIDTH - 100\n",
    "\n",
    "car = Car()\n",
    "while True:\n",
    "    for event in pygame.event.get():\n",
    "        if event.type == QUIT:\n",
    "            pygame.quit()\n",
    "            sys.exit()\n",
    "    \n",
    "    DISPLAYSURF.fill(WHITE)\n",
    "    \n",
    "    car.draw()\n",
    "    car.update()\n",
    "\n",
    "    pygame.display.update()\n",
    "    fpsClock.tick(FPS)"
   ]
  },
  {
   "cell_type": "code",
   "execution_count": 5,
   "id": "7ed7d884",
   "metadata": {
    "scrolled": true
   },
   "outputs": [
    {
     "name": "stdout",
     "output_type": "stream",
     "text": [
      "pygame 2.1.2 (SDL 2.0.18, Python 3.10.4)\n",
      "Hello from the pygame community. https://www.pygame.org/contribute.html\n"
     ]
    },
    {
     "ename": "SystemExit",
     "evalue": "",
     "output_type": "error",
     "traceback": [
      "An exception has occurred, use %tb to see the full traceback.\n",
      "\u001b[1;31mSystemExit\u001b[0m\n"
     ]
    },
    {
     "name": "stderr",
     "output_type": "stream",
     "text": [
      "C:\\Users\\congc\\AppData\\Roaming\\Python\\Python310\\site-packages\\IPython\\core\\interactiveshell.py:3405: UserWarning: To exit: use 'exit', 'quit', or Ctrl-D.\n",
      "  warn(\"To exit: use 'exit', 'quit', or Ctrl-D.\", stacklevel=1)\n"
     ]
    }
   ],
   "source": [
    "import pygame, sys\n",
    "from pygame.locals import *\n",
    "\n",
    "WINDOWWIDTH = 400 # Chiều dài cửa sổ\n",
    "WINDOWHEIGHT = 300 # Chiều cao cửa sổ\n",
    "\n",
    "WHITE = (255, 255, 255)\n",
    "RED   = (255,   0,   0)\n",
    "GREEN = (  0, 255,   0)\n",
    "\n",
    "pygame.init()\n",
    "\n",
    "### Xác định FPS ###\n",
    "FPS = 60\n",
    "fpsClock = pygame.time.Clock()\n",
    "\n",
    "DISPLAYSURF = pygame.display.set_mode((WINDOWWIDTH, WINDOWHEIGHT))\n",
    "pygame.display.set_caption('Event')\n",
    "\n",
    "class Car():\n",
    "    def __init__(self):\n",
    "        self.x = 100 # Vị trí của xe\n",
    "\n",
    "        ## Tạo surface và thêm hình chiếc xe vào ##\n",
    "        self.surface = pygame.image.load('car.png')\n",
    "    \n",
    "    def draw(self): # Hàm dùng để vẽ xe\n",
    "        DISPLAYSURF.blit(self.surface, (self.x, 100))\n",
    "\n",
    "    def update(self, moveLeft, moveRight): # Hàm dùng để thay đổi vị trí xe\n",
    "        if moveLeft == True:\n",
    "            self.x -= 2\n",
    "        if moveRight == True:\n",
    "            self.x += 2\n",
    "\n",
    "        if self.x + 100 > WINDOWWIDTH:\n",
    "            self.x = WINDOWWIDTH - 100\n",
    "        if self.x < 0:\n",
    "            self.x = 0\n",
    "\n",
    "car = Car()\n",
    "moveLeft = False\n",
    "moveRight = False\n",
    "while True:\n",
    "    for event in pygame.event.get():\n",
    "        if event.type == QUIT:\n",
    "            pygame.quit()\n",
    "            sys.exit()\n",
    "\n",
    "        if event.type == KEYDOWN:\n",
    "            if event.key == K_LEFT:\n",
    "                moveLeft = True\n",
    "            if event.key == K_RIGHT:\n",
    "                moveRight = True\n",
    "        \n",
    "        if event.type == KEYUP:\n",
    "            if event.key == K_LEFT:\n",
    "                moveLeft = False\n",
    "            if event.key == K_RIGHT:\n",
    "                moveRight = False\n",
    "\n",
    "    DISPLAYSURF.fill(WHITE)\n",
    "    \n",
    "    car.draw()\n",
    "    car.update(moveLeft, moveRight)\n",
    "\n",
    "    pygame.display.update()\n",
    "    fpsClock.tick(FPS)"
   ]
  },
  {
   "cell_type": "code",
   "execution_count": 8,
   "id": "4551ae05",
   "metadata": {},
   "outputs": [
    {
     "ename": "SystemExit",
     "evalue": "",
     "output_type": "error",
     "traceback": [
      "An exception has occurred, use %tb to see the full traceback.\n",
      "\u001b[1;31mSystemExit\u001b[0m\n"
     ]
    }
   ],
   "source": [
    "import pygame, sys, random\n",
    "from pygame.locals import *\n",
    "\n",
    "WINDOWWIDTH = 400\n",
    "WINDOWHEIGHT = 600\n",
    "\n",
    "pygame.init()\n",
    "\n",
    "FPS = 60\n",
    "fpsClock = pygame.time.Clock()\n",
    "\n",
    "DISPLAYSURF = pygame.display.set_mode((WINDOWWIDTH, WINDOWHEIGHT))\n",
    "pygame.display.set_caption('RACING')\n",
    "\n",
    "def gameStart():\n",
    "    pass\n",
    "\n",
    "def gamePlay():\n",
    "    while True:\n",
    "        for event in pygame.event.get():\n",
    "            if event.type == pygame.QUIT:\n",
    "                pygame.quit()\n",
    "                sys.exit()\n",
    "\n",
    "        pygame.display.update()\n",
    "        fpsClock.tick(FPS)\n",
    "\n",
    "def gameOver():\n",
    "    pass\n",
    "\n",
    "def main():\n",
    "    gameStart()\n",
    "    while True:\n",
    "        gamePlay()\n",
    "        gameOver()\n",
    "\n",
    "if __name__ == '__main__':\n",
    "    main()"
   ]
  },
  {
   "cell_type": "code",
   "execution_count": 11,
   "id": "625c597b",
   "metadata": {},
   "outputs": [
    {
     "name": "stdout",
     "output_type": "stream",
     "text": [
      "Hoang Luu\n"
     ]
    }
   ],
   "source": [
    "class Nguoi_Person:\n",
    "    def __init__(self, ten_name, tuoi_age):\n",
    "        self.ten_name = ten_name\n",
    "        self.tuoi_age = tuoi_age\n",
    "    def Get_name(self):\n",
    "        name = self.ten_name\n",
    "        print(name)\n",
    "\n",
    "p1 = Nguoi_Person(\"Hoang Luu\",\"37\")\n",
    "print(p1.ten_name)"
   ]
  }
 ],
 "metadata": {
  "kernelspec": {
   "display_name": "Python 3 (ipykernel)",
   "language": "python",
   "name": "python3"
  },
  "language_info": {
   "codemirror_mode": {
    "name": "ipython",
    "version": 3
   },
   "file_extension": ".py",
   "mimetype": "text/x-python",
   "name": "python",
   "nbconvert_exporter": "python",
   "pygments_lexer": "ipython3",
   "version": "3.10.4"
  }
 },
 "nbformat": 4,
 "nbformat_minor": 5
}

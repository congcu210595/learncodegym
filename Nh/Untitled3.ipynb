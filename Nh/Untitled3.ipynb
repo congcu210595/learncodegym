{
 "cells": [
  {
   "cell_type": "code",
   "execution_count": 4,
   "id": "b10735f7",
   "metadata": {},
   "outputs": [
    {
     "name": "stdout",
     "output_type": "stream",
     "text": [
      "a\n",
      "Màu của ô tô =  yellow\n",
      "Động cơ ô tô =  V8.1\n",
      "Vận tốc tối đa ô tô =  300\n"
     ]
    }
   ],
   "source": [
    "class Car:\n",
    "    # Liệt kê các thuộc tính của lớp ô tô\n",
    "    engine = \"V8\"\n",
    "    color = \"black\"\n",
    "    max_speed = 100\n",
    "\n",
    "    # Hàm khởi tạo mặc định\n",
    "    def __init__(self, engine, color, max_speed):\n",
    "        self.engine = engine\n",
    "        self.color = color\n",
    "        self.max_speed = max_speed\n",
    "        print(\"a\")\n",
    "    def show(self):\n",
    "        print(\"Màu của ô tô = \", self.color)\n",
    "        print(\"Động cơ ô tô = \", self.engine)\n",
    "        print(\"Vận tốc tối đa ô tô = \", self.max_speed) \n",
    "# Tạo đối tượng bằng hàm khởi tạo có\n",
    "# tham số\n",
    "sonata = Car(\"V8.1\", \"yellow\", 300)\n",
    "sonata.show()"
   ]
  }
 ],
 "metadata": {
  "kernelspec": {
   "display_name": "Python 3 (ipykernel)",
   "language": "python",
   "name": "python3"
  },
  "language_info": {
   "codemirror_mode": {
    "name": "ipython",
    "version": 3
   },
   "file_extension": ".py",
   "mimetype": "text/x-python",
   "name": "python",
   "nbconvert_exporter": "python",
   "pygments_lexer": "ipython3",
   "version": "3.10.4"
  }
 },
 "nbformat": 4,
 "nbformat_minor": 5
}

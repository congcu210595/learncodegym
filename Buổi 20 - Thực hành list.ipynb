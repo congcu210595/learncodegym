{
 "cells": [
  {
   "cell_type": "markdown",
   "id": "011431b9",
   "metadata": {},
   "source": [
    "# Thực hành List\n",
    "\n",
    "##### Chú ý: list một dãy số người ta còn gọi là một mảng\n",
    "\n",
    "### Bài 1"
   ]
  },
  {
   "cell_type": "markdown",
   "id": "61a90628",
   "metadata": {},
   "source": [
    "Viết hàm với đầu vào là một mảng, hãy tính và trả về giá trị trung bình của mảng"
   ]
  },
  {
   "cell_type": "code",
   "execution_count": 1,
   "id": "bcc197d5",
   "metadata": {},
   "outputs": [
    {
     "name": "stdout",
     "output_type": "stream",
     "text": [
      "5.0\n"
     ]
    }
   ],
   "source": [
    "def trungbinh(lit):\n",
    "    S = 0\n",
    "    for i in lit:\n",
    "        S += i\n",
    "    return S/len(lit)\n",
    "print(trungbinh([1,2,3,4,5,6,7,8,9]))"
   ]
  },
  {
   "cell_type": "markdown",
   "id": "30d26c1b",
   "metadata": {},
   "source": [
    "### Bài 2"
   ]
  },
  {
   "cell_type": "markdown",
   "id": "674ef26c",
   "metadata": {},
   "source": [
    "Viết hàm với đầu vào là một mảng, hãy tìm và trả về giá trị âm lớn nhất trong mảng"
   ]
  },
  {
   "cell_type": "code",
   "execution_count": 2,
   "id": "1a9cb505",
   "metadata": {},
   "outputs": [
    {
     "name": "stdout",
     "output_type": "stream",
     "text": [
      "-1\n"
     ]
    }
   ],
   "source": [
    "def amlonnhat(lit):\n",
    "    m = 0\n",
    "    for i in lit:\n",
    "        if i < 0:\n",
    "            m = i\n",
    "            break\n",
    "    for i in lit:\n",
    "        if i < 0 and i > m:\n",
    "            m = i\n",
    "    return m\n",
    "print(amlonnhat([-1,2,4,-5]))"
   ]
  },
  {
   "cell_type": "markdown",
   "id": "95cfaa74",
   "metadata": {},
   "source": [
    "### Bài 3"
   ]
  },
  {
   "cell_type": "markdown",
   "id": "5361a4b8",
   "metadata": {},
   "source": [
    "Viết hàm với giá trị đầu vào là một mảng, hãy sắp xếp và trả về mảng có độ lớn tăng dần"
   ]
  },
  {
   "cell_type": "code",
   "execution_count": 55,
   "id": "91ad4d5d",
   "metadata": {},
   "outputs": [
    {
     "name": "stdout",
     "output_type": "stream",
     "text": [
      "[1, 2, 3, 4, 5]\n"
     ]
    }
   ],
   "source": [
    "def sapxep(lit):\n",
    "    for i in range(len(lit)):\n",
    "        for j in range (len(lit)):\n",
    "            if lit[j] > lit[i]:\n",
    "                lit[i], lit[j] = lit[j], lit[i]\n",
    "    return lit\n",
    "print(sapxep([1,3,5,2,4]))"
   ]
  },
  {
   "cell_type": "code",
   "execution_count": 44,
   "id": "8ca92360",
   "metadata": {},
   "outputs": [
    {
     "data": {
      "text/plain": [
       "[1, 5, 4, 3, 2]"
      ]
     },
     "execution_count": 44,
     "metadata": {},
     "output_type": "execute_result"
    }
   ],
   "source": [
    "def sap_xep(arr):\n",
    "    for i in range(len(arr)):\n",
    "        for j in range(1,len(arr)):\n",
    "            if arr[i] > arr[j]:\n",
    "                arr[i], arr[j] = arr[j], arr[i]\n",
    "    return arr\n",
    "arr = [1,3,5,2,4]\n",
    "sap_xep(arr)\n"
   ]
  },
  {
   "cell_type": "markdown",
   "id": "025cc0cb",
   "metadata": {},
   "source": [
    "### Bài 4"
   ]
  },
  {
   "cell_type": "code",
   "execution_count": 52,
   "id": "c445a03e",
   "metadata": {},
   "outputs": [
    {
     "data": {
      "text/plain": [
       "[-32.6, 0.5, 12, 66, 79, 123]"
      ]
     },
     "execution_count": 52,
     "metadata": {},
     "output_type": "execute_result"
    }
   ],
   "source": [
    "def sap_xep(arr):\n",
    "    for i in range(len(arr)):\n",
    "        for j in range(i,len(arr)):\n",
    "            if arr[i] > arr[j]:\n",
    "                arr[i], arr[j] = arr[j], arr[i]\n",
    "    return arr\n",
    "arr = [12, -32.6, 123, 79, 0.5, 66]\n",
    "sap_xep(arr)\n"
   ]
  },
  {
   "cell_type": "markdown",
   "id": "dbf885a9",
   "metadata": {},
   "source": [
    "Viết hàm với giá trị đầu vào là một mảng, tìm x sao cho đoạn [-x,x] chứa tất cả các giá trị có trong mảng"
   ]
  },
  {
   "cell_type": "code",
   "execution_count": 11,
   "id": "84606ea2",
   "metadata": {},
   "outputs": [
    {
     "name": "stdout",
     "output_type": "stream",
     "text": [
      "6\n"
     ]
    }
   ],
   "source": [
    "def ham(lit):\n",
    "    m = abs(lit[0])\n",
    "    for i in lit:\n",
    "        if abs(i) > m:\n",
    "            m = abs(i)\n",
    "    return m\n",
    "print(ham([1,2,3,4,5,-4,-6]))"
   ]
  },
  {
   "cell_type": "markdown",
   "id": "98aa10b5",
   "metadata": {},
   "source": [
    "### Bài 5"
   ]
  },
  {
   "cell_type": "markdown",
   "id": "a7fe3092",
   "metadata": {},
   "source": [
    "Viết hàm với giá trị đầu vào là một mảng, Hãy tìm một vị trí trong mảng thỏa hai điền kiện: có hai giá trị lân cận và giá trị tại vị trí đó bằng tích hai giá trị lân cận. Nếu mảng không tồn tại giá trị như vậy thì hàm trả về giá trị - 1"
   ]
  },
  {
   "cell_type": "code",
   "execution_count": 12,
   "id": "9d55cb01",
   "metadata": {},
   "outputs": [
    {
     "name": "stdout",
     "output_type": "stream",
     "text": [
      "3\n"
     ]
    }
   ],
   "source": [
    "def ham(lit):\n",
    "    for i in range(1,len(lit)-1):\n",
    "        if lit[i-1] * lit[i+1] == lit[i]:\n",
    "            return i\n",
    "    return -1\n",
    "print(ham([1,2,3,6,2,4]))"
   ]
  },
  {
   "cell_type": "markdown",
   "id": "035325d7",
   "metadata": {},
   "source": [
    "### Bài 6"
   ]
  },
  {
   "cell_type": "markdown",
   "id": "e2d35127",
   "metadata": {},
   "source": [
    "Viết hàm có giá trị đầu vào là một mảng. Hãy tìm giá trị đầu tiên trong mảng một chiều các số nguyên có chữ sốđầu tiên là chữ số lẻ. Nếu trong mảng không tồn tại giá trị như vậy thì hàm sẽ trả về giá trị 0."
   ]
  },
  {
   "cell_type": "code",
   "execution_count": 33,
   "id": "b8a8b8a2",
   "metadata": {},
   "outputs": [
    {
     "name": "stdout",
     "output_type": "stream",
     "text": [
      "-7\n"
     ]
    }
   ],
   "source": [
    "def ham(l):\n",
    "    for i in l:\n",
    "        if int(str(abs(i))[0]) % 2 == 1:\n",
    "            return i\n",
    "    return 0\n",
    "print(ham([23,42,-7,62,712,7]))"
   ]
  },
  {
   "cell_type": "markdown",
   "id": "da270d1a",
   "metadata": {},
   "source": [
    "### Bài 7"
   ]
  },
  {
   "cell_type": "markdown",
   "id": "079fdafe",
   "metadata": {},
   "source": [
    "Viết hàm có giá trị đầu vào là một mảng. Hãy tìm giá trị đầu tiên trong mảng có dạng 2^k. Nếu mảng không tồn tại giá trị dạng 2^k thì hàm sẽ trả về giá trị 0."
   ]
  },
  {
   "cell_type": "code",
   "execution_count": 4,
   "id": "f9311f33",
   "metadata": {},
   "outputs": [
    {
     "name": "stdout",
     "output_type": "stream",
     "text": [
      "64\n"
     ]
    }
   ],
   "source": [
    "def ham(l):\n",
    "    for i in l:\n",
    "        if i > 2:\n",
    "            a = i\n",
    "            while a > 2:\n",
    "                a /= 2\n",
    "            if a == 2 :\n",
    "                return i\n",
    "        elif i > 0:\n",
    "            b = i\n",
    "            while b < 2:\n",
    "                b *= 2\n",
    "            if b == 2 :\n",
    "                return i\n",
    "    return 0\n",
    "print(ham([-2,3,5,64,7,17,16]))"
   ]
  },
  {
   "cell_type": "markdown",
   "id": "80c8ab17",
   "metadata": {},
   "source": [
    "### Bài 8"
   ]
  },
  {
   "cell_type": "markdown",
   "id": "47c3a2e2",
   "metadata": {},
   "source": [
    "Viết hàm có giá trị đầu vào là một mảng. Hãy tìm giá trị thỏa điều kiện toàn chữ số lẻ và là giá trị lớn nhất thỏa điều kiện ấy trong mảng (nếu mảng không có giá trị thỏa điều kiện trên thì hàm trả về giá trị 0)"
   ]
  },
  {
   "cell_type": "code",
   "execution_count": 30,
   "id": "f8740d98",
   "metadata": {},
   "outputs": [
    {
     "name": "stdout",
     "output_type": "stream",
     "text": [
      "9353\n"
     ]
    }
   ],
   "source": [
    "def chusole(a):\n",
    "    a = str(abs(a))\n",
    "    for i in a:\n",
    "        if int(i) % 2 == 0:\n",
    "            return False\n",
    "    return True\n",
    "def ham(l):\n",
    "    x = 0\n",
    "    for i in l:\n",
    "        if chusole(i) and (i > x or x == 0):\n",
    "            x = i\n",
    "    return x\n",
    "print(ham([234,4223,153,124,3,9353,687,-977]))"
   ]
  },
  {
   "cell_type": "markdown",
   "id": "8a09bf26",
   "metadata": {},
   "source": [
    "### Bài 9"
   ]
  },
  {
   "cell_type": "markdown",
   "id": "09f9a4c6",
   "metadata": {},
   "source": [
    "Trong kỳ thi học sinh giỏi môn Tin học, một học sinh là người đạt giải đặc biệt. Ban tổ chức cho phép học sinh đó chọn các phần thưởng cho mình.\n",
    "\n",
    "Các phần thưởng xếp thành một dãy được đánh số từ 1 đến N (0 ≤ N ≤ 10000), phần thưởng thứ i có giá trị là Ai (1 ≤ Ai ≤ 100).\n",
    "\n",
    "Học sinh được phép chọn các phần thưởng cho mình theo nguyên tắc không chọn 3 phần thưởng liên tiếp nhau trong dãy.\n",
    "\n",
    "Viết chương trình để máy tính hướng dẫn học sinh đó chọn các phần thưởng sao cho tổng giá trị của các phần thưởng nhận được là lớn nhất.\n",
    "\n",
    "Nhập vào N, sau đó nhập n lần các giá trị Ai\n",
    "\n",
    "In ra giá trị lớn nhất học sinh được chọn, và các vị trí mà học sinh cần chọn để đạt được giá trị lớn nhất"
   ]
  },
  {
   "cell_type": "code",
   "execution_count": null,
   "id": "c350a1e9",
   "metadata": {},
   "outputs": [],
   "source": [
    "1,2,3,4,5,6,7,8,9,10"
   ]
  }
 ],
 "metadata": {
  "kernelspec": {
   "display_name": "Python 3 (ipykernel)",
   "language": "python",
   "name": "python3"
  },
  "language_info": {
   "codemirror_mode": {
    "name": "ipython",
    "version": 3
   },
   "file_extension": ".py",
   "mimetype": "text/x-python",
   "name": "python",
   "nbconvert_exporter": "python",
   "pygments_lexer": "ipython3",
   "version": "3.10.4"
  }
 },
 "nbformat": 4,
 "nbformat_minor": 5
}

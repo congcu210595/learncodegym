{
 "cells": [
  {
   "cell_type": "code",
   "execution_count": 2,
   "id": "1f786d1b",
   "metadata": {},
   "outputs": [
    {
     "name": "stdout",
     "output_type": "stream",
     "text": [
      "Enter the radius: 50\n",
      "Chu vi của hình tròn có bán kính = 50 là 314.1592653589793\n",
      "Diện tích của hình tròn có bán kính = 50 là 7853.981633974483\n"
     ]
    }
   ],
   "source": [
    "import turtle\n",
    "import math\n",
    "\n",
    "r = int(input(\"Enter the radius: \"))\n",
    "\n",
    "t = turtle.Turtle()\n",
    "t.hideturtle()\n",
    "t.pensize(1)\n",
    "t.color(\"red\")\n",
    "t.circle(r)\n",
    "turtle.done()\n",
    "\n",
    "c = 2 * math.pi * r\n",
    "s = math.pi * r * r\n",
    "\n",
    "print(\"Chu vi của hình tròn có bán kính =\",r,\"là\",float(c))\n",
    "print(\"Diện tích của hình tròn có bán kính =\",r,\"là\",float(s))"
   ]
  }
 ],
 "metadata": {
  "kernelspec": {
   "display_name": "Python 3 (ipykernel)",
   "language": "python",
   "name": "python3"
  },
  "language_info": {
   "codemirror_mode": {
    "name": "ipython",
    "version": 3
   },
   "file_extension": ".py",
   "mimetype": "text/x-python",
   "name": "python",
   "nbconvert_exporter": "python",
   "pygments_lexer": "ipython3",
   "version": "3.10.4"
  }
 },
 "nbformat": 4,
 "nbformat_minor": 5
}

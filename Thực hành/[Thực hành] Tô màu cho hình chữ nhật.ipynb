{
 "cells": [
  {
   "cell_type": "code",
   "execution_count": 1,
   "id": "c8ff910c",
   "metadata": {},
   "outputs": [
    {
     "name": "stdout",
     "output_type": "stream",
     "text": [
      "Nhập màu hoặc mã màu: red\n",
      "Nhập chiều dài hình chữ nhật: 100\n",
      "Nhập chiều rộng hình chữ nhật: 50\n",
      "Chu vi của hình chữ nhật (dài = 100.0, rộng = 50.0) là 300.0\n",
      "Diện tích của hình chữ nhật (dài = 100.0, rộng = 50.0) là 5000.0\n"
     ]
    }
   ],
   "source": [
    "import turtle\n",
    "\n",
    "color = input(\"Nhập màu hoặc mã màu: \")\n",
    "w = float(input(\"Nhập chiều dài hình chữ nhật: \"))\n",
    "h = float(input(\"Nhập chiều rộng hình chữ nhật: \"))\n",
    "\n",
    "t = turtle.Turtle()\n",
    "t.hideturtle()\n",
    "\n",
    "t.color(color)\n",
    "t.begin_fill()\n",
    "for i in range(2):\n",
    "    t.fd(w)\n",
    "    t.lt(90)\n",
    "    t.fd(h)\n",
    "    t.lt(90)\n",
    "t.end_fill()\n",
    "turtle.done()\n",
    "\n",
    "c = 2 * (w + h)\n",
    "s = w * h\n",
    "print(\"Chu vi của hình chữ nhật (dài = {w}, rộng = {h}) là {c}\".format(w=w, h=h, c=c))\n",
    "print(\"Diện tích của hình chữ nhật (dài = {w}, rộng = {h}) là {s}\".format(w=w, h=h, s=s))"
   ]
  }
 ],
 "metadata": {
  "kernelspec": {
   "display_name": "Python 3 (ipykernel)",
   "language": "python",
   "name": "python3"
  },
  "language_info": {
   "codemirror_mode": {
    "name": "ipython",
    "version": 3
   },
   "file_extension": ".py",
   "mimetype": "text/x-python",
   "name": "python",
   "nbconvert_exporter": "python",
   "pygments_lexer": "ipython3",
   "version": "3.10.4"
  }
 },
 "nbformat": 4,
 "nbformat_minor": 5
}

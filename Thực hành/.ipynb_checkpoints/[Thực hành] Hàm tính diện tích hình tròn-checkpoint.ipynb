{
 "cells": [
  {
   "cell_type": "code",
   "execution_count": 1,
   "id": "4a86f46e",
   "metadata": {},
   "outputs": [
    {
     "name": "stdout",
     "output_type": "stream",
     "text": [
      "Nhập vào bán kính: 50\n",
      "Diện tích của hình tròn có bán kính = 50.0 là 7853.981633974483\n"
     ]
    }
   ],
   "source": [
    "import turtle\n",
    "import math\n",
    "\n",
    "def draw(r):\n",
    "    t = turtle.Turtle()\n",
    "    t.hideturtle()\n",
    "    t.pencolor('red')\n",
    "    t.circle(r)\n",
    "    turtle.done()\n",
    "\n",
    "def area(r):\n",
    "    return math.pi * r * r\n",
    "\n",
    "r = float(input(\"Nhập vào bán kính: \"))\n",
    "draw(r)\n",
    "s = area(r)\n",
    "print(\"Diện tích của hình tròn có bán kính =\",r,\"là\",s)"
   ]
  }
 ],
 "metadata": {
  "kernelspec": {
   "display_name": "Python 3 (ipykernel)",
   "language": "python",
   "name": "python3"
  },
  "language_info": {
   "codemirror_mode": {
    "name": "ipython",
    "version": 3
   },
   "file_extension": ".py",
   "mimetype": "text/x-python",
   "name": "python",
   "nbconvert_exporter": "python",
   "pygments_lexer": "ipython3",
   "version": "3.10.4"
  }
 },
 "nbformat": 4,
 "nbformat_minor": 5
}

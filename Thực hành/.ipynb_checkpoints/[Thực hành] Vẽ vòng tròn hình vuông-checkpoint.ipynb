{
 "cells": [
  {
   "cell_type": "code",
   "execution_count": null,
   "id": "db11e6a5",
   "metadata": {},
   "outputs": [],
   "source": [
    "import turtle\n",
    "square = turtle.Turtle()\n",
    "\n",
    "def draw_square(angle):\n",
    "    for i in range(4):\n",
    "        square.forward(100)\n",
    "        square.right(90)   \n",
    "    square.right(angle)\n",
    "    \n",
    "step = 36\n",
    "angle = 360 / step\n",
    "for i in range(step):\n",
    "    draw_square(angle) \n",
    "\n",
    "turtle.done()"
   ]
  }
 ],
 "metadata": {
  "kernelspec": {
   "display_name": "Python 3 (ipykernel)",
   "language": "python",
   "name": "python3"
  },
  "language_info": {
   "codemirror_mode": {
    "name": "ipython",
    "version": 3
   },
   "file_extension": ".py",
   "mimetype": "text/x-python",
   "name": "python",
   "nbconvert_exporter": "python",
   "pygments_lexer": "ipython3",
   "version": "3.10.4"
  }
 },
 "nbformat": 4,
 "nbformat_minor": 5
}

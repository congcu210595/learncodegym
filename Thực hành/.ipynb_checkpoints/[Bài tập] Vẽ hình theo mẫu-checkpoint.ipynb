{
 "cells": [
  {
   "cell_type": "code",
   "execution_count": null,
   "id": "2ba3f0d8",
   "metadata": {},
   "outputs": [],
   "source": [
    "import turtle\n",
    "t = turtle.Turtle()\n",
    "\n",
    "t.speed(0)\n",
    "\n",
    "b = 0\n",
    "while b <= 36:\n",
    "    a = 0\n",
    "    while a < 2:\n",
    "        for i in range(90):\n",
    "            t.fd(2)\n",
    "            t.rt(1)\n",
    "        for i in range(90):\n",
    "            t.fd(1)\n",
    "            t.rt(1)\n",
    "        a += 1\n",
    "    t.rt(10)\n",
    "    b += 1"
   ]
  }
 ],
 "metadata": {
  "kernelspec": {
   "display_name": "Python 3 (ipykernel)",
   "language": "python",
   "name": "python3"
  },
  "language_info": {
   "codemirror_mode": {
    "name": "ipython",
    "version": 3
   },
   "file_extension": ".py",
   "mimetype": "text/x-python",
   "name": "python",
   "nbconvert_exporter": "python",
   "pygments_lexer": "ipython3",
   "version": "3.10.4"
  }
 },
 "nbformat": 4,
 "nbformat_minor": 5
}

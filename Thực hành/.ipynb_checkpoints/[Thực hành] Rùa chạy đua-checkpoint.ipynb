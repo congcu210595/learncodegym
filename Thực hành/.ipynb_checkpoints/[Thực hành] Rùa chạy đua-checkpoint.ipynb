{
 "cells": [
  {
   "cell_type": "code",
   "execution_count": 1,
   "id": "46ef3a38",
   "metadata": {},
   "outputs": [],
   "source": [
    "import turtle as t\n",
    "import random\n",
    "\n",
    "\n",
    "screen = t.Screen()\n",
    "screen.setup(height=500, width=600)\n",
    "\n",
    "guess = screen.textinput(prompt=\"Dự đoán con rùa nào chiến thắng?\", title=\"Nhập vào màu rùa (đỏ, nâu, xanh dương, xanh lá cây, cam, hồng)\")\n",
    "\n",
    "colors = [\"red\", \"brown\", \"blue\", \"green\", \"orange\", \"pink\"]\n",
    "\n",
    "y_position = [0, -30, 30, -60, 60, 90]\n",
    "\n",
    "turtle_speed = [10, 15, 20, 25, 30, 5]\n",
    "\n",
    "\n",
    "all_turtles = []\n",
    "run = True\n",
    "\n",
    "\n",
    "for turtle in range(0, 6):\n",
    "    turtles = t.Turtle(shape=\"turtle\")\n",
    "    turtles.penup()\n",
    "\n",
    "    turtles.goto(x=-250, y=y_position[turtle])\n",
    "\n",
    "    turtles.color(colors[turtle])\n",
    "\n",
    "    all_turtles.append(turtles)\n",
    "    \n",
    "\n",
    "def random_walk(turtles):\n",
    "    global run\n",
    "    for turtle in turtles:\n",
    "        turtle.forward(random.choice(turtle_speed))\n",
    "\n",
    "        if turtle.xcor() > 250:\n",
    "            run = False\n",
    "            \n",
    "while run:\n",
    "    random_walk(all_turtles)\n",
    "\n",
    "screen.exitonclick()"
   ]
  }
 ],
 "metadata": {
  "kernelspec": {
   "display_name": "Python 3 (ipykernel)",
   "language": "python",
   "name": "python3"
  },
  "language_info": {
   "codemirror_mode": {
    "name": "ipython",
    "version": 3
   },
   "file_extension": ".py",
   "mimetype": "text/x-python",
   "name": "python",
   "nbconvert_exporter": "python",
   "pygments_lexer": "ipython3",
   "version": "3.10.4"
  }
 },
 "nbformat": 4,
 "nbformat_minor": 5
}

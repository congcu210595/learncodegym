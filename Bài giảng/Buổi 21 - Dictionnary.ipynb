{
 "cells": [
  {
   "cell_type": "markdown",
   "id": "a20f121d",
   "metadata": {},
   "source": [
    "# Dictionnary\n",
    "\n",
    "Dictionnary là một dạng list đặc biệt, nó khác list ở chỗ không lưu trữ các giá trị theo chỉ số vị trí, thay vào đó Dictionary sẽ lưu trữ các giá trị theo key\n",
    "\n",
    "##### Tài liệu tham khảo: https://www.w3schools.com/python/python_dictionaries.asp\n",
    "\n",
    "### Khai báo một dictionary\n",
    "\n",
    "Cú pháp:\n",
    "\n",
    "`<tên dictionary> = {}`\n",
    "\n",
    "### Dictionary được khai báo bằng hai dấu hoặc nhọn\n",
    "\n",
    "Đây là một dictionary rỗng\n",
    "\n",
    "<b>Ví dụ 1:</b>\n",
    "\n",
    "`a = {}`\n",
    "\n",
    "a là một dictionary rỗng\n",
    "\n",
    "<b>Ví dụ 2:</b>\n",
    "\n",
    "`a = {\"tên\": \"Nguyễn Tâm Điền\", \"tuổi\": 13, \"giới tính\": \"Nam\"}`\n",
    "\n",
    "b là một dictionary có 3 key, mõi key đều có một giá trị riêng biệt\n",
    "\n",
    "Key có thể mang kiểu dữ liệu là chuỗi hoặc số\n",
    "\n",
    "##### Mỗi một key đều phải có giá trị của riêng nó, không thể khai báo key không có giá trị\n",
    "\n",
    "<b>Hãy khai báo một dictionary có 3 phần tử</b>"
   ]
  },
  {
   "cell_type": "code",
   "execution_count": null,
   "id": "d835f461",
   "metadata": {},
   "outputs": [],
   "source": [
    "a = {\"tên\": \"Nguyễn Tâm Điền\", \"tuổi\": 13, \"giới tính\": \"Nam\"}"
   ]
  },
  {
   "cell_type": "markdown",
   "id": "be1e321c",
   "metadata": {},
   "source": [
    "### Thêm key vào dictionary\n",
    "\n",
    "Cú pháp:\n",
    "\n",
    "`<tên dictionary>[<key>] = <giá trị>`\n",
    "\n",
    "<b>Ví dụ 1:</b>\n",
    "\n",
    "`a = {}\n",
    "a[\"tên\"] = \"NTD\"`\n",
    "\n",
    "a là một dictionary có một phần tử, phần tử đó có key là \"tên\" và giá trị của key đó là \"NTD\"\n",
    "\n",
    "##### Lưu ý, nếu trong trường hợp đã tồn tại key trong dictionary, dùng lệnh trên sẽ thay đổi giá trị key đó (không phải thêm key khác vào)\n",
    "\n",
    "<b>Ví dụ 2:</b>\n",
    "\n",
    "`a = {}\n",
    "a[\"tên\"] = \"NTD\"\n",
    "a[\"tên\"] = \"Nguyễn Tâm Điền\"`\n",
    "\n",
    "a vẫn là một dictionary có một phần tử, phần tử đó có key là \"tên\" và giá trị của key đó là \"Nguyễn Tâm Điền\"\n",
    "\n",
    "<b>Hãy khai báo một dictionary không có phần tử nào, sau đó thêm một phần tử vào dictionary đó</b>"
   ]
  },
  {
   "cell_type": "code",
   "execution_count": 1,
   "id": "7573ebef",
   "metadata": {},
   "outputs": [
    {
     "name": "stdout",
     "output_type": "stream",
     "text": [
      "Nhập key: -1\n",
      "{}\n"
     ]
    }
   ],
   "source": [
    "a = {}\n",
    "while True:\n",
    "    key = input(\"Nhập key: \")\n",
    "    if key in a:\n",
    "        print(\"Key bị trùng,vui lòng nhập lại key!\")\n",
    "        continue\n",
    "    if key == \"-1\":\n",
    "        break\n",
    "    a[key] = input(\"Nhập giá trị: \")\n",
    "print(a)"
   ]
  },
  {
   "cell_type": "markdown",
   "id": "65c98825",
   "metadata": {},
   "source": [
    "### Truy xuất phần tử trong dictionary\n",
    "\n",
    "Cú pháp:\n",
    "\n",
    "`<tên dictionary>[<key>]`\n",
    "\n",
    "<b>Ví dụ:</b>\n",
    "\n",
    "`a = {\"tên\": \"Nguyễn Tâm Điền\", \"tuổi\": 13, \"giới tính\": \"Nam\"}\n",
    "print(a[\"tên\"])`\n",
    "\n",
    "Màn hình sẽ in: Nguyễn Tâm Điền\n",
    "\n",
    "<b>Hãy khai báo một dictionary rồi in ra màn hình một phần tử bất kỳ trong dictionary đó</b>"
   ]
  },
  {
   "cell_type": "code",
   "execution_count": 2,
   "id": "f6159385",
   "metadata": {},
   "outputs": [
    {
     "name": "stdout",
     "output_type": "stream",
     "text": [
      "hi\n",
      "hello\n",
      "3\n"
     ]
    }
   ],
   "source": [
    "D = {3:\"hi\",\"he\":\"hello\",5:3}\n",
    "for i in D:\n",
    "    print(D[i])"
   ]
  },
  {
   "cell_type": "markdown",
   "id": "afa92f87",
   "metadata": {},
   "source": [
    "### Sao chép dictionary\n",
    "\n",
    "##### Việc sao chép dictionary được thực hiện hệt như sao chép list, chúng ta cần phải sử dụng lệnh copy()"
   ]
  },
  {
   "cell_type": "markdown",
   "id": "ef7e800d",
   "metadata": {},
   "source": [
    "### Duyệt dictionary bằng lệnh for\n",
    "\n",
    "Cú pháp:\n",
    "\n",
    "`for <tên biến> in <tên dictionary>:`\n",
    "\n",
    "Biến sẽ có giá trị là từng key trong dictionary\n",
    "\n",
    "<b>Ví dụ:</b>\n",
    "\n",
    "`a = {\"tên\": \"Nguyễn Tâm Điền\", \"tuổi\": 13, \"giới tính\": \"Nam\"}\n",
    "for i in a:\n",
    "    print(i)`\n",
    "    \n",
    "Màn hình sẽ in ra:\n",
    "\n",
    "tên\n",
    "\n",
    "tuổi\n",
    "\n",
    "giới tính\n",
    "\n",
    "<b>Hãy khai báo một dictionary rồi in ra màn hình toàn bộ giá trị trong dictionary đó</b>"
   ]
  },
  {
   "cell_type": "code",
   "execution_count": 1,
   "id": "3bdd1508",
   "metadata": {},
   "outputs": [
    {
     "name": "stdout",
     "output_type": "stream",
     "text": [
      "Nguyễn Tâm Điền\n",
      "13\n",
      "Nam\n"
     ]
    }
   ],
   "source": [
    "a = {\"tên\": \"Nguyễn Tâm Điền\", \"tuổi\": 13, \"giới tính\": \"Nam\"}\n",
    "for i in a:\n",
    "    print(a[i])"
   ]
  },
  {
   "cell_type": "markdown",
   "id": "1982f4b1",
   "metadata": {},
   "source": [
    "### Bài tập"
   ]
  },
  {
   "cell_type": "markdown",
   "id": "3060a950",
   "metadata": {},
   "source": [
    "Viết chương trình đếm số lần xuất hiện của một từ trong một văn bản nhất định"
   ]
  },
  {
   "cell_type": "code",
   "execution_count": 6,
   "id": "af64832c",
   "metadata": {},
   "outputs": [
    {
     "name": "stdout",
     "output_type": "stream",
     "text": [
      "{'a': 3, 'anh': 5, 'tràng': 10, 'đã': 3, 'về': 3, 'chúng': 3, 'mày': 1, 'ơi': 4, 'bế': 2, 'em': 1, 'mấy': 2, 'uống': 1, 'rượu': 1, 'chưa': 1, 'đứa': 7, 'túm': 2, 'đằng': 3, 'trước': 3, 'sau': 2, 'cù': 1, 'kéo': 1, 'lôi': 1, 'chân': 1, 'không': 7, 'cho': 1, 'đi': 6, 'chỉ': 1, 'ngửa': 1, 'mặt': 4, 'lên': 5, 'cười': 2, 'hềnh': 1, 'hệch': 1, 'cái': 8, 'xóm': 3, 'ngụ': 1, 'cư': 1, 'tồi': 1, 'tàn': 1, 'ấy': 2, 'mỗi': 1, 'chiều': 3, 'lại': 2, 'xôn': 1, 'xao': 1, 'được': 1, 'một': 7, 'lúc': 2, 'nhưng': 1, 'độ': 1, 'này': 2, 'thì': 2, 'trẻ': 2, 'con': 3, 'nào': 3, 'buồn': 2, 'ra': 3, 'đón': 2, 'nữa': 2, 'nó': 2, 'ngồi': 1, 'ủ': 1, 'rũ': 1, 'dưới': 1, 'những': 5, 'xó': 1, 'đường': 2, 'nhúc': 1, 'nhích': 1, 'trong': 4, 'bóng': 2, 'nhá': 1, 'nhem': 1, 'từng': 1, 'bước': 2, 'mệt': 1, 'mỏi': 1, 'chiếc': 1, 'áo': 1, 'nâu': 1, 'tàng': 2, 'vắt': 1, 'sang': 1, 'bên': 2, 'cánh': 1, 'tay': 1, 'đầu': 3, 'trọc': 1, 'nhẵn': 1, 'chúi': 1, 'hình': 1, 'như': 5, 'lo': 1, 'lắng': 1, 'chật': 1, 'vật': 1, 'ngày': 1, 'đè': 1, 'xuống': 2, 'lưng': 2, 'to': 1, 'rộng': 1, 'gấu': 1, 'của': 3, 'hắn': 4, 'đói': 2, 'tràn': 1, 'đến': 1, 'tự': 1, 'gia': 1, 'đình': 1, 'từ': 1, 'vùng': 1, 'nam': 1, 'định': 1, 'thái': 1, 'bình': 1, 'đội': 1, 'chiếu': 1, 'lũ': 1, 'lượt': 1, 'bồng': 1, 'dắt': 1, 'díu': 1, 'nhau': 1, 'xanh': 1, 'xám': 1, 'ma': 1, 'và': 3, 'nằm': 2, 'ngổn': 1, 'ngang': 1, 'khắp': 1, 'lều': 1, 'chợ': 2, 'người': 6, 'chết': 1, 'ngả': 1, 'rạ': 1, 'buổi': 2, 'sáng': 2, 'làng': 1, 'làm': 1, 'đồng': 1, 'gặp': 1, 'ba': 2, 'bốn': 2, 'thây': 1, 'còng': 1, 'queo': 1, 'khí': 1, 'vẩn': 1, 'mùi': 2, 'ẩm': 1, 'thối': 1, 'rác': 1, 'rưởi': 1, 'gây': 1, 'xác': 1, 'giữa': 1, 'cảnh': 1, 'tối': 1, 'sầm': 1, 'vì': 1, 'khát': 1, 'bỗng': 1, 'thấy': 2, 'với': 1, 'đàn': 2, 'bà': 2, 'có': 2, 'vẻ': 2, 'gì': 1, 'phởn': 1, 'phơ': 1, 'khác': 1, 'thường': 1, 'tủm': 1, 'tỉm': 1, 'nụ': 1, 'mình': 1, 'hai': 1, 'mắt': 1, 'lấp': 1, 'lánh': 1, 'chừng': 1, 'thị': 2, 'cắp': 1, 'thúng': 1, 'hơi': 1, 'cúi': 1, 'nón': 1, 'rách': 1, 'nghiêng': 2, 'che': 1, 'khuất': 1, 'nửa': 1, 'rón': 1, 'rén': 1, 'e': 1, 'thẹn': 1, 'lạ': 1, 'vội': 2, 'chạy': 1, 'xem': 1, 'sợ': 1, 'đùa': 1, 'vàng': 1, 'nghiêm': 1, 'nét': 1, 'lắc': 1, 'hiệu': 1, 'bằng': 1, 'lòng': 1}\n"
     ]
    }
   ],
   "source": [
    "\"- A a a... Anh Tràng! Anh Tràng đã về chúng mày ơi! - Anh Tràng ơi bế em mấy... - Anh Tràng ơi đã uống rượu chưa? - Anh Tràng ơi!... Đứa túm đằng trước, đứa túm đằng sau, đứa cù, đứa kéo, đứa lôi chân không cho đi. Tràng chỉ ngửa mặt lên cười hềnh hệch. Cái xóm ngụ cư tồi tàn ấy mỗi chiều lại xôn xao lên được một lúc. Nhưng độ này thì trẻ con không đứa nào buồn ra đón Tràng nữa, chúng nó ngồi ủ rũ dưới những xó đường không buồn nhúc nhích. Trong bóng chiều nhá nhem, Tràng đi từng bước mệt mỏi, chiếc áo nâu tàng vắt sang một bên cánh tay, cái đầu trọc nhẵn chúi về đằng trước. Hình như những lo lắng, chật vật trong một ngày đè xuống cái lưng to rộng như lưng gấu của hắn. Cái đói đã tràn đến xóm này tự lúc nào. Những gia đình từ những vùng Nam Định, Thái Bình, đội chiếu lũ lượt bồng bế, dắt díu nhau lên xanh xám như những bóng ma, và nằm ngổn ngang khắp lều chợ. Người chết như ngả rạ. Không buổi sáng nào người trong làng đi chợ, đi làm đồng không gặp ba bốn cái thây nằm còng queo bên đường. Không khí vẩn lên mùi ẩm thối của rác rưởi và mùi gây của xác người. Giữa cái cảnh tối sầm lại vì đói khát ấy, một buổi chiều người trong xóm bỗng thấy Tràng về với một người đàn bà nữa. Mặt hắn có một vẻ gì phởn phơ khác thường. Hắn tủm tỉm cười nụ một mình và hai mắt thì sáng lên lấp lánh. Người đàn bà đi sau hắn chừng ba bốn bước. Thị cắp cái thúng con, đầu hơi cúi xuống, cái nón rách tàng nghiêng nghiêng che khuất đi nửa mặt. Thị có vẻ rón rén, e thẹn. Mấy đứa trẻ con thấy lạ vội chạy ra đón xem. Sợ chúng nó đùa như trước, Tràng vội vàng nghiêm nét mặt, lắc đầu ra hiệu không bằng lòng.\"\n",
    "\n"
   ]
  },
  {
   "cell_type": "markdown",
   "id": "57c6f1e7",
   "metadata": {},
   "source": [
    "Viết chương trình cho phép người dùng quản lý sản phẩm, gồm các chức năng sau: \n",
    "\n",
    "- Hiển thị danh sách sản phẩm\n",
    "- Thêm sản phẩm mới vào danh sách\n",
    "- Sửa tên của sản phẩm trong danh sách\n",
    "- Xoá một sản phẩm khỏi danh sách"
   ]
  },
  {
   "cell_type": "code",
   "execution_count": 2,
   "id": "8541b8c3",
   "metadata": {},
   "outputs": [
    {
     "name": "stdout",
     "output_type": "stream",
     "text": [
      "Nhập chức năng bạn muốn sử dụng: H là hiển thị sp, T là thêm sp , S là sửa sp ,X là xoá spS\n",
      "Vui lòng nhập món ăn cần sửa: Cơm cá kho tộ\n",
      "Vui lòng nhập tên mới của món ăn: Cơm cá kho\n",
      "---------------------------------------------------\n",
      "Nhập chức năng bạn muốn sử dụng: H là hiển thị sp, T là thêm sp , S là sửa sp ,X là xoá spX\n",
      "Vui lòng nhập món ăn cần xoá: Cơm cá kho tộ\n",
      "Món ăn chưa có trong Menu,vui lòng nhập lại: Cơm sườn xào chua ngọt\n",
      "Bạn có chắc chắn muốn xoá món ăn này không,nhập C nếu có: C\n",
      "---------------------------------------------------\n",
      "Nhập chức năng bạn muốn sử dụng: H là hiển thị sp, T là thêm sp , S là sửa sp ,X là xoá spT\n",
      "Vui lòng nhập món ăn cần thêm: Cơm sườn nướng\n",
      "---------------------------------------------------\n",
      "Nhập chức năng bạn muốn sử dụng: H là hiển thị sp, T là thêm sp , S là sửa sp ,X là xoá spH\n",
      "2 : Cơm cá kho\n",
      "3 : Cơm gà xào xả ớt\n",
      "4 : Cơm tôm rang hành lá\n",
      "1 : Cơm sườn nướng\n",
      "---------------------------------------------------\n",
      "Nhập chức năng bạn muốn sử dụng: H là hiển thị sp, T là thêm sp , S là sửa sp ,X là xoá sp0\n",
      "---------------------------------------------------\n",
      "Cảm ơn bạn đã sử dụng phần mềm của chúng tôi\n"
     ]
    }
   ],
   "source": [
    "Menu = {1:\"Cơm sườn xào chua ngọt\",2:\"Cơm cá kho tộ\",3:\"Cơm gà xào xả ớt\",4:\"Cơm tôm rang hành lá\"}\n",
    "\n",
    "def kiemtra(a,D):\n",
    "    for i in D:\n",
    "        if D[i] == a:\n",
    "            return True\n",
    "    return False\n",
    "\n",
    "def hienthi(D):\n",
    "    for i in D:\n",
    "        print(i,\":\",D[i])\n",
    "    print(\"---------------------------------------------------\")\n",
    "    \n",
    "def themsanpham(D):\n",
    "    san_pham = input(\"Vui lòng nhập món ăn cần thêm: \")\n",
    "    while kiemtra(san_pham,D):\n",
    "        san_pham = input(\"Món ăn đã có trong Menu,vui lòng nhập món khác: \")\n",
    "    for i in range(1,len(D)+2):\n",
    "        if i not in D:\n",
    "            D[i] = san_pham\n",
    "    print(\"---------------------------------------------------\")\n",
    "\n",
    "def suatensanpham(D):\n",
    "    san_pham = input(\"Vui lòng nhập món ăn cần sửa: \")\n",
    "    while not kiemtra(san_pham,D):\n",
    "        san_pham = input(\"Món ăn chưa có trong Menu,vui lòng nhập lại: \")\n",
    "    for i in D:\n",
    "        if D[i] == san_pham:\n",
    "            ten_moi = input(\"Vui lòng nhập tên mới của món ăn: \")\n",
    "            while kiemtra(ten_moi,D):\n",
    "                ten_moi = input(\"Món ăn đã có trong Menu,vui lòng nhập món khác: \")\n",
    "            D[i] = ten_moi\n",
    "            break\n",
    "    print(\"---------------------------------------------------\")\n",
    "    \n",
    "def xoasanpham(D):\n",
    "    san_pham = input(\"Vui lòng nhập món ăn cần xoá: \")\n",
    "    while not kiemtra(san_pham,D):\n",
    "        san_pham = input(\"Món ăn chưa có trong Menu,vui lòng nhập lại: \")\n",
    "    for i in D:\n",
    "        if D[i] == san_pham:\n",
    "            co = input(\"Bạn có chắc chắn muốn xoá món ăn này không,nhập C nếu có: \")\n",
    "            if co == \"C\":\n",
    "                D.pop(i)\n",
    "            break\n",
    "    print(\"---------------------------------------------------\")\n",
    "\n",
    "chuc_nang = input(\"Nhập chức năng bạn muốn sử dụng: H là hiển thị sp, T là thêm sp , S là sửa sp ,X là xoá sp: \")\n",
    "while chuc_nang != \"0\":\n",
    "    if chuc_nang == \"H\":\n",
    "        hienthi(Menu)\n",
    "    elif chuc_nang == \"T\":\n",
    "        themsanpham(Menu)\n",
    "    elif chuc_nang == \"S\":\n",
    "        suatensanpham(Menu)\n",
    "    elif chuc_nang == \"X\":\n",
    "        xoasanpham(Menu)\n",
    "    chuc_nang = input(\"Nhập chức năng bạn muốn sử dụng: H là hiển thị sp, T là thêm sp , S là sửa sp ,X là xoá sp: \")\n",
    "print(\"---------------------------------------------------\")\n",
    "print(\"Cảm ơn bạn đã sử dụng phần mềm của chúng tôi\")"
   ]
  },
  {
   "cell_type": "code",
   "execution_count": null,
   "id": "2730f126",
   "metadata": {},
   "outputs": [],
   "source": [
    "def xoasanpham(D):\n",
    "    san_pham = input(\"Vui lòng nhập món ăn: \")\n",
    "    while not kiemtra(san_pham,D):\n",
    "        san_pham = input(\"Món ăn chưa có trong Menu,vui lòng nhập lại: \")\n",
    "    for i in D:\n",
    "        if D[i] == san_pham:\n",
    "            D.pop(i)\n",
    "            \n",
    "def xoasanpham(D):\n",
    "    while True:\n",
    "        x = True\n",
    "        san_pham = input(\"Vui lòng nhập món ăn bạn muốn xoá: \")\n",
    "        for i in D:\n",
    "            if D[i] == san_pham:\n",
    "                co = input(\"Bạn có chắc chắn muốn xoá món ăn này không,nhập C nếu có: \")\n",
    "                if co == \"C\":\n",
    "                    D.pop(i)\n",
    "                x = False\n",
    "                break\n",
    "        if not x :\n",
    "            break\n",
    "    print(\"---------------------------------------------------\")"
   ]
  }
 ],
 "metadata": {
  "kernelspec": {
   "display_name": "Python 3 (ipykernel)",
   "language": "python",
   "name": "python3"
  },
  "language_info": {
   "codemirror_mode": {
    "name": "ipython",
    "version": 3
   },
   "file_extension": ".py",
   "mimetype": "text/x-python",
   "name": "python",
   "nbconvert_exporter": "python",
   "pygments_lexer": "ipython3",
   "version": "3.10.4"
  }
 },
 "nbformat": 4,
 "nbformat_minor": 5
}

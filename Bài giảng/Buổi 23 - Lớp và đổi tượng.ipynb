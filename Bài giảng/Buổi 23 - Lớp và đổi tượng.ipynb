{
 "cells": [
  {
   "cell_type": "markdown",
   "id": "1c805421",
   "metadata": {},
   "source": [
    "# Lớp và đối tượng\n",
    "\n",
    "### Lớp (class) là gì?\n",
    "\n",
    "Lớp (Class) là tập hợp tất cả các đối tượng có chung các thuộc tính và hành vi."
   ]
  },
  {
   "cell_type": "markdown",
   "id": "812bf15e",
   "metadata": {},
   "source": [
    "### Khai báo lớp\n",
    "\n",
    "`class <tên lớp>:\n",
    "    <khai báo biến>\n",
    "    <khai báo hàm>`\n",
    "    \n",
    "Ví dụ:\n",
    "\n",
    "`class giangvien:\n",
    "    ten = \"Nguyễn Tâm Điền\"\n",
    "    mon = \"Python căn bản\"\n",
    "    def inten(self):\n",
    "        print(self.ten)        \n",
    "dien = giangvien()\n",
    "print(dien.mon)\n",
    "dien.inten()`\n",
    "\n",
    "##### Lưu ý:\n",
    "\n",
    "- giangvien là 1 lớp\n",
    "- dien là 1 đối tượng có tất cả thuộc tính (có biến ten, mon và hàm inten) của lớp giangvien\n",
    "- inten là 1 hàm trong lớp giangvien\n",
    "- dien.mon là 1 biến trong đối tượng dien\n",
    "- dien.inten() là cách để gọi hàm inten trong đối tượng dien\n",
    "\n",
    "\n",
    "<b> Hãy chạy thử đoạn lệnh ở ví dụ: </b>"
   ]
  },
  {
   "cell_type": "code",
   "execution_count": 6,
   "id": "40598ff8",
   "metadata": {},
   "outputs": [
    {
     "name": "stdout",
     "output_type": "stream",
     "text": [
      "Vũ Ngọc Khánh\n",
      "Python nâng cao\n",
      "Nguyễn Tâm Điền\n",
      "Vũ Ngọc Khánh\n",
      "Môn: Python căn bản\n"
     ]
    }
   ],
   "source": [
    "class giangvien:\n",
    "    ten = \"Nguyễn Tâm Điền\"\n",
    "    mon = \"Python căn bản\"\n",
    "    def inten(self):\n",
    "        print(self.ten)\n",
    "    def inmon(self):\n",
    "        print(\"Môn:\",self.mon)\n",
    "dien = giangvien()\n",
    "khanh = giangvien()\n",
    "khanh.ten = \"Vũ Ngọc Khánh\"\n",
    "khanh.mon = \"Python nâng cao\"\n",
    "print(khanh.ten)\n",
    "print(khanh.mon)\n",
    "dien.inten()\n",
    "khanh.inten()\n",
    "dien.inmon()"
   ]
  },
  {
   "cell_type": "markdown",
   "id": "6c4daedf",
   "metadata": {},
   "source": [
    "<b> Hãy tạo 1 class hocvien với 1 biến và 1 def giúp in giá trị biến đó ra màn hình </b>"
   ]
  },
  {
   "cell_type": "code",
   "execution_count": 7,
   "id": "5358318d",
   "metadata": {},
   "outputs": [
    {
     "name": "stdout",
     "output_type": "stream",
     "text": [
      "Tên: Nguyễn Tâm Điền\n",
      "Điểm: 9\n",
      "18\n"
     ]
    }
   ],
   "source": [
    "class hocvien():\n",
    "    ten = \"Nguyễn Tâm Điền\"\n",
    "    diem = 9\n",
    "    def intendiem(self):\n",
    "        print(\"Tên:\",self.ten)\n",
    "        print(\"Điểm:\",self.diem)\n",
    "    def nhanheso(self,a):\n",
    "        self.diem = self.diem * a\n",
    "    def sosanhdiem(self,HV2):\n",
    "        if self.diem > HV2.diem:\n",
    "            print(self.ten)\n",
    "        else:\n",
    "            print(HV2.ten)\n",
    "    def capnhatdiem(self,diem):\n",
    "        if 0 <= diem <= 10:\n",
    "            self.diem = diem\n",
    "dien = hocvien()\n",
    "dien.intendiem()\n",
    "dien.nhanheso(2)\n",
    "print(dien.diem)"
   ]
  },
  {
   "cell_type": "markdown",
   "id": "b2481280",
   "metadata": {},
   "source": [
    "### Tham số self\n",
    "\n",
    "Tham số self là tham số được sử dụng khi khai báo các hàm trong lớp\n",
    "\n",
    "Tham số self miêu tả chính lớp ta đang xây dựng, giúp chúng ta sử dụng được những biến và hàm của lớp đó\n",
    "\n",
    "Ví dụ:\n",
    "\n",
    "`class giangvien:\n",
    "    ten = \"Nguyễn Tâm Điền\"\n",
    "    mon = \"Python căn bản\"\n",
    "    def doiten(self,ten):\n",
    "        self.ten = ten\n",
    "    def inten(self):\n",
    "        print(self.ten)        \n",
    "dien = giangvien()\n",
    "dien.doiten(\"NTD\")\n",
    "dien.inten()`\n",
    "\n",
    "Sau khi thực hiện đoạn code trên, giá trị của biến ten trong đối tượng dien đã bị thay đổi thành \"NTD\"\n",
    "\n",
    "<b> Hãy chạy thử đoạn lệnh ở ví dụ: </b>"
   ]
  },
  {
   "cell_type": "code",
   "execution_count": null,
   "id": "fd2f5d7c",
   "metadata": {},
   "outputs": [],
   "source": []
  },
  {
   "cell_type": "markdown",
   "id": "4dfd8d1d",
   "metadata": {},
   "source": [
    "<b> Hãy thêm 1 def vào class hocvien giúp thay đổi giá trị biến bất kỳ trong class </b>"
   ]
  },
  {
   "cell_type": "code",
   "execution_count": null,
   "id": "98d911c0",
   "metadata": {},
   "outputs": [],
   "source": []
  },
  {
   "cell_type": "markdown",
   "id": "b2909dd4",
   "metadata": {},
   "source": [
    "### Hàm \\_\\_init__\n",
    "\n",
    "Hàm \\_\\_init__ là hàm khởi tạo\n",
    "\n",
    "Ví dụ:\n",
    "\n",
    "`class giangvien:\n",
    "    def __init__(self,ten,mon):\n",
    "        self.ten = ten\n",
    "        self.mon = mon\n",
    "    def doiten(self,ten):\n",
    "        self.ten = ten\n",
    "    def inten(self):\n",
    "        print(self.ten)   \n",
    "dien = giangvien(\"Điền\",\"Python căn bản\")\n",
    "thang = giangvien(\"Thắng\",\"Python siêu cấp\")\n",
    "dien.inten()\n",
    "thang.inten()`\n",
    "\n",
    "<b> Hãy chạy thử đoạn lệnh ở ví dụ: </b>"
   ]
  },
  {
   "cell_type": "code",
   "execution_count": 8,
   "id": "f15266fb",
   "metadata": {},
   "outputs": [
    {
     "name": "stdout",
     "output_type": "stream",
     "text": [
      "Điền\n",
      "Thắng\n"
     ]
    }
   ],
   "source": [
    "class giangvien:\n",
    "    def __init__(self,ten,mon):\n",
    "        self.ten = ten\n",
    "        self.mon = mon\n",
    "    def doiten(self,ten):\n",
    "        self.ten = ten\n",
    "    def inten(self):\n",
    "        print(self.ten)   \n",
    "dien = giangvien(\"Điền\",\"Python căn bản\")\n",
    "thang = giangvien(\"Thắng\",\"Python siêu cấp\")\n",
    "dien.inten()\n",
    "thang.inten()"
   ]
  },
  {
   "cell_type": "markdown",
   "id": "9064cc0a",
   "metadata": {},
   "source": [
    "<b> Hãy thêm 1 def \\_\\_init__ vào class hocvien để khởi tạo tên và tuổi của học viên </b>"
   ]
  },
  {
   "cell_type": "code",
   "execution_count": 13,
   "id": "3e6a0dae",
   "metadata": {},
   "outputs": [
    {
     "name": "stdout",
     "output_type": "stream",
     "text": [
      "Nguyễn Tâm Điền 26\n",
      "Nguyễn Tâm Điền\n"
     ]
    }
   ],
   "source": [
    "class hocvien:\n",
    "    def __init__(self,ten,tuoi):\n",
    "        self.ten = ten\n",
    "        self.tuoi = tuoi\n",
    "    def sosanhtuoi(self,HV2):\n",
    "        if self.tuoi > HV2.tuoi:\n",
    "            print(self.ten)\n",
    "        else:\n",
    "            print(HV2.ten)\n",
    "dien = hocvien(\"Nguyễn Tâm Điền\",26)\n",
    "print(dien.ten,dien.tuoi)\n",
    "HV2 = hocvien(\"Mạc Sỹ Công\",18)\n",
    "dien.sosanhtuoi(HV2)"
   ]
  },
  {
   "cell_type": "markdown",
   "id": "d137f2f5",
   "metadata": {},
   "source": [
    "### Bài tập"
   ]
  },
  {
   "cell_type": "markdown",
   "id": "d243726c",
   "metadata": {},
   "source": [
    "Hãy xây dựng 1 class hình tròn có các thuộc tính sau:\n",
    "\n",
    "- biến x và y chứa tọa độ tâm đường tròn\n",
    "- biến r chứa bán kính đường chọn\n",
    "- hàm draw: để vẽ đường tròn"
   ]
  },
  {
   "cell_type": "code",
   "execution_count": 1,
   "id": "4121525f",
   "metadata": {},
   "outputs": [],
   "source": [
    "import turtle\n",
    "t = turtle.Turtle()\n",
    "class hinhtron():\n",
    "    def __init__(self,x,y,r):\n",
    "        self.x = x\n",
    "        self.y = y\n",
    "        self.r = r\n",
    "    def draw(self):\n",
    "        t.pu()\n",
    "        t.goto(self.x,self.y-self.r)\n",
    "        t.pd()\n",
    "        for i in range(360):\n",
    "            t.lt(1)\n",
    "            t.fd(self.r*3.14/180)\n",
    "        t.pu()\n",
    "        t.goto(self.x,self.y)\n",
    "a = hinhtron(50,50,50)\n",
    "a.draw()"
   ]
  },
  {
   "cell_type": "markdown",
   "id": "9017050f",
   "metadata": {},
   "source": [
    "Tạo một lớp phân số có các thuộc tính:\n",
    "\n",
    "- biến tử số và mẫu số\n",
    "- hàm cong: để cộng với một đối tượng khác có lớp phân số rồi trả về dối tượng có phân số mới\n",
    "- hàm tru: để trừ với một đối tượng khác có lớp phân số rồi trả về dối tượng có phân số mới\n",
    "- hàm nhan: để nhân với một đối tượng khác có lớp phân số rồi trả về dối tượng có phân số mới\n",
    "- hàm chia: để chia với một đối tượng khác có lớp phân số rồi trả về dối tượng có phân số mới\n",
    "- hàm toigian: để tối giản phân số rồi trả về dối tượng có phân số mới"
   ]
  },
  {
   "cell_type": "code",
   "execution_count": 12,
   "id": "2ae72d93",
   "metadata": {},
   "outputs": [
    {
     "name": "stdout",
     "output_type": "stream",
     "text": [
      "9 9\n",
      "-3 9\n",
      "2 9\n",
      "3 6\n",
      "1 2\n"
     ]
    }
   ],
   "source": [
    "class phanso():\n",
    "    def __init__(self,tu,mau):\n",
    "        self.tu = tu\n",
    "        self.mau = mau\n",
    "    def cong(self,psA):\n",
    "        tu_moi = self.tu * psA.mau + self.mau * psA.tu\n",
    "        mau_moi = self.mau * psA.mau\n",
    "        return phanso(tu_moi,mau_moi)\n",
    "    def tru(self,psA):\n",
    "        tu_moi = self.tu * psA.mau - self.mau * psA.tu\n",
    "        mau_moi = self.mau * psA.mau\n",
    "        return phanso(tu_moi,mau_moi)\n",
    "    def nhan(self,psA):\n",
    "        tu_moi = self.tu * psA.tu\n",
    "        mau_moi = self.mau * psA.mau\n",
    "        return phanso(tu_moi,mau_moi)\n",
    "    def chia(self,psA):\n",
    "        tu_moi = self.tu * psA.mau\n",
    "        mau_moi = self.mau * psA.tu\n",
    "        return phanso(tu_moi,mau_moi)\n",
    "    def toigian(self):\n",
    "        a = abs(self.tu)\n",
    "        b = abs(self.mau)\n",
    "        while a != b:\n",
    "            if a < b:\n",
    "                a, b = b, a\n",
    "            a = a - b    \n",
    "        tu_moi = int(self.tu/a)\n",
    "        mau_moi = int(self.mau/a)\n",
    "        return phanso(tu_moi,mau_moi)\n",
    "\n",
    "ps1 = phanso(1,3)\n",
    "ps2 = phanso(2,3)\n",
    "ps3 = ps1.cong(ps2)\n",
    "ps4 = ps1.tru(ps2)\n",
    "ps5 = ps1.nhan(ps2)\n",
    "ps6 = ps1.chia(ps2)\n",
    "ps7 = ps6.toigian()\n",
    "print(ps3.tu,ps3.mau)\n",
    "print(ps4.tu,ps4.mau)\n",
    "print(ps5.tu,ps5.mau)\n",
    "print(ps6.tu,ps6.mau)\n",
    "print(ps7.tu,ps7.mau)"
   ]
  },
  {
   "cell_type": "markdown",
   "id": "39a8cb80",
   "metadata": {},
   "source": [
    "Viết class NhanVien gồm các thuộc tính:\n",
    "\n",
    "<b> Các biến </b>\n",
    "\n",
    "- Tên\n",
    "- Tuổi\n",
    "- Địa chỉ\n",
    "- Tiền lương\n",
    "- Tổng số giờ làm\n",
    "\n",
    "<b> Các hàm </b>\n",
    "\n",
    "- nhap : Nhập các thông tin cho nhân viên từ bàn phím\n",
    "- in : In ra tất cả các thông tin của nhân viên\n",
    "- thuong: Tính toán và trả về số tiền thưởng của nhân viên theo công thức sau:\n",
    "\n",
    "    Nếu tổng số giờ làm của nhân viên >=200 thì thưởng = lương * 20%\n",
    "    \n",
    "    Nếu tổng số giờ làm của nhân viên <200 và >=100 thì thưởng = lương * 10%\n",
    "    \n",
    "    Nếu tổng số giờ làm của nhân viên <100 thì thưởng = 0"
   ]
  },
  {
   "cell_type": "code",
   "execution_count": 25,
   "id": "26d12a44",
   "metadata": {},
   "outputs": [
    {
     "name": "stdout",
     "output_type": "stream",
     "text": [
      "Nhập tên nhân viên: Nguyễn Tâm Điền\n",
      "Nhập tuổi nhân viên: 26\n",
      "Nhập địa chỉ nhân viên: Hà Nội\n",
      "Nhập lương nhân viên: 15000000\n",
      "Nhập giờ làm nhân viên: 200\n",
      "Nguyễn Tâm Điền\n",
      "26\n",
      "Hà Nội\n",
      "15000000\n",
      "200\n",
      "3000000.0\n"
     ]
    }
   ],
   "source": [
    "class nhanvien():\n",
    "    def __init__(self,ten,tuoi,dia_chi,luong,gio_lam):\n",
    "        self.ten = ten\n",
    "        self.tuoi = tuoi\n",
    "        self.dia_chi = dia_chi\n",
    "        self.luong = luong\n",
    "        self.gio_lam = gio_lam\n",
    "    def nhap(self):\n",
    "        self.ten = input(\"Nhập tên nhân viên: \")\n",
    "        self.tuoi = input(\"Nhập tuổi nhân viên: \")\n",
    "        self.dia_chi = input(\"Nhập địa chỉ nhân viên: \")\n",
    "        self.luong = int(input(\"Nhập lương nhân viên: \"))\n",
    "        self.gio_lam = int(input(\"Nhập giờ làm nhân viên: \"))\n",
    "    def In(self):\n",
    "        print(self.ten)\n",
    "        print(self.tuoi)\n",
    "        print(self.dia_chi)\n",
    "        print(self.luong)\n",
    "        print(self.gio_lam)\n",
    "    def thuong(self):\n",
    "        if self.gio_lam >= 200:\n",
    "            tien_thuong = self.luong * 0.2\n",
    "        elif self.gio_lam >= 100:\n",
    "            tien_thuong = self.luong * 0.1\n",
    "        else:\n",
    "            tien_thuong = 0\n",
    "        return tien_thuong\n",
    "        \n",
    "nv1 = nhanvien(1,2,3,4,5)\n",
    "nv1.nhap()\n",
    "nv1.In()\n",
    "print(nv1.thuong())"
   ]
  }
 ],
 "metadata": {
  "kernelspec": {
   "display_name": "Python 3 (ipykernel)",
   "language": "python",
   "name": "python3"
  },
  "language_info": {
   "codemirror_mode": {
    "name": "ipython",
    "version": 3
   },
   "file_extension": ".py",
   "mimetype": "text/x-python",
   "name": "python",
   "nbconvert_exporter": "python",
   "pygments_lexer": "ipython3",
   "version": "3.10.4"
  }
 },
 "nbformat": 4,
 "nbformat_minor": 5
}

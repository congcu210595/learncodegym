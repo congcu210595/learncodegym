{
 "cells": [
  {
   "cell_type": "markdown",
   "id": "5bc93fb0",
   "metadata": {},
   "source": [
    "# Thực hành nhập xuất dữ liệu & chuỗi\n",
    "\n",
    "### Bài tập tra cứu lệnh\n",
    "\n",
    "Nhập vào một chuỗi, kiểm tra xem chuỗi đó có ký tự nào là chữ in hoa hay không, nếu có thì in True, không có thì in False"
   ]
  },
  {
   "cell_type": "code",
   "execution_count": 3,
   "id": "4b3df2ba",
   "metadata": {},
   "outputs": [
    {
     "name": "stdout",
     "output_type": "stream",
     "text": [
      "Nhập chuỗi: gggg1H\n",
      "True\n"
     ]
    }
   ],
   "source": [
    "chuoi = input(\"Nhập chuỗi: \")\n",
    "a = not chuoi.islower()\n",
    "print(a)"
   ]
  },
  {
   "cell_type": "markdown",
   "id": "e14eae7c",
   "metadata": {},
   "source": [
    "Nhập vào một chuỗi, kiểm tra xem chuỗi đó có ký tự nào là chữ in thường hay không, nếu có thì in True, không có thì in False"
   ]
  },
  {
   "cell_type": "code",
   "execution_count": 4,
   "id": "ab00180c",
   "metadata": {},
   "outputs": [
    {
     "name": "stdout",
     "output_type": "stream",
     "text": [
      "Nhập chuỗi: haHH1\n",
      "True\n"
     ]
    }
   ],
   "source": [
    "chuoi = input(\"Nhập chuỗi: \")\n",
    "a = not chuoi.isupper()\n",
    "print(a)"
   ]
  },
  {
   "cell_type": "markdown",
   "id": "eab86ecf",
   "metadata": {},
   "source": [
    "Nhập vào một chuỗi a và chuỗi b, tìm vị trí đầu tiên xuất hiện chuỗi b trong chuỗi a"
   ]
  },
  {
   "cell_type": "code",
   "execution_count": 25,
   "id": "051eb4af",
   "metadata": {
    "scrolled": true
   },
   "outputs": [
    {
     "name": "stdout",
     "output_type": "stream",
     "text": [
      "Nhập chuỗi a : hom nay la thu ba\n",
      "Nhập chuỗi b : ba\n",
      "15\n"
     ]
    }
   ],
   "source": [
    "a = input(\"Nhập chuỗi a : \")\n",
    "b = input(\"Nhập chuỗi b : \")\n",
    "c = a.find(b)\n",
    "print(c)\n"
   ]
  },
  {
   "cell_type": "markdown",
   "id": "9239bc4e",
   "metadata": {},
   "source": [
    "Nhập vào một chuỗi a, hãy xóa từ đầu tiên trong chuỗi a, rồi in ra màn hình"
   ]
  },
  {
   "cell_type": "code",
   "execution_count": 19,
   "id": "90967cd9",
   "metadata": {},
   "outputs": [
    {
     "name": "stdout",
     "output_type": "stream",
     "text": [
      "Nhập chuỗi a : Hôm nay là chủ nhật\n",
      "nay là chủ nhật\n"
     ]
    }
   ],
   "source": [
    "a = input(\"Nhập chuỗi a : \")\n",
    "b = a.find(\" \")\n",
    "c = a[b+1:]\n",
    "print(c)"
   ]
  },
  {
   "cell_type": "markdown",
   "id": "05b74fb4",
   "metadata": {},
   "source": [
    "### Bài 1\n",
    "\n",
    "Nhập vào một chuỗi, đếm xem có bao nhiêu từ trong chuỗi kết thúc bằng chữ n"
   ]
  },
  {
   "cell_type": "code",
   "execution_count": 32,
   "id": "d126675c",
   "metadata": {},
   "outputs": [
    {
     "name": "stdout",
     "output_type": "stream",
     "text": [
      "Nhập chuỗi a : mot con vit xoe ra hai cai chan\n",
      "2\n"
     ]
    }
   ],
   "source": [
    "a = input(\"Nhập chuỗi a : \")\n",
    "b = a.count(\"n \")\n",
    "c = a.endswith(\"n\")\n",
    "\n",
    "if c == True:\n",
    "    d = b + 1\n",
    "else:\n",
    "    d = b\n",
    "print(d)"
   ]
  },
  {
   "cell_type": "markdown",
   "id": "53a78d35",
   "metadata": {},
   "source": [
    "### Bài 2\n",
    "\n",
    "Nhập vào một chuỗi, kiểm tra xem chuỗi đó có ký tự hoa hoặc ký tự thường hay không."
   ]
  },
  {
   "cell_type": "code",
   "execution_count": 7,
   "id": "f5be8c39",
   "metadata": {},
   "outputs": [
    {
     "name": "stdout",
     "output_type": "stream",
     "text": [
      "Nhập vào một chuỗi:asfasf\n",
      "True\n"
     ]
    }
   ],
   "source": [
    "chuoi = input(\"Nhập vào một chuỗi:\")\n",
    "chuoi = chuoi.upper()\n",
    "print(chuoi.isupper())"
   ]
  },
  {
   "cell_type": "markdown",
   "id": "64ca662e",
   "metadata": {},
   "source": [
    "### Bài 3\n",
    "\n",
    "Nhập vào một chuỗi, kiểm tra tính đối xứng của chuỗi đó"
   ]
  },
  {
   "cell_type": "code",
   "execution_count": 3,
   "id": "749f4136",
   "metadata": {},
   "outputs": [
    {
     "name": "stdout",
     "output_type": "stream",
     "text": [
      "True\n"
     ]
    }
   ],
   "source": [
    "a = \"fghhgf\"\n",
    "b = len(a)\n",
    "c = True\n",
    "for i in range(b):\n",
    "    if a[i] != a[b - i - 1]:\n",
    "        c = False\n",
    "print(c) "
   ]
  },
  {
   "cell_type": "markdown",
   "id": "85dd8fef",
   "metadata": {},
   "source": [
    "### Bài 4\n",
    "\n",
    "Nhập vào một chuỗi, in ra các ký tự trong chuỗi và nếu là ký tự hoa thì in kèm True, ký tự thường thì in kèm False"
   ]
  },
  {
   "cell_type": "code",
   "execution_count": 16,
   "id": "0d099247",
   "metadata": {},
   "outputs": [
    {
     "name": "stdout",
     "output_type": "stream",
     "text": [
      "Nhập chuỗi a : sfAHDHI\n",
      "s : False\n",
      "f : False\n",
      "A : True\n",
      "H : True\n",
      "D : True\n",
      "H : True\n",
      "I : True\n"
     ]
    }
   ],
   "source": [
    "a = input(\"Nhập chuỗi a : \")\n",
    "b = len(a)\n",
    "\n",
    "for i in range (b):\n",
    "    x = str(a[i])\n",
    "    if x.isupper() == True:\n",
    "        print(x,\": True\")\n",
    "    else:\n",
    "        print(x,\": False\")"
   ]
  },
  {
   "cell_type": "markdown",
   "id": "1373dc74",
   "metadata": {},
   "source": [
    "### Bài 5\n",
    "\n",
    "Nhập vào một chuỗi, tìm các ký tự chỉ xuất hiện một lần trong chuỗi (nếu xuất hiện 1 lần in true, xuất hiện nhiều lần in false)\n",
    "\n",
    "Ví dụ:\n",
    "\n",
    "Nhập chuỗi: \"ABAbc\"\n",
    "\n",
    "In:\n",
    "\n",
    "A: False\n",
    "\n",
    "B: True\n",
    "\n",
    "A: False\n",
    "\n",
    "b: True\n",
    "\n",
    "c: True"
   ]
  },
  {
   "cell_type": "code",
   "execution_count": 18,
   "id": "a93bc53d",
   "metadata": {},
   "outputs": [
    {
     "name": "stdout",
     "output_type": "stream",
     "text": [
      "Nhập chuỗi a : ABAbc\n",
      "A : False\n",
      "B : True\n",
      "A : False\n",
      "b : True\n",
      "c : True\n"
     ]
    }
   ],
   "source": [
    "a = input(\"Nhập chuỗi a : \")\n",
    "b = len(a)\n",
    "\n",
    "for i in range (b):\n",
    "    x = str(a[i])\n",
    "    if a.count(x) == 1:\n",
    "        print(x,\": True\")\n",
    "    else:\n",
    "        print(x,\": False\")"
   ]
  },
  {
   "cell_type": "markdown",
   "id": "69bebf4c",
   "metadata": {},
   "source": [
    "### Bài 6\n",
    "\n",
    "Nhập vào một chuỗi, kiểm tra trong chuỗi có con số hay không, nếu có in True, không có in False"
   ]
  },
  {
   "cell_type": "code",
   "execution_count": 12,
   "id": "1b4eab4f",
   "metadata": {
    "scrolled": true
   },
   "outputs": [
    {
     "name": "stdout",
     "output_type": "stream",
     "text": [
      "Nhập chuỗi a : 2153125636\n",
      "True\n"
     ]
    }
   ],
   "source": [
    "a = input(\"Nhập chuỗi a : \")\n",
    "b = len(a)\n",
    "c = \"False\"\n",
    "for i in range (b):\n",
    "    x = str(a[i])\n",
    "    if x.isdigit() == True:\n",
    "        c = \"True\"\n",
    "print(c)\n",
    "    "
   ]
  },
  {
   "cell_type": "markdown",
   "id": "efadcf06",
   "metadata": {},
   "source": [
    "# Bài 7\n",
    "\n",
    "Nhập vào một chuỗi, tách những con số có trong chuỗi ra rồi tính tổng của chúng\n",
    "\n",
    "In tổng lên màn hình"
   ]
  },
  {
   "cell_type": "code",
   "execution_count": 14,
   "id": "a34e349d",
   "metadata": {
    "scrolled": true
   },
   "outputs": [
    {
     "name": "stdout",
     "output_type": "stream",
     "text": [
      "Nhập chuỗi a : ggg1234\n",
      "1\n",
      "2\n",
      "3\n",
      "4\n",
      "Tổng các con số =  10\n"
     ]
    }
   ],
   "source": [
    "a = input(\"Nhập chuỗi a : \")\n",
    "b = len(a)\n",
    "c = 0\n",
    "for i in range (b):\n",
    "    x = str(a[i])\n",
    "    if x.isdigit() == True:\n",
    "        y = int(x)\n",
    "        c += y\n",
    "        print(y)\n",
    "print(\"Tổng các con số = \",c)\n",
    "        \n",
    "\n",
    "    "
   ]
  },
  {
   "cell_type": "markdown",
   "id": "e951779d",
   "metadata": {},
   "source": [
    "### Bài 8\n",
    "\n",
    "Nhập vào một chuỗi, đảo ngược chuỗi đã nhập rồi in ra màn hình"
   ]
  },
  {
   "cell_type": "code",
   "execution_count": 4,
   "id": "9305f0f1",
   "metadata": {
    "scrolled": true
   },
   "outputs": [
    {
     "name": "stdout",
     "output_type": "stream",
     "text": [
      "dlrow olleh\n"
     ]
    }
   ],
   "source": [
    "a = \"hello world\"\n",
    "b = a[::-1]\n",
    "print(b)"
   ]
  },
  {
   "cell_type": "markdown",
   "id": "04194b5c",
   "metadata": {},
   "source": [
    "### Bài 9\n",
    "\n",
    "Nhập vào một chuỗi, kiểm tra xem mỗi từ trong chuỗi có được viết hoa chữ cái đầu hay không, nếu tất cả đều được viết hoa thì in ra True, còn không thì in ra False\n",
    "\n",
    "Trong trường hợp là False, hãy viết hoa tất cả các chữ cái đầu của mỗi từ rồi in lên màn hình\n",
    "\n",
    "Cách làm thông thường:"
   ]
  },
  {
   "cell_type": "code",
   "execution_count": 3,
   "id": "9f947c7d",
   "metadata": {},
   "outputs": [
    {
     "name": "stdout",
     "output_type": "stream",
     "text": [
      "Nhập chuỗi a : A CDF\n",
      "True\n"
     ]
    }
   ],
   "source": [
    "a = input(\"Nhập chuỗi a : \")\n",
    "b = a.split()\n",
    "x = \"True\"\n",
    "for i in range(len(b)):\n",
    "    c = b[i][0]\n",
    "    if c.isupper() == False:\n",
    "        x = \"False\"\n",
    "print(x)\n",
    "        "
   ]
  },
  {
   "cell_type": "markdown",
   "id": "f43e32af",
   "metadata": {},
   "source": [
    "Cách sử dụng lệnh có sẵn:"
   ]
  },
  {
   "cell_type": "code",
   "execution_count": 9,
   "id": "714f1412",
   "metadata": {},
   "outputs": [
    {
     "name": "stdout",
     "output_type": "stream",
     "text": [
      "Nhập chuỗi a : Bai Ca\n",
      "True\n"
     ]
    }
   ],
   "source": [
    "a = input(\"Nhập chuỗi a : \")\n",
    "print(a.istitle())"
   ]
  }
 ],
 "metadata": {
  "kernelspec": {
   "display_name": "Python 3 (ipykernel)",
   "language": "python",
   "name": "python3"
  },
  "language_info": {
   "codemirror_mode": {
    "name": "ipython",
    "version": 3
   },
   "file_extension": ".py",
   "mimetype": "text/x-python",
   "name": "python",
   "nbconvert_exporter": "python",
   "pygments_lexer": "ipython3",
   "version": "3.10.4"
  }
 },
 "nbformat": 4,
 "nbformat_minor": 5
}
